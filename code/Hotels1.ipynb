{
  "nbformat": 4,
  "nbformat_minor": 0,
  "metadata": {
    "colab": {
      "name": "Cach1_Hotels.ipynb",
      "provenance": [],
      "collapsed_sections": []
    },
    "kernelspec": {
      "name": "python3",
      "display_name": "Python 3"
    },
    "language_info": {
      "name": "python"
    }
  },
  "cells": [
    {
      "cell_type": "code",
      "metadata": {
        "id": "0BbQi3q2lxib"
      },
      "source": [
        "#Dua tren rating\n",
        "import numpy as np\n",
        "import pandas as pd\n",
        "from sklearn.metrics.pairwise import cosine_similarity\n",
        "from sklearn.metrics import mean_squared_error\n",
        "from sklearn.model_selection import train_test_split\n",
        "from sklearn.feature_extraction.text import TfidfVectorizer\n",
        "from sklearn.metrics.pairwise import linear_kernel"
      ],
      "execution_count": 1,
      "outputs": []
    },
    {
      "cell_type": "code",
      "metadata": {
        "colab": {
          "base_uri": "https://localhost:8080/",
          "height": 845
        },
        "id": "zw0y9Cb_mJ-y",
        "outputId": "268b7aae-03d0-402d-810d-aace63b0d665"
      },
      "source": [
        "data = pd.read_csv('datasets_hotels.csv')\n",
        "data.head()"
      ],
      "execution_count": 2,
      "outputs": [
        {
          "output_type": "execute_result",
          "data": {
            "text/html": [
              "<div>\n",
              "<style scoped>\n",
              "    .dataframe tbody tr th:only-of-type {\n",
              "        vertical-align: middle;\n",
              "    }\n",
              "\n",
              "    .dataframe tbody tr th {\n",
              "        vertical-align: top;\n",
              "    }\n",
              "\n",
              "    .dataframe thead th {\n",
              "        text-align: right;\n",
              "    }\n",
              "</style>\n",
              "<table border=\"1\" class=\"dataframe\">\n",
              "  <thead>\n",
              "    <tr style=\"text-align: right;\">\n",
              "      <th></th>\n",
              "      <th>id_hotels</th>\n",
              "      <th>name</th>\n",
              "      <th>rating</th>\n",
              "      <th>number_of_ratings</th>\n",
              "      <th>rating_title</th>\n",
              "      <th>url</th>\n",
              "      <th>price</th>\n",
              "      <th>room_type</th>\n",
              "      <th>adress</th>\n",
              "      <th>location</th>\n",
              "      <th>Distance</th>\n",
              "      <th>Content</th>\n",
              "      <th>price_for</th>\n",
              "      <th>People numbers</th>\n",
              "    </tr>\n",
              "  </thead>\n",
              "  <tbody>\n",
              "    <tr>\n",
              "      <th>0</th>\n",
              "      <td>0</td>\n",
              "      <td>Lan Vy Hotel</td>\n",
              "      <td>9.7</td>\n",
              "      <td>37 reviews</td>\n",
              "      <td>Fabulous</td>\n",
              "      <td>https://www.booking.com/hotel/vn/lan-vy-can-th...</td>\n",
              "      <td>23</td>\n",
              "      <td>Superior Double Room</td>\n",
              "      <td>97D Pham Ngoc Thach, Cần Thơ, Việt Nam</td>\n",
              "      <td>Ninh Kiều</td>\n",
              "      <td>1.3 km from centre</td>\n",
              "      <td>Lan Vy Hotel is located in Can Tho. Only 1.3 k...</td>\n",
              "      <td>1 night, 1 adult</td>\n",
              "      <td>1 double bed</td>\n",
              "    </tr>\n",
              "    <tr>\n",
              "      <th>1</th>\n",
              "      <td>1</td>\n",
              "      <td>Amazon 1</td>\n",
              "      <td>7.9</td>\n",
              "      <td>301 reviews</td>\n",
              "      <td>Good</td>\n",
              "      <td>https://www.booking.com/hotel/vn/amazon-1.en-g...</td>\n",
              "      <td>5</td>\n",
              "      <td>Bed in 4-Bed Dormitory Room</td>\n",
              "      <td>88/24 Lê Lai, An Phú, Ninh Kiều, Thành phố Cần...</td>\n",
              "      <td>Ninh Kiều</td>\n",
              "      <td>0.4 km from centre\\n</td>\n",
              "      <td>Situated in Can Tho and with Vincom Plaza Xuan...</td>\n",
              "      <td>1 night, 1 adult</td>\n",
              "      <td>1 bunk bed</td>\n",
              "    </tr>\n",
              "    <tr>\n",
              "      <th>2</th>\n",
              "      <td>2</td>\n",
              "      <td>VẠN LỘC HOTEL</td>\n",
              "      <td>8.4</td>\n",
              "      <td>342 reviews</td>\n",
              "      <td>Very good</td>\n",
              "      <td>https://www.booking.com/hotel/vn/van-loc.en-gb...</td>\n",
              "      <td>15</td>\n",
              "      <td>Standard King Room</td>\n",
              "      <td>76 Dong Khoi Street, Cần Thơ, Việt Nam</td>\n",
              "      <td>Ninh Kiều</td>\n",
              "      <td>0.4 km from centre\\r</td>\n",
              "      <td>Set in Can Tho, 800 metres from Ninh Kieu Pier...</td>\n",
              "      <td>1 night, 1 adult</td>\n",
              "      <td>1 large double bed</td>\n",
              "    </tr>\n",
              "    <tr>\n",
              "      <th>3</th>\n",
              "      <td>3</td>\n",
              "      <td>CALI HOTEL</td>\n",
              "      <td>7.7</td>\n",
              "      <td>285 reviews</td>\n",
              "      <td>Good</td>\n",
              "      <td>https://www.booking.com/hotel/vn/cali-can-tho1...</td>\n",
              "      <td>14</td>\n",
              "      <td>Standard King Room</td>\n",
              "      <td>46 Lương Định Của, Phường Cái Khế, , Cái Khế, ...</td>\n",
              "      <td>Ninh Kiều</td>\n",
              "      <td>1.3 km from centre\\r</td>\n",
              "      <td>Located in Can Tho, within 1.1 km of Vincom Pl...</td>\n",
              "      <td>1 night, 1 adult</td>\n",
              "      <td>1 large double bed</td>\n",
              "    </tr>\n",
              "    <tr>\n",
              "      <th>4</th>\n",
              "      <td>4</td>\n",
              "      <td>Mekong Rose Hotel</td>\n",
              "      <td>8.3</td>\n",
              "      <td>81 reviews</td>\n",
              "      <td>Very good</td>\n",
              "      <td>https://www.booking.com/hotel/vn/mekong-rose-n...</td>\n",
              "      <td>11</td>\n",
              "      <td>Economy Double Room</td>\n",
              "      <td>59-61 Ly Hong Thanh, P. Cai Khe, Q. Ninh Kieu,...</td>\n",
              "      <td>Ninh Kiều</td>\n",
              "      <td>1.4 km from centre\\r</td>\n",
              "      <td>Featuring a terrace, Mekong Rose Hotel is loca...</td>\n",
              "      <td>1 night, 1 adult</td>\n",
              "      <td>1 double bed</td>\n",
              "    </tr>\n",
              "  </tbody>\n",
              "</table>\n",
              "</div>"
            ],
            "text/plain": [
              "   id_hotels               name  ...         price_for      People numbers\n",
              "0          0       Lan Vy Hotel  ...  1 night, 1 adult        1 double bed\n",
              "1          1           Amazon 1  ...  1 night, 1 adult          1 bunk bed\n",
              "2          2      VẠN LỘC HOTEL  ...  1 night, 1 adult  1 large double bed\n",
              "3          3         CALI HOTEL  ...  1 night, 1 adult  1 large double bed\n",
              "4          4  Mekong Rose Hotel  ...  1 night, 1 adult        1 double bed\n",
              "\n",
              "[5 rows x 14 columns]"
            ]
          },
          "metadata": {},
          "execution_count": 2
        }
      ]
    },
    {
      "cell_type": "code",
      "metadata": {
        "id": "u7b0DVC7fQ5q"
      },
      "source": [
        "data['rating'] = data['rating'].astype(str)"
      ],
      "execution_count": 3,
      "outputs": []
    },
    {
      "cell_type": "code",
      "metadata": {
        "id": "yNBtdK1LmSEL",
        "colab": {
          "base_uri": "https://localhost:8080/"
        },
        "outputId": "d3fcf756-9078-4528-e34f-98930cb2e44e"
      },
      "source": [
        "tfidf = TfidfVectorizer()\n",
        "data['rating'] = data['rating'].fillna('')\n",
        "#Xây dựng ma trận TF-IDF bắt buộc bằng cách áp dụng phương thức fit_transform trên tính năng tổng quan\n",
        "overview_matrix = tfidf.fit_transform(data['rating'])\n",
        "#Xuất ra hình dạng của tfidf_matrix\n",
        "overview_matrix.shape"
      ],
      "execution_count": 7,
      "outputs": [
        {
          "output_type": "execute_result",
          "data": {
            "text/plain": [
              "(461, 1)"
            ]
          },
          "metadata": {},
          "execution_count": 7
        }
      ]
    },
    {
      "cell_type": "code",
      "metadata": {
        "colab": {
          "base_uri": "https://localhost:8080/"
        },
        "id": "0xAjO2thmi56",
        "outputId": "681ccd13-634c-4d57-ceba-42c3dd49fef3"
      },
      "source": [
        "similarity_matrix = linear_kernel(overview_matrix,overview_matrix)\n",
        "similarity_matrix"
      ],
      "execution_count": 8,
      "outputs": [
        {
          "output_type": "execute_result",
          "data": {
            "text/plain": [
              "array([[0., 0., 0., ..., 0., 0., 0.],\n",
              "       [0., 0., 0., ..., 0., 0., 0.],\n",
              "       [0., 0., 0., ..., 0., 0., 0.],\n",
              "       ...,\n",
              "       [0., 0., 0., ..., 0., 0., 0.],\n",
              "       [0., 0., 0., ..., 0., 0., 0.],\n",
              "       [0., 0., 0., ..., 0., 0., 0.]])"
            ]
          },
          "metadata": {},
          "execution_count": 8
        }
      ]
    },
    {
      "cell_type": "code",
      "metadata": {
        "id": "Ppeeq-x_mlZB",
        "colab": {
          "base_uri": "https://localhost:8080/"
        },
        "outputId": "2f28af74-8c25-4d4b-ba0f-fc837fbd2f5a"
      },
      "source": [
        "#lập bản đồ chỉ số khách sạn\n",
        "mapping = pd.Series(data.index,index = data['rating'])\n",
        "mapping"
      ],
      "execution_count": 9,
      "outputs": [
        {
          "output_type": "execute_result",
          "data": {
            "text/plain": [
              "rating\n",
              "9.7      0\n",
              "7.9      1\n",
              "8.4      2\n",
              "7.7      3\n",
              "8.3      4\n",
              "      ... \n",
              "8.1    456\n",
              "9.6    457\n",
              "8.8    458\n",
              "7.8    459\n",
              "6.4    460\n",
              "Length: 461, dtype: int64"
            ]
          },
          "metadata": {},
          "execution_count": 9
        }
      ]
    },
    {
      "cell_type": "code",
      "metadata": {
        "id": "nzPZqhHOmoSo"
      },
      "source": [
        "def recommend_hotel_based_on_plot(hotel_input):\n",
        "  hotel_index = mapping[hotel_input]\n",
        "  #nhận các giá trị tương tự với khách sạn khác\n",
        "  #điểm tương tự là danh sách chỉ số và ma trận tương tự\n",
        "  similarity_score = list(enumerate(similarity_matrix[hotel_index]))\n",
        "  #sắp xếp theo thứ tự giảm dần điểm tương đồng của khách sạn được nhập với tất cả các khách sạn khác\n",
        "  similarity_score = sorted(similarity_score, key=lambda x: x[0], reverse=True)\n",
        "  # Nhận điểm của 5 khách sạn giống nhau nhất. Bỏ qua khách sạn đầu tiên.\n",
        "  similarity_score = similarity_score[0:5]\n",
        "  #trả về tên khách sạn bằng cách sử dụng chuỗi ánh xạ\n",
        "  hotel_indices = [i[0] for i in similarity_score]\n",
        "  return (data[['name','rating']].iloc[hotel_indices])"
      ],
      "execution_count": 13,
      "outputs": []
    },
    {
      "cell_type": "code",
      "metadata": {
        "id": "WCNTFdm8mwcm",
        "colab": {
          "base_uri": "https://localhost:8080/",
          "height": 203
        },
        "outputId": "4ebef79e-8023-47da-9f4a-e7bc2895e7a7"
      },
      "source": [
        "recommend_hotel_based_on_plot('8.1')"
      ],
      "execution_count": 14,
      "outputs": [
        {
          "output_type": "execute_result",
          "data": {
            "text/html": [
              "<div>\n",
              "<style scoped>\n",
              "    .dataframe tbody tr th:only-of-type {\n",
              "        vertical-align: middle;\n",
              "    }\n",
              "\n",
              "    .dataframe tbody tr th {\n",
              "        vertical-align: top;\n",
              "    }\n",
              "\n",
              "    .dataframe thead th {\n",
              "        text-align: right;\n",
              "    }\n",
              "</style>\n",
              "<table border=\"1\" class=\"dataframe\">\n",
              "  <thead>\n",
              "    <tr style=\"text-align: right;\">\n",
              "      <th></th>\n",
              "      <th>name</th>\n",
              "      <th>rating</th>\n",
              "    </tr>\n",
              "  </thead>\n",
              "  <tbody>\n",
              "    <tr>\n",
              "      <th>13</th>\n",
              "      <td>Song Ngư Pisces Homestay</td>\n",
              "      <td>8.9</td>\n",
              "    </tr>\n",
              "    <tr>\n",
              "      <th>12</th>\n",
              "      <td>Linh Phuong 3 Hotel</td>\n",
              "      <td>8.3</td>\n",
              "    </tr>\n",
              "    <tr>\n",
              "      <th>11</th>\n",
              "      <td>Linh Phuong 2 Hotel</td>\n",
              "      <td>8.1</td>\n",
              "    </tr>\n",
              "    <tr>\n",
              "      <th>10</th>\n",
              "      <td>Mekong Delta Ricefield Lodge</td>\n",
              "      <td>9.9</td>\n",
              "    </tr>\n",
              "    <tr>\n",
              "      <th>9</th>\n",
              "      <td>Anh Dao Mekong 2 Hotel</td>\n",
              "      <td>8.1</td>\n",
              "    </tr>\n",
              "  </tbody>\n",
              "</table>\n",
              "</div>"
            ],
            "text/plain": [
              "                            name rating\n",
              "13      Song Ngư Pisces Homestay    8.9\n",
              "12           Linh Phuong 3 Hotel    8.3\n",
              "11           Linh Phuong 2 Hotel    8.1\n",
              "10  Mekong Delta Ricefield Lodge    9.9\n",
              "9         Anh Dao Mekong 2 Hotel    8.1"
            ]
          },
          "metadata": {},
          "execution_count": 14
        }
      ]
    },
    {
      "cell_type": "code",
      "metadata": {
        "id": "XJrwS7GKnchB"
      },
      "source": [
        "data['price'] = data['price'].astype(str)"
      ],
      "execution_count": 17,
      "outputs": []
    },
    {
      "cell_type": "code",
      "metadata": {
        "id": "jrrKCfDKh76f"
      },
      "source": [
        "#Theo gia \n",
        "tfidf = TfidfVectorizer()\n",
        "data['price'] = data['price'].fillna('')\n",
        "\n",
        "overview_matrix = tfidf.fit_transform(data['price'])\n",
        "\n",
        "overview_matrix.shape\n",
        "\n",
        "similarity_matrix = linear_kernel(overview_matrix,overview_matrix)\n",
        "similarity_matrix\n",
        "\n",
        "mapping = pd.Series(data.index,index = data['price'])\n",
        "mapping\n",
        "\n",
        "def recommend_hotel_based_on_plot(hotel_input):\n",
        "  hotel_index = mapping[hotel_input]\n",
        "\n",
        "  similarity_score = list(enumerate(similarity_matrix[hotel_index]))\n",
        "\n",
        "  similarity_score = sorted(similarity_score, key=lambda x: x[0], reverse=True)\n",
        "\n",
        "  similarity_score = similarity_score[1:6]\n",
        "\n",
        "  hotel_indices = [i[0] for i in similarity_score]\n",
        "  return (data['name'].iloc[hotel_indices])"
      ],
      "execution_count": 18,
      "outputs": []
    },
    {
      "cell_type": "code",
      "metadata": {
        "colab": {
          "base_uri": "https://localhost:8080/"
        },
        "id": "DKgGMqY-iMu0",
        "outputId": "6fd5a116-de24-4d72-cc4f-4666b6bc3a2b"
      },
      "source": [
        "recommend_hotel_based_on_plot('23')"
      ],
      "execution_count": 20,
      "outputs": [
        {
          "output_type": "execute_result",
          "data": {
            "text/plain": [
              "17        Nam Bo Boutique Hotel\n",
              "16    Con Khuong Resort Can Tho\n",
              "15         Anh Dao Mekong Hotel\n",
              "14          Nesta Can Tho Hotel\n",
              "13     Song Ngư Pisces Homestay\n",
              "Name: name, dtype: object"
            ]
          },
          "metadata": {},
          "execution_count": 20
        }
      ]
    },
    {
      "cell_type": "code",
      "metadata": {
        "id": "_GRjyggBoHiD"
      },
      "source": [
        "#data['rating_title'] = data['rating_title'].astype(str)"
      ],
      "execution_count": null,
      "outputs": []
    },
    {
      "cell_type": "code",
      "metadata": {
        "id": "nuqcmYebiT30"
      },
      "source": [
        "#Theo luot views\n",
        "tfidf = TfidfVectorizer()\n",
        "data['number_of_ratings'] = data['number_of_ratings'].fillna('')\n",
        "\n",
        "overview_matrix = tfidf.fit_transform(data['number_of_ratings'])\n",
        "\n",
        "overview_matrix.shape\n",
        "\n",
        "similarity_matrix = linear_kernel(overview_matrix,overview_matrix)\n",
        "similarity_matrix\n",
        "\n",
        "\n",
        "mapping = pd.Series(data.index,index = data['number_of_ratings'])\n",
        "mapping\n",
        "\n",
        "def recommend_hotel_based_on_plot(hotel_input):\n",
        "  hotel_index = mapping[hotel_input]\n",
        "  similarity_score = list(enumerate(similarity_matrix[hotel_index]))\n",
        "  similarity_score = sorted(similarity_score, key=lambda x: x[0], reverse=True)\n",
        "  similarity_score = similarity_score[1:6]\n",
        "  hotel_indices = [i[0] for i in similarity_score]\n",
        "  return (data['name'].iloc[hotel_indices])"
      ],
      "execution_count": 21,
      "outputs": []
    },
    {
      "cell_type": "code",
      "metadata": {
        "colab": {
          "base_uri": "https://localhost:8080/"
        },
        "id": "Qu6ncZswij3M",
        "outputId": "f306e800-8f2c-4b0b-c4b1-61cd6585bbcd"
      },
      "source": [
        "recommend_hotel_based_on_plot('84 reviews')"
      ],
      "execution_count": 22,
      "outputs": [
        {
          "output_type": "execute_result",
          "data": {
            "text/plain": [
              "14             Nesta Can Tho Hotel\n",
              "13        Song Ngư Pisces Homestay\n",
              "12             Linh Phuong 3 Hotel\n",
              "11             Linh Phuong 2 Hotel\n",
              "10    Mekong Delta Ricefield Lodge\n",
              "Name: name, dtype: object"
            ]
          },
          "metadata": {},
          "execution_count": 22
        }
      ]
    },
    {
      "cell_type": "code",
      "metadata": {
        "id": "OIAIc8wGipI6"
      },
      "source": [
        "#Theo noi toa lac\n",
        "tfidf = TfidfVectorizer()\n",
        "data['location'] = data['location'].fillna('')\n",
        "\n",
        "overview_matrix = tfidf.fit_transform(data['location'])\n",
        "\n",
        "overview_matrix.shape\n",
        "\n",
        "similarity_matrix = linear_kernel(overview_matrix,overview_matrix)\n",
        "similarity_matrix\n",
        "\n",
        "\n",
        "mapping = pd.Series(data.index,index = data['location'])\n",
        "mapping\n",
        "\n",
        "def recommend_hotel_based_on_plot(hotel_input):\n",
        "  hotel_index = mapping[hotel_input]\n",
        "  similarity_score = list(enumerate(similarity_matrix[hotel_index]))\n",
        "  similarity_score = sorted(similarity_score, key=lambda x: x[0], reverse=True)\n",
        "  similarity_score = similarity_score[1:6]\n",
        "  hotel_indices = [i[0] for i in similarity_score]\n",
        "  return (data['name'].iloc[hotel_indices])"
      ],
      "execution_count": 23,
      "outputs": []
    },
    {
      "cell_type": "code",
      "metadata": {
        "colab": {
          "base_uri": "https://localhost:8080/"
        },
        "id": "CduR-0rTizf_",
        "outputId": "29053390-2674-43c3-ab3f-3931f80c3927"
      },
      "source": [
        "recommend_hotel_based_on_plot('Ninh Kiều')"
      ],
      "execution_count": 24,
      "outputs": [
        {
          "output_type": "execute_result",
          "data": {
            "text/plain": [
              "343                 Paradise Hotel\n",
              "342                    Amore Hotel\n",
              "341        Cao Thang 1 Guest House\n",
              "340    An Nam Corner - Quang Trung\n",
              "339                  Hotel 199 CVL\n",
              "Name: name, dtype: object"
            ]
          },
          "metadata": {},
          "execution_count": 24
        }
      ]
    },
    {
      "cell_type": "code",
      "metadata": {
        "id": "x7nTXw4vhCl8"
      },
      "source": [
        "#Theo loai phong\n",
        "tfidf = TfidfVectorizer()\n",
        "data['room_type'] = data['room_type'].fillna('')\n",
        "\n",
        "overview_matrix = tfidf.fit_transform(data['room_type'])\n",
        "\n",
        "overview_matrix.shape\n",
        "\n",
        "similarity_matrix = linear_kernel(overview_matrix,overview_matrix)\n",
        "similarity_matrix\n",
        "\n",
        "mapping = pd.Series(data.index,index = data['room_type'])\n",
        "mapping\n",
        "\n",
        "def recommend_hotel_based_on_plot(hotel_input):\n",
        "  hotel_index = mapping[hotel_input]\n",
        "  similarity_score = list(enumerate(similarity_matrix[hotel_index]))\n",
        "  similarity_score = sorted(similarity_score, key=lambda x: x[0], reverse=True)\n",
        "  similarity_score = similarity_score[1:6]\n",
        "  hotel_indices = [i[0] for i in similarity_score]\n",
        "  return (data['name'].iloc[hotel_indices])"
      ],
      "execution_count": 27,
      "outputs": []
    },
    {
      "cell_type": "code",
      "metadata": {
        "colab": {
          "base_uri": "https://localhost:8080/"
        },
        "id": "JDmUzjDKhNbL",
        "outputId": "162f5684-3478-4b21-8db8-c45b90a9b036"
      },
      "source": [
        "recommend_hotel_based_on_plot('Superior Double Room')"
      ],
      "execution_count": 28,
      "outputs": [
        {
          "output_type": "execute_result",
          "data": {
            "text/plain": [
              "8        Khách sạn Amy Cần Thơ\n",
              "7    Hometravel Mekong Can Tho\n",
              "6                Kim Lan Hotel\n",
              "5     Van Phat Riverside Hotel\n",
              "4            Mekong Rose Hotel\n",
              "Name: name, dtype: object"
            ]
          },
          "metadata": {},
          "execution_count": 28
        }
      ]
    },
    {
      "cell_type": "code",
      "metadata": {
        "id": "ACfsU-l7hR7u"
      },
      "source": [
        "#Theo noi so nguoi\n",
        "tfidf = TfidfVectorizer()\n",
        "data['People numbers'] = data['People numbers'].fillna('')\n",
        "\n",
        "overview_matrix = tfidf.fit_transform(data['People numbers'])\n",
        "\n",
        "overview_matrix.shape\n",
        "\n",
        "similarity_matrix = linear_kernel(overview_matrix,overview_matrix)\n",
        "similarity_matrix\n",
        "\n",
        "mapping = pd.Series(data.index,index = data['People numbers'])\n",
        "mapping\n",
        "\n",
        "def recommend_hotel_based_on_plot(hotel_input):\n",
        "  hotel_index = mapping[hotel_input]\n",
        "  similarity_score = list(enumerate(similarity_matrix[hotel_index]))\n",
        "  similarity_score = sorted(similarity_score, key=lambda x: x[0], reverse=True)\n",
        "  similarity_score = similarity_score[1:6]\n",
        "  hotel_indices = [i[0] for i in similarity_score]\n",
        "  return (data['name'].iloc[hotel_indices])"
      ],
      "execution_count": 29,
      "outputs": []
    },
    {
      "cell_type": "code",
      "metadata": {
        "colab": {
          "base_uri": "https://localhost:8080/"
        },
        "id": "MiCuEfQBhXt2",
        "outputId": "fe3eb57a-1d67-4c0a-9002-02e917ee0486"
      },
      "source": [
        "recommend_hotel_based_on_plot('1 large double bed')"
      ],
      "execution_count": 30,
      "outputs": [
        {
          "output_type": "execute_result",
          "data": {
            "text/plain": [
              "252        Homestay Special Life\n",
              "251       Phuc Cat Hotel Can Tho\n",
              "250    GrillandChill Arthomestay\n",
              "249              Thu Ngan Hotel \n",
              "248           Mai Trinh II Hotel\n",
              "Name: name, dtype: object"
            ]
          },
          "metadata": {},
          "execution_count": 30
        }
      ]
    }
  ]
}