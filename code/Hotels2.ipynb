{
  "nbformat": 4,
  "nbformat_minor": 0,
  "metadata": {
    "colab": {
      "name": "Cach2_Hotels.ipynb",
      "provenance": [],
      "collapsed_sections": []
    },
    "kernelspec": {
      "name": "python3",
      "display_name": "Python 3"
    },
    "language_info": {
      "name": "python"
    }
  },
  "cells": [
    {
      "cell_type": "code",
      "metadata": {
        "id": "jU2BOywj4hdE"
      },
      "source": [
        "#importing necessary libraries\n",
        "import numpy as np\n",
        "import pandas as pd\n",
        "from sklearn.metrics.pairwise import cosine_similarity\n",
        "from sklearn.metrics import mean_squared_error\n",
        "from sklearn.model_selection import train_test_split\n",
        "from sklearn.feature_extraction.text import TfidfVectorizer\n",
        "from sklearn.metrics.pairwise import linear_kernel"
      ],
      "execution_count": 2,
      "outputs": []
    },
    {
      "cell_type": "code",
      "metadata": {
        "colab": {
          "base_uri": "https://localhost:8080/",
          "height": 845
        },
        "id": "cUCVNDbW4yzj",
        "outputId": "4df9dbc8-0e4e-4100-e513-04d99f0af715"
      },
      "source": [
        "df = pd.read_csv('datasets_hotels.csv')\n",
        "df.head()"
      ],
      "execution_count": 3,
      "outputs": [
        {
          "output_type": "execute_result",
          "data": {
            "text/html": [
              "<div>\n",
              "<style scoped>\n",
              "    .dataframe tbody tr th:only-of-type {\n",
              "        vertical-align: middle;\n",
              "    }\n",
              "\n",
              "    .dataframe tbody tr th {\n",
              "        vertical-align: top;\n",
              "    }\n",
              "\n",
              "    .dataframe thead th {\n",
              "        text-align: right;\n",
              "    }\n",
              "</style>\n",
              "<table border=\"1\" class=\"dataframe\">\n",
              "  <thead>\n",
              "    <tr style=\"text-align: right;\">\n",
              "      <th></th>\n",
              "      <th>id_hotels</th>\n",
              "      <th>name</th>\n",
              "      <th>rating</th>\n",
              "      <th>number_of_ratings</th>\n",
              "      <th>rating_title</th>\n",
              "      <th>url</th>\n",
              "      <th>price</th>\n",
              "      <th>room_type</th>\n",
              "      <th>adress</th>\n",
              "      <th>location</th>\n",
              "      <th>Distance</th>\n",
              "      <th>Content</th>\n",
              "      <th>price_for</th>\n",
              "      <th>People numbers</th>\n",
              "    </tr>\n",
              "  </thead>\n",
              "  <tbody>\n",
              "    <tr>\n",
              "      <th>0</th>\n",
              "      <td>0</td>\n",
              "      <td>Lan Vy Hotel</td>\n",
              "      <td>9.7</td>\n",
              "      <td>37 reviews</td>\n",
              "      <td>Fabulous</td>\n",
              "      <td>https://www.booking.com/hotel/vn/lan-vy-can-th...</td>\n",
              "      <td>23</td>\n",
              "      <td>Superior Double Room</td>\n",
              "      <td>97D Pham Ngoc Thach, Cần Thơ, Việt Nam</td>\n",
              "      <td>Ninh Kiều</td>\n",
              "      <td>1.3 km from centre</td>\n",
              "      <td>Lan Vy Hotel is located in Can Tho. Only 1.3 k...</td>\n",
              "      <td>1 night, 1 adult</td>\n",
              "      <td>1 double bed</td>\n",
              "    </tr>\n",
              "    <tr>\n",
              "      <th>1</th>\n",
              "      <td>1</td>\n",
              "      <td>Amazon 1</td>\n",
              "      <td>7.9</td>\n",
              "      <td>301 reviews</td>\n",
              "      <td>Good</td>\n",
              "      <td>https://www.booking.com/hotel/vn/amazon-1.en-g...</td>\n",
              "      <td>5</td>\n",
              "      <td>Bed in 4-Bed Dormitory Room</td>\n",
              "      <td>88/24 Lê Lai, An Phú, Ninh Kiều, Thành phố Cần...</td>\n",
              "      <td>Ninh Kiều</td>\n",
              "      <td>0.4 km from centre\\n</td>\n",
              "      <td>Situated in Can Tho and with Vincom Plaza Xuan...</td>\n",
              "      <td>1 night, 1 adult</td>\n",
              "      <td>1 bunk bed</td>\n",
              "    </tr>\n",
              "    <tr>\n",
              "      <th>2</th>\n",
              "      <td>2</td>\n",
              "      <td>VẠN LỘC HOTEL</td>\n",
              "      <td>8.4</td>\n",
              "      <td>342 reviews</td>\n",
              "      <td>Very good</td>\n",
              "      <td>https://www.booking.com/hotel/vn/van-loc.en-gb...</td>\n",
              "      <td>15</td>\n",
              "      <td>Standard King Room</td>\n",
              "      <td>76 Dong Khoi Street, Cần Thơ, Việt Nam</td>\n",
              "      <td>Ninh Kiều</td>\n",
              "      <td>0.4 km from centre\\r</td>\n",
              "      <td>Set in Can Tho, 800 metres from Ninh Kieu Pier...</td>\n",
              "      <td>1 night, 1 adult</td>\n",
              "      <td>1 large double bed</td>\n",
              "    </tr>\n",
              "    <tr>\n",
              "      <th>3</th>\n",
              "      <td>3</td>\n",
              "      <td>CALI HOTEL</td>\n",
              "      <td>7.7</td>\n",
              "      <td>285 reviews</td>\n",
              "      <td>Good</td>\n",
              "      <td>https://www.booking.com/hotel/vn/cali-can-tho1...</td>\n",
              "      <td>14</td>\n",
              "      <td>Standard King Room</td>\n",
              "      <td>46 Lương Định Của, Phường Cái Khế, , Cái Khế, ...</td>\n",
              "      <td>Ninh Kiều</td>\n",
              "      <td>1.3 km from centre\\r</td>\n",
              "      <td>Located in Can Tho, within 1.1 km of Vincom Pl...</td>\n",
              "      <td>1 night, 1 adult</td>\n",
              "      <td>1 large double bed</td>\n",
              "    </tr>\n",
              "    <tr>\n",
              "      <th>4</th>\n",
              "      <td>4</td>\n",
              "      <td>Mekong Rose Hotel</td>\n",
              "      <td>8.3</td>\n",
              "      <td>81 reviews</td>\n",
              "      <td>Very good</td>\n",
              "      <td>https://www.booking.com/hotel/vn/mekong-rose-n...</td>\n",
              "      <td>11</td>\n",
              "      <td>Economy Double Room</td>\n",
              "      <td>59-61 Ly Hong Thanh, P. Cai Khe, Q. Ninh Kieu,...</td>\n",
              "      <td>Ninh Kiều</td>\n",
              "      <td>1.4 km from centre\\r</td>\n",
              "      <td>Featuring a terrace, Mekong Rose Hotel is loca...</td>\n",
              "      <td>1 night, 1 adult</td>\n",
              "      <td>1 double bed</td>\n",
              "    </tr>\n",
              "  </tbody>\n",
              "</table>\n",
              "</div>"
            ],
            "text/plain": [
              "   id_hotels               name  ...         price_for      People numbers\n",
              "0          0       Lan Vy Hotel  ...  1 night, 1 adult        1 double bed\n",
              "1          1           Amazon 1  ...  1 night, 1 adult          1 bunk bed\n",
              "2          2      VẠN LỘC HOTEL  ...  1 night, 1 adult  1 large double bed\n",
              "3          3         CALI HOTEL  ...  1 night, 1 adult  1 large double bed\n",
              "4          4  Mekong Rose Hotel  ...  1 night, 1 adult        1 double bed\n",
              "\n",
              "[5 rows x 14 columns]"
            ]
          },
          "metadata": {},
          "execution_count": 3
        }
      ]
    },
    {
      "cell_type": "code",
      "metadata": {
        "id": "cAUizW5A8Wsa"
      },
      "source": [
        "# = df['rating']*1000"
      ],
      "execution_count": null,
      "outputs": []
    },
    {
      "cell_type": "code",
      "metadata": {
        "id": "7mHHB4Hw8VyB"
      },
      "source": [
        "#df['rating1']=df['rating1'].to_numeric(s, downcast='integer')"
      ],
      "execution_count": null,
      "outputs": []
    },
    {
      "cell_type": "code",
      "metadata": {
        "id": "_fRVipoD415a"
      },
      "source": [
        "#def sentiment(rating_title):\n",
        "  #if rating in range(0,5.0):\n",
        "    #return 'Dưới 1 triệu'\n",
        "  #elif rating in range(5.1,7.5):\n",
        "    #return '1 triệu - 2 triệu'\n",
        "  #else:\n",
        "    #return 'Trên 2 triệu'"
      ],
      "execution_count": null,
      "outputs": []
    },
    {
      "cell_type": "code",
      "metadata": {
        "id": "YFqWTWq65UUK"
      },
      "source": [
        "#df['rating1'] = df['rating'].apply(sentiment)\n",
        "#df"
      ],
      "execution_count": null,
      "outputs": []
    },
    {
      "cell_type": "code",
      "metadata": {
        "colab": {
          "base_uri": "https://localhost:8080/"
        },
        "id": "HJB-ihdF52NJ",
        "outputId": "d64da87f-8f99-48a2-8f8a-73bec5531d3f"
      },
      "source": [
        "df.info()"
      ],
      "execution_count": null,
      "outputs": [
        {
          "output_type": "stream",
          "name": "stdout",
          "text": [
            "<class 'pandas.core.frame.DataFrame'>\n",
            "RangeIndex: 461 entries, 0 to 460\n",
            "Data columns (total 14 columns):\n",
            " #   Column             Non-Null Count  Dtype  \n",
            "---  ------             --------------  -----  \n",
            " 0   id_hotels          461 non-null    int64  \n",
            " 1   name               461 non-null    object \n",
            " 2   rating             461 non-null    float64\n",
            " 3   number_of_ratings  461 non-null    object \n",
            " 4   rating_title       266 non-null    object \n",
            " 5   url                461 non-null    object \n",
            " 6   price              460 non-null    float64\n",
            " 7   room_type          461 non-null    object \n",
            " 8   adress             461 non-null    object \n",
            " 9   location           460 non-null    object \n",
            " 10  Distance           461 non-null    object \n",
            " 11  Content            461 non-null    object \n",
            " 12  price_for          461 non-null    object \n",
            " 13  People numbers     461 non-null    object \n",
            "dtypes: float64(2), int64(1), object(11)\n",
            "memory usage: 50.5+ KB\n"
          ]
        }
      ]
    },
    {
      "cell_type": "code",
      "metadata": {
        "colab": {
          "base_uri": "https://localhost:8080/"
        },
        "id": "gT0ajOjrHG1k",
        "outputId": "48cee3e7-e333-4f39-90e9-8b6d77a62e90"
      },
      "source": [
        "# De xuất theo khoảng cách\n",
        "tfidf = TfidfVectorizer()\n",
        "df['Distance'] = df['Distance'].fillna('')\n",
        "#Xây dựng ma trận TF-IDF bắt buộc bằng cách áp dụng phương thức fit_transform trên tính năng tổng quan\n",
        "overview_matrix = tfidf.fit_transform(df['Distance'])\n",
        "#Xuất ra hình dạng của tfidf_matrix\n",
        "overview_matrix.shape"
      ],
      "execution_count": 4,
      "outputs": [
        {
          "output_type": "execute_result",
          "data": {
            "text/plain": [
              "(461, 4)"
            ]
          },
          "metadata": {},
          "execution_count": 4
        }
      ]
    },
    {
      "cell_type": "code",
      "metadata": {
        "colab": {
          "base_uri": "https://localhost:8080/"
        },
        "id": "-dqpMcpyHJ0K",
        "outputId": "1c49fa6f-b45a-46b0-c8d8-5c77dd966403"
      },
      "source": [
        "similarity_matrix = linear_kernel(overview_matrix,overview_matrix)\n",
        "similarity_matrix"
      ],
      "execution_count": 5,
      "outputs": [
        {
          "output_type": "execute_result",
          "data": {
            "text/plain": [
              "array([[1., 1., 1., ..., 1., 1., 1.],\n",
              "       [1., 1., 1., ..., 1., 1., 1.],\n",
              "       [1., 1., 1., ..., 1., 1., 1.],\n",
              "       ...,\n",
              "       [1., 1., 1., ..., 1., 1., 1.],\n",
              "       [1., 1., 1., ..., 1., 1., 1.],\n",
              "       [1., 1., 1., ..., 1., 1., 1.]])"
            ]
          },
          "metadata": {},
          "execution_count": 5
        }
      ]
    },
    {
      "cell_type": "code",
      "metadata": {
        "colab": {
          "base_uri": "https://localhost:8080/"
        },
        "id": "MSk_wsZtHLKi",
        "outputId": "faa2ba3d-d0e6-43e4-a4c0-80fe24c3d7a9"
      },
      "source": [
        "#hotel index mapping\n",
        "mapping = pd.Series(df.index,index = df['Distance'])\n",
        "mapping"
      ],
      "execution_count": 6,
      "outputs": [
        {
          "output_type": "execute_result",
          "data": {
            "text/plain": [
              "Distance\n",
              "1.3 km from centre        0\n",
              "0.4 km from centre\\n      1\n",
              "0.4 km from centre\\r      2\n",
              "1.3 km from centre\\r      3\n",
              "1.4 km from centre\\r      4\n",
              "                       ... \n",
              "3.8 km from centre\\r    456\n",
              "0.6 km from centre\\r    457\n",
              "3.2 km from centre\\r    458\n",
              "1.7 km from centre\\r    459\n",
              "8.1 km from centre      460\n",
              "Length: 461, dtype: int64"
            ]
          },
          "metadata": {},
          "execution_count": 6
        }
      ]
    },
    {
      "cell_type": "code",
      "metadata": {
        "id": "KBgY1lHDHOa1"
      },
      "source": [
        "def recommend_hotel_based_on_plot(hotel_input):\n",
        "  hotel_index = mapping[hotel_input]\n",
        "  #nhận các giá trị tương tự với khách sạn khác\n",
        "  #điểm tương tự là danh sách chỉ số và ma trận tương tự\n",
        "  similarity_score = list(enumerate(similarity_matrix[hotel_index]))\n",
        "  #sắp xếp theo thứ tự giảm dần điểm tương đồng của khách sạn được nhập với tất cả các khách sạn khác\n",
        "  similarity_score = sorted(similarity_score, key=lambda x: x[0], reverse=True)\n",
        "  # Nhận điểm của 5 khách sạn giống nhau nhất. Bỏ qua khách sạn đầu tiên.\n",
        "  similarity_score = similarity_score[1:6]\n",
        "  #trả về tên khách sạn bằng cách sử dụng chuỗi ánh xạ\n",
        "  hotel_indices = [i[0] for i in similarity_score]\n",
        "  return (df[['name','price']].iloc[hotel_indices])"
      ],
      "execution_count": 11,
      "outputs": []
    },
    {
      "cell_type": "code",
      "metadata": {
        "colab": {
          "base_uri": "https://localhost:8080/",
          "height": 203
        },
        "id": "dVq4weatHRlo",
        "outputId": "7e63f7c4-a8ad-49a0-d6fb-a4fe7444c7d5"
      },
      "source": [
        "recommend_hotel_based_on_plot('1.2 km from centre')"
      ],
      "execution_count": 12,
      "outputs": [
        {
          "output_type": "execute_result",
          "data": {
            "text/html": [
              "<div>\n",
              "<style scoped>\n",
              "    .dataframe tbody tr th:only-of-type {\n",
              "        vertical-align: middle;\n",
              "    }\n",
              "\n",
              "    .dataframe tbody tr th {\n",
              "        vertical-align: top;\n",
              "    }\n",
              "\n",
              "    .dataframe thead th {\n",
              "        text-align: right;\n",
              "    }\n",
              "</style>\n",
              "<table border=\"1\" class=\"dataframe\">\n",
              "  <thead>\n",
              "    <tr style=\"text-align: right;\">\n",
              "      <th></th>\n",
              "      <th>name</th>\n",
              "      <th>price</th>\n",
              "    </tr>\n",
              "  </thead>\n",
              "  <tbody>\n",
              "    <tr>\n",
              "      <th>13</th>\n",
              "      <td>Song Ngư Pisces Homestay</td>\n",
              "      <td>25</td>\n",
              "    </tr>\n",
              "    <tr>\n",
              "      <th>12</th>\n",
              "      <td>Linh Phuong 3 Hotel</td>\n",
              "      <td>35</td>\n",
              "    </tr>\n",
              "    <tr>\n",
              "      <th>11</th>\n",
              "      <td>Linh Phuong 2 Hotel</td>\n",
              "      <td>27</td>\n",
              "    </tr>\n",
              "    <tr>\n",
              "      <th>10</th>\n",
              "      <td>Mekong Delta Ricefield Lodge</td>\n",
              "      <td>42</td>\n",
              "    </tr>\n",
              "    <tr>\n",
              "      <th>9</th>\n",
              "      <td>Anh Dao Mekong 2 Hotel</td>\n",
              "      <td>30</td>\n",
              "    </tr>\n",
              "  </tbody>\n",
              "</table>\n",
              "</div>"
            ],
            "text/plain": [
              "                            name  price\n",
              "13      Song Ngư Pisces Homestay     25\n",
              "12           Linh Phuong 3 Hotel     35\n",
              "11           Linh Phuong 2 Hotel     27\n",
              "10  Mekong Delta Ricefield Lodge     42\n",
              "9         Anh Dao Mekong 2 Hotel     30"
            ]
          },
          "metadata": {},
          "execution_count": 12
        }
      ]
    },
    {
      "cell_type": "code",
      "metadata": {
        "colab": {
          "base_uri": "https://localhost:8080/"
        },
        "id": "4WdMeT-N7BKj",
        "outputId": "0a8c64b1-d6e4-4f5c-c856-150121682bd5"
      },
      "source": [
        "df['price'] = df['price'].astype(int)\n",
        "df.info()"
      ],
      "execution_count": 13,
      "outputs": [
        {
          "output_type": "stream",
          "name": "stdout",
          "text": [
            "<class 'pandas.core.frame.DataFrame'>\n",
            "RangeIndex: 461 entries, 0 to 460\n",
            "Data columns (total 14 columns):\n",
            " #   Column             Non-Null Count  Dtype  \n",
            "---  ------             --------------  -----  \n",
            " 0   id_hotels          461 non-null    int64  \n",
            " 1   name               461 non-null    object \n",
            " 2   rating             461 non-null    float64\n",
            " 3   number_of_ratings  461 non-null    object \n",
            " 4   rating_title       266 non-null    object \n",
            " 5   url                461 non-null    object \n",
            " 6   price              461 non-null    int64  \n",
            " 7   room_type          461 non-null    object \n",
            " 8   adress             461 non-null    object \n",
            " 9   location           460 non-null    object \n",
            " 10  Distance           461 non-null    object \n",
            " 11  Content            461 non-null    object \n",
            " 12  price_for          461 non-null    object \n",
            " 13  People numbers     461 non-null    object \n",
            "dtypes: float64(1), int64(2), object(11)\n",
            "memory usage: 50.5+ KB\n"
          ]
        }
      ]
    },
    {
      "cell_type": "code",
      "metadata": {
        "id": "K-WUTPbL6IvS"
      },
      "source": [
        "#df['price'] = df['price'].strip ( 'US$' )\n",
        "#df.head()"
      ],
      "execution_count": null,
      "outputs": []
    },
    {
      "cell_type": "code",
      "metadata": {
        "colab": {
          "base_uri": "https://localhost:8080/",
          "height": 845
        },
        "id": "bPGuxNPvkCnm",
        "outputId": "6c21d2ed-4e68-4cf2-ef44-084e0db749be"
      },
      "source": [
        "def sentiment(price):\n",
        "  if price in range(0,10):\n",
        "    return 'Giá Thấp'\n",
        "  elif price in range(11,20):\n",
        "    return 'Giá Trung Bình'\n",
        "  else:\n",
        "    return 'Giá Cao' \n",
        "\n",
        "df['price_list'] = df['price'].apply(sentiment)\n",
        "df.head()"
      ],
      "execution_count": 14,
      "outputs": [
        {
          "output_type": "execute_result",
          "data": {
            "text/html": [
              "<div>\n",
              "<style scoped>\n",
              "    .dataframe tbody tr th:only-of-type {\n",
              "        vertical-align: middle;\n",
              "    }\n",
              "\n",
              "    .dataframe tbody tr th {\n",
              "        vertical-align: top;\n",
              "    }\n",
              "\n",
              "    .dataframe thead th {\n",
              "        text-align: right;\n",
              "    }\n",
              "</style>\n",
              "<table border=\"1\" class=\"dataframe\">\n",
              "  <thead>\n",
              "    <tr style=\"text-align: right;\">\n",
              "      <th></th>\n",
              "      <th>id_hotels</th>\n",
              "      <th>name</th>\n",
              "      <th>rating</th>\n",
              "      <th>number_of_ratings</th>\n",
              "      <th>rating_title</th>\n",
              "      <th>url</th>\n",
              "      <th>price</th>\n",
              "      <th>room_type</th>\n",
              "      <th>adress</th>\n",
              "      <th>location</th>\n",
              "      <th>Distance</th>\n",
              "      <th>Content</th>\n",
              "      <th>price_for</th>\n",
              "      <th>People numbers</th>\n",
              "      <th>price_list</th>\n",
              "    </tr>\n",
              "  </thead>\n",
              "  <tbody>\n",
              "    <tr>\n",
              "      <th>0</th>\n",
              "      <td>0</td>\n",
              "      <td>Lan Vy Hotel</td>\n",
              "      <td>9.7</td>\n",
              "      <td>37 reviews</td>\n",
              "      <td>Fabulous</td>\n",
              "      <td>https://www.booking.com/hotel/vn/lan-vy-can-th...</td>\n",
              "      <td>23</td>\n",
              "      <td>Superior Double Room</td>\n",
              "      <td>97D Pham Ngoc Thach, Cần Thơ, Việt Nam</td>\n",
              "      <td>Ninh Kiều</td>\n",
              "      <td>1.3 km from centre</td>\n",
              "      <td>Lan Vy Hotel is located in Can Tho. Only 1.3 k...</td>\n",
              "      <td>1 night, 1 adult</td>\n",
              "      <td>1 double bed</td>\n",
              "      <td>Giá Cao</td>\n",
              "    </tr>\n",
              "    <tr>\n",
              "      <th>1</th>\n",
              "      <td>1</td>\n",
              "      <td>Amazon 1</td>\n",
              "      <td>7.9</td>\n",
              "      <td>301 reviews</td>\n",
              "      <td>Good</td>\n",
              "      <td>https://www.booking.com/hotel/vn/amazon-1.en-g...</td>\n",
              "      <td>5</td>\n",
              "      <td>Bed in 4-Bed Dormitory Room</td>\n",
              "      <td>88/24 Lê Lai, An Phú, Ninh Kiều, Thành phố Cần...</td>\n",
              "      <td>Ninh Kiều</td>\n",
              "      <td>0.4 km from centre\\n</td>\n",
              "      <td>Situated in Can Tho and with Vincom Plaza Xuan...</td>\n",
              "      <td>1 night, 1 adult</td>\n",
              "      <td>1 bunk bed</td>\n",
              "      <td>Giá Thấp</td>\n",
              "    </tr>\n",
              "    <tr>\n",
              "      <th>2</th>\n",
              "      <td>2</td>\n",
              "      <td>VẠN LỘC HOTEL</td>\n",
              "      <td>8.4</td>\n",
              "      <td>342 reviews</td>\n",
              "      <td>Very good</td>\n",
              "      <td>https://www.booking.com/hotel/vn/van-loc.en-gb...</td>\n",
              "      <td>15</td>\n",
              "      <td>Standard King Room</td>\n",
              "      <td>76 Dong Khoi Street, Cần Thơ, Việt Nam</td>\n",
              "      <td>Ninh Kiều</td>\n",
              "      <td>0.4 km from centre\\r</td>\n",
              "      <td>Set in Can Tho, 800 metres from Ninh Kieu Pier...</td>\n",
              "      <td>1 night, 1 adult</td>\n",
              "      <td>1 large double bed</td>\n",
              "      <td>Giá Trung Bình</td>\n",
              "    </tr>\n",
              "    <tr>\n",
              "      <th>3</th>\n",
              "      <td>3</td>\n",
              "      <td>CALI HOTEL</td>\n",
              "      <td>7.7</td>\n",
              "      <td>285 reviews</td>\n",
              "      <td>Good</td>\n",
              "      <td>https://www.booking.com/hotel/vn/cali-can-tho1...</td>\n",
              "      <td>14</td>\n",
              "      <td>Standard King Room</td>\n",
              "      <td>46 Lương Định Của, Phường Cái Khế, , Cái Khế, ...</td>\n",
              "      <td>Ninh Kiều</td>\n",
              "      <td>1.3 km from centre\\r</td>\n",
              "      <td>Located in Can Tho, within 1.1 km of Vincom Pl...</td>\n",
              "      <td>1 night, 1 adult</td>\n",
              "      <td>1 large double bed</td>\n",
              "      <td>Giá Trung Bình</td>\n",
              "    </tr>\n",
              "    <tr>\n",
              "      <th>4</th>\n",
              "      <td>4</td>\n",
              "      <td>Mekong Rose Hotel</td>\n",
              "      <td>8.3</td>\n",
              "      <td>81 reviews</td>\n",
              "      <td>Very good</td>\n",
              "      <td>https://www.booking.com/hotel/vn/mekong-rose-n...</td>\n",
              "      <td>11</td>\n",
              "      <td>Economy Double Room</td>\n",
              "      <td>59-61 Ly Hong Thanh, P. Cai Khe, Q. Ninh Kieu,...</td>\n",
              "      <td>Ninh Kiều</td>\n",
              "      <td>1.4 km from centre\\r</td>\n",
              "      <td>Featuring a terrace, Mekong Rose Hotel is loca...</td>\n",
              "      <td>1 night, 1 adult</td>\n",
              "      <td>1 double bed</td>\n",
              "      <td>Giá Trung Bình</td>\n",
              "    </tr>\n",
              "  </tbody>\n",
              "</table>\n",
              "</div>"
            ],
            "text/plain": [
              "   id_hotels               name  ...      People numbers      price_list\n",
              "0          0       Lan Vy Hotel  ...        1 double bed         Giá Cao\n",
              "1          1           Amazon 1  ...          1 bunk bed        Giá Thấp\n",
              "2          2      VẠN LỘC HOTEL  ...  1 large double bed  Giá Trung Bình\n",
              "3          3         CALI HOTEL  ...  1 large double bed  Giá Trung Bình\n",
              "4          4  Mekong Rose Hotel  ...        1 double bed  Giá Trung Bình\n",
              "\n",
              "[5 rows x 15 columns]"
            ]
          },
          "metadata": {},
          "execution_count": 14
        }
      ]
    },
    {
      "cell_type": "code",
      "metadata": {
        "id": "tZdlJ3v8kWsE"
      },
      "source": [
        "#theo gia\n",
        "tfidf = TfidfVectorizer()\n",
        "df['price_list'] = df['price_list'].fillna('')\n",
        "\n",
        "overview_matrix = tfidf.fit_transform(df['price_list'])\n",
        "\n",
        "overview_matrix.shape\n",
        "\n",
        "similarity_matrix = linear_kernel(overview_matrix,overview_matrix)\n",
        "similarity_matrix\n",
        "\n",
        "mapping = pd.Series(df.index,index = df['price_list'])\n",
        "\n",
        "\n",
        "def recommend_hotel_based_on_plot(hotel_input):\n",
        "  hotel_index = mapping[hotel_input]\n",
        "  similarity_score = list(enumerate(similarity_matrix[hotel_index]))\n",
        "  similarity_score = sorted(similarity_score, key=lambda x: x[0], reverse=True)\n",
        "  similarity_score = similarity_score[0:5]\n",
        "  hotel_indices = [i[0] for i in similarity_score]\n",
        "  return (df['name'].iloc[hotel_indices])"
      ],
      "execution_count": 15,
      "outputs": []
    },
    {
      "cell_type": "code",
      "metadata": {
        "colab": {
          "base_uri": "https://localhost:8080/"
        },
        "id": "HhDtWsOaklJw",
        "outputId": "15eea48c-506c-41d2-efc9-ae221f6027ca"
      },
      "source": [
        "recommend_hotel_based_on_plot('Giá Thấp')"
      ],
      "execution_count": 16,
      "outputs": [
        {
          "output_type": "execute_result",
          "data": {
            "text/plain": [
              "45                         08 Homestay\n",
              "44                      BangBang Motel\n",
              "43    Little Dalat Coffee and Homestay\n",
              "42                       Olympus Hotel\n",
              "41              Winter Spring Homestay\n",
              "Name: name, dtype: object"
            ]
          },
          "metadata": {},
          "execution_count": 16
        }
      ]
    }
  ]
}