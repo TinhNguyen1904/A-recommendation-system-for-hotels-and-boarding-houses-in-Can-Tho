{
  "nbformat": 4,
  "nbformat_minor": 0,
  "metadata": {
    "colab": {
      "name": "Cach1.ipynb",
      "provenance": [],
      "collapsed_sections": []
    },
    "kernelspec": {
      "name": "python3",
      "display_name": "Python 3"
    },
    "language_info": {
      "name": "python"
    }
  },
  "cells": [
    {
      "cell_type": "code",
      "metadata": {
        "id": "0BbQi3q2lxib"
      },
      "source": [
        "#Dua tren dien tich nha tro\n",
        "#import thư viện\n",
        "import numpy as np\n",
        "import pandas as pd\n",
        "from sklearn.metrics.pairwise import cosine_similarity\n",
        "from sklearn.metrics import mean_squared_error\n",
        "from sklearn.model_selection import train_test_split\n",
        "from sklearn.feature_extraction.text import TfidfVectorizer\n",
        "from sklearn.metrics.pairwise import linear_kernel"
      ],
      "execution_count": 1,
      "outputs": []
    },
    {
      "cell_type": "code",
      "metadata": {
        "colab": {
          "base_uri": "https://localhost:8080/",
          "height": 287
        },
        "id": "zw0y9Cb_mJ-y",
        "outputId": "21951722-5fb3-4dad-c58b-99e0c3654ef2"
      },
      "source": [
        "data = pd.read_csv('datasets_motels.csv')\n",
        "data.head()"
      ],
      "execution_count": 2,
      "outputs": [
        {
          "output_type": "execute_result",
          "data": {
            "text/html": [
              "<div>\n",
              "<style scoped>\n",
              "    .dataframe tbody tr th:only-of-type {\n",
              "        vertical-align: middle;\n",
              "    }\n",
              "\n",
              "    .dataframe tbody tr th {\n",
              "        vertical-align: top;\n",
              "    }\n",
              "\n",
              "    .dataframe thead th {\n",
              "        text-align: right;\n",
              "    }\n",
              "</style>\n",
              "<table border=\"1\" class=\"dataframe\">\n",
              "  <thead>\n",
              "    <tr style=\"text-align: right;\">\n",
              "      <th></th>\n",
              "      <th>id_motels</th>\n",
              "      <th>tennhatro</th>\n",
              "      <th>diachi</th>\n",
              "      <th>toalac</th>\n",
              "      <th>danhgia</th>\n",
              "      <th>gia</th>\n",
              "      <th>dientich</th>\n",
              "      <th>noidung</th>\n",
              "      <th>luotxem</th>\n",
              "    </tr>\n",
              "  </thead>\n",
              "  <tbody>\n",
              "    <tr>\n",
              "      <th>0</th>\n",
              "      <td>0</td>\n",
              "      <td>Cho Thuê Phòng Trọ Có Sẵn Nội Thất</td>\n",
              "      <td>Địa chỉ: Hẻm 278, đường Tầm Vu</td>\n",
              "      <td>Ninh Kiều</td>\n",
              "      <td>5.0</td>\n",
              "      <td>2700000</td>\n",
              "      <td>DT: 27.00 m²</td>\n",
              "      <td>Mùa nhập học đến rồi_Các bạn sinh viên đã tìm ...</td>\n",
              "      <td>78796</td>\n",
              "    </tr>\n",
              "    <tr>\n",
              "      <th>1</th>\n",
              "      <td>1</td>\n",
              "      <td>Cho thuê phòng trọ mới thoáng mát</td>\n",
              "      <td>Địa chỉ: 156b1. Đường Nguyễn Tri Phương, p An ...</td>\n",
              "      <td>Ninh Kiều</td>\n",
              "      <td>1.2</td>\n",
              "      <td>1000000</td>\n",
              "      <td>DT: 24.00 m²</td>\n",
              "      <td>Cho thuê phòng trọ đường Nguyễn Tri Phương,  p...</td>\n",
              "      <td>1891</td>\n",
              "    </tr>\n",
              "    <tr>\n",
              "      <th>2</th>\n",
              "      <td>2</td>\n",
              "      <td>NHÀ TRỌ ĐƯỜNG TẦM VU , KẾ TU VIỆN , NHÀ HÀNG M...</td>\n",
              "      <td>Địa chỉ: 360 Tầm Vu , phường Hưng Lợi , quận N...</td>\n",
              "      <td>Ninh Kiều</td>\n",
              "      <td>2.7</td>\n",
              "      <td>1200000</td>\n",
              "      <td>DT: 15.00 m²</td>\n",
              "      <td>NHÀ TRỌ ĐƯỜNG TẦM VU , KẾ TU VIỆN , NHÀ HÀNG M...</td>\n",
              "      <td>13095</td>\n",
              "    </tr>\n",
              "    <tr>\n",
              "      <th>3</th>\n",
              "      <td>3</td>\n",
              "      <td>NHÀ TRỌ ĐƯỜNG TẦM VU , GẦN NHÀ HÀNG MÊKONG , C...</td>\n",
              "      <td>Địa chỉ: 360A ,ĐƯỜNG TẦM VU , PHƯỜNG HƯNG LỢI ...</td>\n",
              "      <td>Ninh Kiều</td>\n",
              "      <td>3.0</td>\n",
              "      <td>1200000</td>\n",
              "      <td>DT: 15.00 m²</td>\n",
              "      <td>NHÀ TRỌ ĐƯỜNG TẦM VU , KẾ TU VIỆN , NHÀ HÀNG M...</td>\n",
              "      <td>21811</td>\n",
              "    </tr>\n",
              "    <tr>\n",
              "      <th>4</th>\n",
              "      <td>4</td>\n",
              "      <td>Phòng trọ, nhà nghỉ Hoàng Phương Đông cần cho ...</td>\n",
              "      <td>Địa chỉ: 14R Trần Văn Sắc</td>\n",
              "      <td>Ninh Kiều</td>\n",
              "      <td>1.5</td>\n",
              "      <td>2000000</td>\n",
              "      <td>DT: 25.00 m²</td>\n",
              "      <td>Cho thuê phòng trọ mới sạch đẹp trang thiết bị...</td>\n",
              "      <td>8011</td>\n",
              "    </tr>\n",
              "  </tbody>\n",
              "</table>\n",
              "</div>"
            ],
            "text/plain": [
              "   id_motels  ... luotxem\n",
              "0          0  ...   78796\n",
              "1          1  ...    1891\n",
              "2          2  ...   13095\n",
              "3          3  ...   21811\n",
              "4          4  ...    8011\n",
              "\n",
              "[5 rows x 9 columns]"
            ]
          },
          "metadata": {},
          "execution_count": 2
        }
      ]
    },
    {
      "cell_type": "code",
      "metadata": {
        "id": "yNBtdK1LmSEL",
        "colab": {
          "base_uri": "https://localhost:8080/"
        },
        "outputId": "c3fa257c-dfac-4a32-b6b7-8f9682e6e5c5"
      },
      "source": [
        "tfidf = TfidfVectorizer()\n",
        "data['dientich'] = data['dientich'].fillna('')\n",
        "#Xây dựng ma trận TF-IDF bắt buộc bằng cách áp dụng phương pháp fit_transform trên tính năng tổng quan\n",
        "overview_matrix = tfidf.fit_transform(data['dientich'])\n",
        "#Xuất ra hình dạng của tfidf_matrix\n",
        "overview_matrix.shape"
      ],
      "execution_count": 3,
      "outputs": [
        {
          "output_type": "execute_result",
          "data": {
            "text/plain": [
              "(408, 32)"
            ]
          },
          "metadata": {},
          "execution_count": 3
        }
      ]
    },
    {
      "cell_type": "code",
      "metadata": {
        "colab": {
          "base_uri": "https://localhost:8080/"
        },
        "id": "0xAjO2thmi56",
        "outputId": "a5e4e087-0c86-4058-c180-45b0d3ef9550"
      },
      "source": [
        "similarity_matrix = linear_kernel(overview_matrix,overview_matrix)\n",
        "similarity_matrix"
      ],
      "execution_count": 4,
      "outputs": [
        {
          "output_type": "execute_result",
          "data": {
            "text/plain": [
              "array([[1.        , 0.11589319, 0.15349185, ..., 0.13908362, 0.17133761,\n",
              "        0.13908362],\n",
              "       [0.11589319, 1.        , 0.1794806 , ..., 0.16263281, 0.20034794,\n",
              "        0.16263281],\n",
              "       [0.15349185, 0.1794806 , 1.        , ..., 0.21539497, 0.26534583,\n",
              "        0.21539497],\n",
              "       ...,\n",
              "       [0.13908362, 0.16263281, 0.21539497, ..., 1.        , 0.2404379 ,\n",
              "        1.        ],\n",
              "       [0.17133761, 0.20034794, 0.26534583, ..., 0.2404379 , 1.        ,\n",
              "        0.2404379 ],\n",
              "       [0.13908362, 0.16263281, 0.21539497, ..., 1.        , 0.2404379 ,\n",
              "        1.        ]])"
            ]
          },
          "metadata": {},
          "execution_count": 4
        }
      ]
    },
    {
      "cell_type": "code",
      "metadata": {
        "id": "Ppeeq-x_mlZB",
        "colab": {
          "base_uri": "https://localhost:8080/"
        },
        "outputId": "b442a991-f6cc-4c2b-d48e-7b4add1efe4b"
      },
      "source": [
        "#motel index mapping\n",
        "mapping = pd.Series(data.index,index = data['dientich'])\n",
        "mapping"
      ],
      "execution_count": 13,
      "outputs": [
        {
          "output_type": "execute_result",
          "data": {
            "text/plain": [
              "dientich\n",
              "DT: 27.00 m²      0\n",
              "DT: 24.00 m²      1\n",
              "DT: 15.00 m²      2\n",
              "DT: 15.00 m²      3\n",
              "DT: 25.00 m²      4\n",
              "               ... \n",
              "DT: 32.00 m²    403\n",
              "DT: 45.00 m²    404\n",
              "DT: 25.00 m²    405\n",
              "DT: 20.00 m²    406\n",
              "DT: 25.00 m²    407\n",
              "Length: 408, dtype: int64"
            ]
          },
          "metadata": {},
          "execution_count": 13
        }
      ]
    },
    {
      "cell_type": "code",
      "metadata": {
        "id": "nzPZqhHOmoSo"
      },
      "source": [
        "def recommend_motel_based_on_plot(motel_input):\n",
        "  motel_index = mapping[motel_input]\n",
        "  #nhận các giá trị tương tự với các nhà trọ khác\n",
        "  #điểm tương tự là danh sách chỉ số và ma trận tương tự\n",
        "  similarity_score = list(enumerate(similarity_matrix[motel_index]))\n",
        "  #sắp xếp theo thứ tự giảm dần điểm tương tự của nhà trọ được nhập với tất cả các nhà trọ khác\n",
        "  similarity_score = sorted(similarity_score, key=lambda x: x[0], reverse=True)\n",
        "  #Nhận điểm của 5 nhà nghỉ giống nhau nhất. Bỏ qua nhà nghỉ đầu tiên.\n",
        "  similarity_score = similarity_score[1:5]\n",
        "  #trả lại tên nhà nghỉ bằng cách sử dụng chuỗi ánh xạ\n",
        "  motel_indices = [i[0] for i in similarity_score]\n",
        "  return (data['tennhatro'].iloc[motel_indices])"
      ],
      "execution_count": 26,
      "outputs": []
    },
    {
      "cell_type": "code",
      "metadata": {
        "id": "WCNTFdm8mwcm",
        "colab": {
          "base_uri": "https://localhost:8080/"
        },
        "outputId": "89463516-4343-4aa2-bbcb-fdafbec47bb4"
      },
      "source": [
        "recommend_motel_based_on_plot('DT: 15.00 m²')"
      ],
      "execution_count": 15,
      "outputs": [
        {
          "output_type": "execute_result",
          "data": {
            "text/plain": [
              "47                 cho thuê phòng trọ đẹp. rẻ. lịch sự.\n",
              "46                  PHÒNG TRỌ QUẬN NINH KIỀU TP Cần thơ\n",
              "45    Nhà trọ Cầu Hàng Bàng 312K Hoàng quốc việt, An...\n",
              "44    Nhà trọ Cầu Hàng Bàng cho thuê phòng trọ sinh ...\n",
              "Name: tennhatro, dtype: object"
            ]
          },
          "metadata": {},
          "execution_count": 15
        }
      ]
    },
    {
      "cell_type": "code",
      "metadata": {
        "id": "XJrwS7GKnchB"
      },
      "source": [
        "data['gia'] = data['gia'].astype(str)"
      ],
      "execution_count": 16,
      "outputs": []
    },
    {
      "cell_type": "code",
      "metadata": {
        "id": "jrrKCfDKh76f"
      },
      "source": [
        "#Theo gia nha tro\n",
        "tfidf = TfidfVectorizer()\n",
        "data['gia'] = data['gia'].fillna('')\n",
        "\n",
        "overview_matrix = tfidf.fit_transform(data['gia'])\n",
        "\n",
        "overview_matrix.shape\n",
        "\n",
        "similarity_matrix = linear_kernel(overview_matrix,overview_matrix)\n",
        "similarity_matrix\n",
        "\n",
        "#motel index mapping\n",
        "mapping = pd.Series(data.index,index = data['gia'])\n",
        "mapping\n",
        "\n",
        "def recommend_motel_based_on_plot(motel_input):\n",
        "  motel_index = mapping[motel_input]\n",
        "\n",
        "  similarity_score = list(enumerate(similarity_matrix[motel_index]))\n",
        "\n",
        "  similarity_score = sorted(similarity_score, key=lambda x: x[0], reverse=True)\n",
        "\n",
        "  similarity_score = similarity_score[1:6]\n",
        "\n",
        "  motel_indices = [i[0] for i in similarity_score]\n",
        "  return (data['tennhatro'].iloc[motel_indices])"
      ],
      "execution_count": 19,
      "outputs": []
    },
    {
      "cell_type": "code",
      "metadata": {
        "colab": {
          "base_uri": "https://localhost:8080/"
        },
        "id": "DKgGMqY-iMu0",
        "outputId": "1f358262-ff3c-4b3b-97a1-d0ef321847b7"
      },
      "source": [
        "recommend_motel_based_on_plot('2000000')"
      ],
      "execution_count": 20,
      "outputs": [
        {
          "output_type": "execute_result",
          "data": {
            "text/plain": [
              "23    Cho thuê phòng trọ sinh viên giá 700. Địa chỉ:...\n",
              "22                     Phòng trọ cho thuê giá 1.000.000\n",
              "21    Phòng trọ cao cấp khu trung tâm thương mại cần...\n",
              "20    Cho thuê phòng trọ đầy đủ tiện nghi tại trung ...\n",
              "19    CHO THUÊ NHÀ TRỌ CAO CẤP TẠI KHU NÔNG THỔ SẢN ...\n",
              "Name: tennhatro, dtype: object"
            ]
          },
          "metadata": {},
          "execution_count": 20
        }
      ]
    },
    {
      "cell_type": "code",
      "metadata": {
        "id": "_GRjyggBoHiD"
      },
      "source": [
        "data['luotxem'] = data['luotxem'].astype(str)"
      ],
      "execution_count": 21,
      "outputs": []
    },
    {
      "cell_type": "code",
      "metadata": {
        "id": "nuqcmYebiT30"
      },
      "source": [
        "#Theo luot xem cua nha tro\n",
        "tfidf = TfidfVectorizer()\n",
        "data['luotxem'] = data['luotxem'].fillna('')\n",
        "\n",
        "overview_matrix = tfidf.fit_transform(data['luotxem'])\n",
        "\n",
        "overview_matrix.shape\n",
        "\n",
        "similarity_matrix = linear_kernel(overview_matrix,overview_matrix)\n",
        "similarity_matrix\n",
        "\n",
        "#motel index mapping\n",
        "mapping = pd.Series(data.index,index = data['luotxem'])\n",
        "mapping\n",
        "\n",
        "def recommend_motel_based_on_plot(motel_input):\n",
        "  motel_index = mapping[motel_input]\n",
        "\n",
        "  similarity_score = list(enumerate(similarity_matrix[motel_index]))\n",
        "\n",
        "  similarity_score = sorted(similarity_score, key=lambda x: x[0], reverse=True)\n",
        "\n",
        "  similarity_score = similarity_score[1:6]\n",
        "\n",
        "  motel_indices = [i[0] for i in similarity_score]\n",
        "  return (data['tennhatro'].iloc[motel_indices])"
      ],
      "execution_count": 22,
      "outputs": []
    },
    {
      "cell_type": "code",
      "metadata": {
        "colab": {
          "base_uri": "https://localhost:8080/"
        },
        "id": "Qu6ncZswij3M",
        "outputId": "c3d1e73f-8e5b-40f1-b350-5431a83b13dd"
      },
      "source": [
        "recommend_motel_based_on_plot('78796')"
      ],
      "execution_count": 23,
      "outputs": [
        {
          "output_type": "execute_result",
          "data": {
            "text/plain": [
              "406    Phòng Trọ Sinh Viên\\r\n",
              "405        Nhà Trọ Minh Quân\n",
              "404       Nhà trọ Ngọc Huyền\n",
              "403        NHÀ TRO MINH LUAN\n",
              "402      nhà trọ thuận duyên\n",
              "Name: tennhatro, dtype: object"
            ]
          },
          "metadata": {},
          "execution_count": 23
        }
      ]
    },
    {
      "cell_type": "code",
      "metadata": {
        "id": "OIAIc8wGipI6"
      },
      "source": [
        "#Theo noi toa lac\n",
        "tfidf = TfidfVectorizer()\n",
        "data['toalac'] = data['toalac'].fillna('')\n",
        "\n",
        "overview_matrix = tfidf.fit_transform(data['toalac'])\n",
        "\n",
        "overview_matrix.shape\n",
        "\n",
        "similarity_matrix = linear_kernel(overview_matrix,overview_matrix)\n",
        "similarity_matrix\n",
        "\n",
        "#motel index mapping\n",
        "mapping = pd.Series(data.index,index = data['toalac'])\n",
        "mapping\n",
        "\n",
        "def recommend_motel_based_on_plot(motel_input):\n",
        "  motel_index = mapping[motel_input]\n",
        "\n",
        "  similarity_score = list(enumerate(similarity_matrix[motel_index]))\n",
        "\n",
        "  similarity_score = sorted(similarity_score, key=lambda x: x[0], reverse=True)\n",
        "\n",
        "  similarity_score = similarity_score[1:6]\n",
        "\n",
        "  motel_indices = [i[0] for i in similarity_score]\n",
        "  return (data['tennhatro'].iloc[motel_indices])"
      ],
      "execution_count": 24,
      "outputs": []
    },
    {
      "cell_type": "code",
      "metadata": {
        "colab": {
          "base_uri": "https://localhost:8080/"
        },
        "id": "CduR-0rTizf_",
        "outputId": "2b664acc-0177-42a3-deac-6768ebef5b7f"
      },
      "source": [
        "recommend_motel_based_on_plot('Ninh Kiều')"
      ],
      "execution_count": 25,
      "outputs": [
        {
          "output_type": "execute_result",
          "data": {
            "text/plain": [
              "285                                Nhà Trọ Sinh Viên 259\n",
              "284    Nhà Trọ Cần Thơ | Nhà Trọ Sinh Viên | Nhà Trọ ...\n",
              "283                           Nhà Trọ Sinh Viên Học Sinh\n",
              "282                                     Nhà Trọ Ngọc Thy\n",
              "281                                     Nhà trọ Hồng Vân\n",
              "Name: tennhatro, dtype: object"
            ]
          },
          "metadata": {},
          "execution_count": 25
        }
      ]
    }
  ]
}