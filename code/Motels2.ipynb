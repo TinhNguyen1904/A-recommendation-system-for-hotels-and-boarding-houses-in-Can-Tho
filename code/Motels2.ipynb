{
  "nbformat": 4,
  "nbformat_minor": 0,
  "metadata": {
    "colab": {
      "name": "Cach2.ipynb",
      "provenance": [],
      "collapsed_sections": []
    },
    "kernelspec": {
      "name": "python3",
      "display_name": "Python 3"
    },
    "language_info": {
      "name": "python"
    }
  },
  "cells": [
    {
      "cell_type": "code",
      "metadata": {
        "id": "jU2BOywj4hdE"
      },
      "source": [
        "#import thư viện\n",
        "import numpy as np\n",
        "import pandas as pd\n",
        "from sklearn.metrics.pairwise import cosine_similarity\n",
        "from sklearn.metrics import mean_squared_error\n",
        "from sklearn.model_selection import train_test_split\n",
        "from sklearn.feature_extraction.text import TfidfVectorizer\n",
        "from sklearn.metrics.pairwise import linear_kernel"
      ],
      "execution_count": 1,
      "outputs": []
    },
    {
      "cell_type": "code",
      "metadata": {
        "colab": {
          "base_uri": "https://localhost:8080/",
          "height": 287
        },
        "id": "cUCVNDbW4yzj",
        "outputId": "8b4a8e00-7920-49e5-9826-41d34b286100"
      },
      "source": [
        "df = pd.read_csv('datasets_motels.csv')\n",
        "df.head()"
      ],
      "execution_count": 2,
      "outputs": [
        {
          "output_type": "execute_result",
          "data": {
            "text/html": [
              "<div>\n",
              "<style scoped>\n",
              "    .dataframe tbody tr th:only-of-type {\n",
              "        vertical-align: middle;\n",
              "    }\n",
              "\n",
              "    .dataframe tbody tr th {\n",
              "        vertical-align: top;\n",
              "    }\n",
              "\n",
              "    .dataframe thead th {\n",
              "        text-align: right;\n",
              "    }\n",
              "</style>\n",
              "<table border=\"1\" class=\"dataframe\">\n",
              "  <thead>\n",
              "    <tr style=\"text-align: right;\">\n",
              "      <th></th>\n",
              "      <th>id_motels</th>\n",
              "      <th>tennhatro</th>\n",
              "      <th>diachi</th>\n",
              "      <th>toalac</th>\n",
              "      <th>danhgia</th>\n",
              "      <th>gia</th>\n",
              "      <th>dientich</th>\n",
              "      <th>noidung</th>\n",
              "      <th>luotxem</th>\n",
              "    </tr>\n",
              "  </thead>\n",
              "  <tbody>\n",
              "    <tr>\n",
              "      <th>0</th>\n",
              "      <td>0</td>\n",
              "      <td>Cho Thuê Phòng Trọ Có Sẵn Nội Thất</td>\n",
              "      <td>Địa chỉ: Hẻm 278, đường Tầm Vu</td>\n",
              "      <td>Ninh Kiều</td>\n",
              "      <td>5.0</td>\n",
              "      <td>2700000</td>\n",
              "      <td>DT: 27.00 m²</td>\n",
              "      <td>Mùa nhập học đến rồi_Các bạn sinh viên đã tìm ...</td>\n",
              "      <td>78796</td>\n",
              "    </tr>\n",
              "    <tr>\n",
              "      <th>1</th>\n",
              "      <td>1</td>\n",
              "      <td>Cho thuê phòng trọ mới thoáng mát</td>\n",
              "      <td>Địa chỉ: 156b1. Đường Nguyễn Tri Phương, p An ...</td>\n",
              "      <td>Ninh Kiều</td>\n",
              "      <td>1.2</td>\n",
              "      <td>1000000</td>\n",
              "      <td>DT: 24.00 m²</td>\n",
              "      <td>Cho thuê phòng trọ đường Nguyễn Tri Phương,  p...</td>\n",
              "      <td>1891</td>\n",
              "    </tr>\n",
              "    <tr>\n",
              "      <th>2</th>\n",
              "      <td>2</td>\n",
              "      <td>NHÀ TRỌ ĐƯỜNG TẦM VU , KẾ TU VIỆN , NHÀ HÀNG M...</td>\n",
              "      <td>Địa chỉ: 360 Tầm Vu , phường Hưng Lợi , quận N...</td>\n",
              "      <td>Ninh Kiều</td>\n",
              "      <td>2.7</td>\n",
              "      <td>1200000</td>\n",
              "      <td>DT: 15.00 m²</td>\n",
              "      <td>NHÀ TRỌ ĐƯỜNG TẦM VU , KẾ TU VIỆN , NHÀ HÀNG M...</td>\n",
              "      <td>13095</td>\n",
              "    </tr>\n",
              "    <tr>\n",
              "      <th>3</th>\n",
              "      <td>3</td>\n",
              "      <td>NHÀ TRỌ ĐƯỜNG TẦM VU , GẦN NHÀ HÀNG MÊKONG , C...</td>\n",
              "      <td>Địa chỉ: 360A ,ĐƯỜNG TẦM VU , PHƯỜNG HƯNG LỢI ...</td>\n",
              "      <td>Ninh Kiều</td>\n",
              "      <td>3.0</td>\n",
              "      <td>1200000</td>\n",
              "      <td>DT: 15.00 m²</td>\n",
              "      <td>NHÀ TRỌ ĐƯỜNG TẦM VU , KẾ TU VIỆN , NHÀ HÀNG M...</td>\n",
              "      <td>21811</td>\n",
              "    </tr>\n",
              "    <tr>\n",
              "      <th>4</th>\n",
              "      <td>4</td>\n",
              "      <td>Phòng trọ, nhà nghỉ Hoàng Phương Đông cần cho ...</td>\n",
              "      <td>Địa chỉ: 14R Trần Văn Sắc</td>\n",
              "      <td>Ninh Kiều</td>\n",
              "      <td>1.5</td>\n",
              "      <td>2000000</td>\n",
              "      <td>DT: 25.00 m²</td>\n",
              "      <td>Cho thuê phòng trọ mới sạch đẹp trang thiết bị...</td>\n",
              "      <td>8011</td>\n",
              "    </tr>\n",
              "  </tbody>\n",
              "</table>\n",
              "</div>"
            ],
            "text/plain": [
              "   id_motels  ... luotxem\n",
              "0          0  ...   78796\n",
              "1          1  ...    1891\n",
              "2          2  ...   13095\n",
              "3          3  ...   21811\n",
              "4          4  ...    8011\n",
              "\n",
              "[5 rows x 9 columns]"
            ]
          },
          "metadata": {},
          "execution_count": 2
        }
      ]
    },
    {
      "cell_type": "code",
      "metadata": {
        "id": "_fRVipoD415a"
      },
      "source": [
        "def sentiment(gia):\n",
        "  if gia in range(0,1000000):\n",
        "    return 'Dưới 1 triệu'\n",
        "  elif gia in range(1000001,2000000):\n",
        "    return '1 triệu - 2 triệu'\n",
        "  else:\n",
        "    return 'Trên 2 triệu'"
      ],
      "execution_count": 3,
      "outputs": []
    },
    {
      "cell_type": "code",
      "metadata": {
        "colab": {
          "base_uri": "https://localhost:8080/",
          "height": 635
        },
        "id": "YFqWTWq65UUK",
        "outputId": "43efa941-535d-4168-8465-b13055086f6b"
      },
      "source": [
        "df['gia1'] = df['gia'].apply(sentiment)\n",
        "df"
      ],
      "execution_count": 4,
      "outputs": [
        {
          "output_type": "execute_result",
          "data": {
            "text/html": [
              "<div>\n",
              "<style scoped>\n",
              "    .dataframe tbody tr th:only-of-type {\n",
              "        vertical-align: middle;\n",
              "    }\n",
              "\n",
              "    .dataframe tbody tr th {\n",
              "        vertical-align: top;\n",
              "    }\n",
              "\n",
              "    .dataframe thead th {\n",
              "        text-align: right;\n",
              "    }\n",
              "</style>\n",
              "<table border=\"1\" class=\"dataframe\">\n",
              "  <thead>\n",
              "    <tr style=\"text-align: right;\">\n",
              "      <th></th>\n",
              "      <th>id_motels</th>\n",
              "      <th>tennhatro</th>\n",
              "      <th>diachi</th>\n",
              "      <th>toalac</th>\n",
              "      <th>danhgia</th>\n",
              "      <th>gia</th>\n",
              "      <th>dientich</th>\n",
              "      <th>noidung</th>\n",
              "      <th>luotxem</th>\n",
              "      <th>gia1</th>\n",
              "    </tr>\n",
              "  </thead>\n",
              "  <tbody>\n",
              "    <tr>\n",
              "      <th>0</th>\n",
              "      <td>0</td>\n",
              "      <td>Cho Thuê Phòng Trọ Có Sẵn Nội Thất</td>\n",
              "      <td>Địa chỉ: Hẻm 278, đường Tầm Vu</td>\n",
              "      <td>Ninh Kiều</td>\n",
              "      <td>5.0</td>\n",
              "      <td>2700000</td>\n",
              "      <td>DT: 27.00 m²</td>\n",
              "      <td>Mùa nhập học đến rồi_Các bạn sinh viên đã tìm ...</td>\n",
              "      <td>78796</td>\n",
              "      <td>Trên 2 triệu</td>\n",
              "    </tr>\n",
              "    <tr>\n",
              "      <th>1</th>\n",
              "      <td>1</td>\n",
              "      <td>Cho thuê phòng trọ mới thoáng mát</td>\n",
              "      <td>Địa chỉ: 156b1. Đường Nguyễn Tri Phương, p An ...</td>\n",
              "      <td>Ninh Kiều</td>\n",
              "      <td>1.2</td>\n",
              "      <td>1000000</td>\n",
              "      <td>DT: 24.00 m²</td>\n",
              "      <td>Cho thuê phòng trọ đường Nguyễn Tri Phương,  p...</td>\n",
              "      <td>1891</td>\n",
              "      <td>Trên 2 triệu</td>\n",
              "    </tr>\n",
              "    <tr>\n",
              "      <th>2</th>\n",
              "      <td>2</td>\n",
              "      <td>NHÀ TRỌ ĐƯỜNG TẦM VU , KẾ TU VIỆN , NHÀ HÀNG M...</td>\n",
              "      <td>Địa chỉ: 360 Tầm Vu , phường Hưng Lợi , quận N...</td>\n",
              "      <td>Ninh Kiều</td>\n",
              "      <td>2.7</td>\n",
              "      <td>1200000</td>\n",
              "      <td>DT: 15.00 m²</td>\n",
              "      <td>NHÀ TRỌ ĐƯỜNG TẦM VU , KẾ TU VIỆN , NHÀ HÀNG M...</td>\n",
              "      <td>13095</td>\n",
              "      <td>1 triệu - 2 triệu</td>\n",
              "    </tr>\n",
              "    <tr>\n",
              "      <th>3</th>\n",
              "      <td>3</td>\n",
              "      <td>NHÀ TRỌ ĐƯỜNG TẦM VU , GẦN NHÀ HÀNG MÊKONG , C...</td>\n",
              "      <td>Địa chỉ: 360A ,ĐƯỜNG TẦM VU , PHƯỜNG HƯNG LỢI ...</td>\n",
              "      <td>Ninh Kiều</td>\n",
              "      <td>3.0</td>\n",
              "      <td>1200000</td>\n",
              "      <td>DT: 15.00 m²</td>\n",
              "      <td>NHÀ TRỌ ĐƯỜNG TẦM VU , KẾ TU VIỆN , NHÀ HÀNG M...</td>\n",
              "      <td>21811</td>\n",
              "      <td>1 triệu - 2 triệu</td>\n",
              "    </tr>\n",
              "    <tr>\n",
              "      <th>4</th>\n",
              "      <td>4</td>\n",
              "      <td>Phòng trọ, nhà nghỉ Hoàng Phương Đông cần cho ...</td>\n",
              "      <td>Địa chỉ: 14R Trần Văn Sắc</td>\n",
              "      <td>Ninh Kiều</td>\n",
              "      <td>1.5</td>\n",
              "      <td>2000000</td>\n",
              "      <td>DT: 25.00 m²</td>\n",
              "      <td>Cho thuê phòng trọ mới sạch đẹp trang thiết bị...</td>\n",
              "      <td>8011</td>\n",
              "      <td>Trên 2 triệu</td>\n",
              "    </tr>\n",
              "    <tr>\n",
              "      <th>...</th>\n",
              "      <td>...</td>\n",
              "      <td>...</td>\n",
              "      <td>...</td>\n",
              "      <td>...</td>\n",
              "      <td>...</td>\n",
              "      <td>...</td>\n",
              "      <td>...</td>\n",
              "      <td>...</td>\n",
              "      <td>...</td>\n",
              "      <td>...</td>\n",
              "    </tr>\n",
              "    <tr>\n",
              "      <th>403</th>\n",
              "      <td>403</td>\n",
              "      <td>NHÀ TRO MINH LUAN</td>\n",
              "      <td>Địa chỉ: Cầu Lê Bình, Thường Thạnh, Cái Răng, ...</td>\n",
              "      <td>Cái Răng</td>\n",
              "      <td>5.0</td>\n",
              "      <td>700000</td>\n",
              "      <td>DT: 32.00 m²</td>\n",
              "      <td>Cho thuê phòng trọ mới sạch đẹp trang thiết bị...</td>\n",
              "      <td>34712</td>\n",
              "      <td>Dưới 1 triệu</td>\n",
              "    </tr>\n",
              "    <tr>\n",
              "      <th>404</th>\n",
              "      <td>404</td>\n",
              "      <td>Nhà trọ Ngọc Huyền</td>\n",
              "      <td>Địa chỉ: 2PJW+FWF, Phường An Khánh, Ninh Kiều,...</td>\n",
              "      <td>Ninh Kiều</td>\n",
              "      <td>0.0</td>\n",
              "      <td>1000000</td>\n",
              "      <td>DT: 45.00 m²</td>\n",
              "      <td>Nhà trọ - Thoáng mát - An ninh - Wc trong - Wi...</td>\n",
              "      <td>123569</td>\n",
              "      <td>Trên 2 triệu</td>\n",
              "    </tr>\n",
              "    <tr>\n",
              "      <th>405</th>\n",
              "      <td>405</td>\n",
              "      <td>Nhà Trọ Minh Quân</td>\n",
              "      <td>Địa chỉ: 25 Đường số 1, Khu Nhà Ở Cán Bộ Giáo ...</td>\n",
              "      <td>Ninh Kiều</td>\n",
              "      <td>0.0</td>\n",
              "      <td>1500000</td>\n",
              "      <td>DT: 25.00 m²</td>\n",
              "      <td>Nhà trọ cao ráo, thoáng mát, sạch đẹp, thiết k...</td>\n",
              "      <td>0</td>\n",
              "      <td>1 triệu - 2 triệu</td>\n",
              "    </tr>\n",
              "    <tr>\n",
              "      <th>406</th>\n",
              "      <td>406</td>\n",
              "      <td>Phòng Trọ Sinh Viên\\r</td>\n",
              "      <td>Địa chỉ: K4 Nguyễn Ngọc Trai, An Phú, Ninh Kiề...</td>\n",
              "      <td>Ninh Kiều</td>\n",
              "      <td>0.0</td>\n",
              "      <td>1000000</td>\n",
              "      <td>DT: 20.00 m²</td>\n",
              "      <td>Phòng trọ đẹp, sạch sẽ, thoáng mát, yên tĩnh, ...</td>\n",
              "      <td>1156</td>\n",
              "      <td>Trên 2 triệu</td>\n",
              "    </tr>\n",
              "    <tr>\n",
              "      <th>407</th>\n",
              "      <td>407</td>\n",
              "      <td>Nhà trọ</td>\n",
              "      <td>Địa chỉ: Hẻm Tổ 6, An Bình, Ninh Kiều, Cần Thơ\\r</td>\n",
              "      <td>Ninh Kiều</td>\n",
              "      <td>0.0</td>\n",
              "      <td>1500000</td>\n",
              "      <td>DT: 25.00 m²</td>\n",
              "      <td>Cho thuê phòng trọ cao cấp ,đầy đủ tiện nghi t...</td>\n",
              "      <td>1298</td>\n",
              "      <td>1 triệu - 2 triệu</td>\n",
              "    </tr>\n",
              "  </tbody>\n",
              "</table>\n",
              "<p>408 rows × 10 columns</p>\n",
              "</div>"
            ],
            "text/plain": [
              "     id_motels  ...               gia1\n",
              "0            0  ...       Trên 2 triệu\n",
              "1            1  ...       Trên 2 triệu\n",
              "2            2  ...  1 triệu - 2 triệu\n",
              "3            3  ...  1 triệu - 2 triệu\n",
              "4            4  ...       Trên 2 triệu\n",
              "..         ...  ...                ...\n",
              "403        403  ...       Dưới 1 triệu\n",
              "404        404  ...       Trên 2 triệu\n",
              "405        405  ...  1 triệu - 2 triệu\n",
              "406        406  ...       Trên 2 triệu\n",
              "407        407  ...  1 triệu - 2 triệu\n",
              "\n",
              "[408 rows x 10 columns]"
            ]
          },
          "metadata": {},
          "execution_count": 4
        }
      ]
    },
    {
      "cell_type": "code",
      "metadata": {
        "colab": {
          "base_uri": "https://localhost:8080/"
        },
        "id": "HJB-ihdF52NJ",
        "outputId": "667b7e53-2675-4cc9-e87a-fbefff2e4f7b"
      },
      "source": [
        "df.info()"
      ],
      "execution_count": 5,
      "outputs": [
        {
          "output_type": "stream",
          "name": "stdout",
          "text": [
            "<class 'pandas.core.frame.DataFrame'>\n",
            "RangeIndex: 408 entries, 0 to 407\n",
            "Data columns (total 10 columns):\n",
            " #   Column     Non-Null Count  Dtype  \n",
            "---  ------     --------------  -----  \n",
            " 0   id_motels  408 non-null    int64  \n",
            " 1   tennhatro  408 non-null    object \n",
            " 2   diachi     407 non-null    object \n",
            " 3   toalac     408 non-null    object \n",
            " 4   danhgia    408 non-null    float64\n",
            " 5   gia        408 non-null    int64  \n",
            " 6   dientich   408 non-null    object \n",
            " 7   noidung    408 non-null    object \n",
            " 8   luotxem    408 non-null    int64  \n",
            " 9   gia1       408 non-null    object \n",
            "dtypes: float64(1), int64(3), object(6)\n",
            "memory usage: 32.0+ KB\n"
          ]
        }
      ]
    },
    {
      "cell_type": "code",
      "metadata": {
        "colab": {
          "base_uri": "https://localhost:8080/"
        },
        "id": "gT0ajOjrHG1k",
        "outputId": "afb96ac8-13aa-496b-9dec-946f4a152433"
      },
      "source": [
        "tfidf = TfidfVectorizer()\n",
        "df['gia1'] = df['gia1'].fillna('')\n",
        "#Xây dựng ma trận TF-IDF bắt buộc bằng cách áp dụng phương pháp fit_transform trên tính năng tổng quan\n",
        "overview_matrix = tfidf.fit_transform(df['gia1'])\n",
        "#Xuất ra hình dạng của tfidf_matrix\n",
        "overview_matrix.shape"
      ],
      "execution_count": 6,
      "outputs": [
        {
          "output_type": "execute_result",
          "data": {
            "text/plain": [
              "(408, 3)"
            ]
          },
          "metadata": {},
          "execution_count": 6
        }
      ]
    },
    {
      "cell_type": "code",
      "metadata": {
        "colab": {
          "base_uri": "https://localhost:8080/"
        },
        "id": "-dqpMcpyHJ0K",
        "outputId": "90f913d3-c132-48d6-d500-c696ae0d6f74"
      },
      "source": [
        "similarity_matrix = linear_kernel(overview_matrix,overview_matrix)\n",
        "similarity_matrix"
      ],
      "execution_count": 7,
      "outputs": [
        {
          "output_type": "execute_result",
          "data": {
            "text/plain": [
              "array([[1.        , 1.        , 0.49036696, ..., 0.49036696, 1.        ,\n",
              "        0.49036696],\n",
              "       [1.        , 1.        , 0.49036696, ..., 0.49036696, 1.        ,\n",
              "        0.49036696],\n",
              "       [0.49036696, 0.49036696, 1.        , ..., 1.        , 0.49036696,\n",
              "        1.        ],\n",
              "       ...,\n",
              "       [0.49036696, 0.49036696, 1.        , ..., 1.        , 0.49036696,\n",
              "        1.        ],\n",
              "       [1.        , 1.        , 0.49036696, ..., 0.49036696, 1.        ,\n",
              "        0.49036696],\n",
              "       [0.49036696, 0.49036696, 1.        , ..., 1.        , 0.49036696,\n",
              "        1.        ]])"
            ]
          },
          "metadata": {},
          "execution_count": 7
        }
      ]
    },
    {
      "cell_type": "code",
      "metadata": {
        "colab": {
          "base_uri": "https://localhost:8080/"
        },
        "id": "MSk_wsZtHLKi",
        "outputId": "51f73cea-4087-4847-c22a-a176778e9fa8"
      },
      "source": [
        "#motel index mapping\n",
        "mapping = pd.Series(df.index,index = df['gia1'])\n",
        "mapping"
      ],
      "execution_count": 8,
      "outputs": [
        {
          "output_type": "execute_result",
          "data": {
            "text/plain": [
              "gia1\n",
              "Trên 2 triệu           0\n",
              "Trên 2 triệu           1\n",
              "1 triệu - 2 triệu      2\n",
              "1 triệu - 2 triệu      3\n",
              "Trên 2 triệu           4\n",
              "                    ... \n",
              "Dưới 1 triệu         403\n",
              "Trên 2 triệu         404\n",
              "1 triệu - 2 triệu    405\n",
              "Trên 2 triệu         406\n",
              "1 triệu - 2 triệu    407\n",
              "Length: 408, dtype: int64"
            ]
          },
          "metadata": {},
          "execution_count": 8
        }
      ]
    },
    {
      "cell_type": "code",
      "metadata": {
        "id": "KBgY1lHDHOa1"
      },
      "source": [
        "def recommend_motel_based_on_plot(motel_input):\n",
        "  motel_index = mapping[motel_input]\n",
        "  #nhận các giá trị tương tự với các nhà trọ khác\n",
        "  #điểm tương tự là danh sách chỉ số và ma trận tương tự\n",
        "  similarity_score = list(enumerate(similarity_matrix[motel_index]))\n",
        "  #sắp xếp theo thứ tự giảm dần điểm tương tự của nhà trọ được nhập với tất cả các nhà trọ khác\n",
        "  similarity_score = sorted(similarity_score, key=lambda x: x[0], reverse=True)\n",
        "  # Nhận điểm của 5 nhà nghỉ giống nhau nhất. Bỏ qua nhà nghỉ đầu tiên.\n",
        "  similarity_score = similarity_score[0:5]\n",
        "  #trả lại tên nhà nghỉ bằng cách sử dụng chuỗi ánh xạ\n",
        "  motel_indices = [i[0] for i in similarity_score]\n",
        "  return (df[['tennhatro','gia']].iloc[motel_indices])"
      ],
      "execution_count": 11,
      "outputs": []
    },
    {
      "cell_type": "code",
      "metadata": {
        "colab": {
          "base_uri": "https://localhost:8080/",
          "height": 203
        },
        "id": "dVq4weatHRlo",
        "outputId": "d9f0ef29-610a-4d39-bde6-7c8604138a00"
      },
      "source": [
        "recommend_motel_based_on_plot('Dưới 1 triệu')"
      ],
      "execution_count": 12,
      "outputs": [
        {
          "output_type": "execute_result",
          "data": {
            "text/html": [
              "<div>\n",
              "<style scoped>\n",
              "    .dataframe tbody tr th:only-of-type {\n",
              "        vertical-align: middle;\n",
              "    }\n",
              "\n",
              "    .dataframe tbody tr th {\n",
              "        vertical-align: top;\n",
              "    }\n",
              "\n",
              "    .dataframe thead th {\n",
              "        text-align: right;\n",
              "    }\n",
              "</style>\n",
              "<table border=\"1\" class=\"dataframe\">\n",
              "  <thead>\n",
              "    <tr style=\"text-align: right;\">\n",
              "      <th></th>\n",
              "      <th>tennhatro</th>\n",
              "      <th>gia</th>\n",
              "    </tr>\n",
              "  </thead>\n",
              "  <tbody>\n",
              "    <tr>\n",
              "      <th>126</th>\n",
              "      <td>Tìm nam ở ghép sinh viên hoặc đi làm</td>\n",
              "      <td>800000</td>\n",
              "    </tr>\n",
              "    <tr>\n",
              "      <th>125</th>\n",
              "      <td>Tim nam ở ghép 700k chưa điện nước</td>\n",
              "      <td>700000</td>\n",
              "    </tr>\n",
              "    <tr>\n",
              "      <th>124</th>\n",
              "      <td>Cần nữ ở ghép giá 650k/tháng/người</td>\n",
              "      <td>1200000</td>\n",
              "    </tr>\n",
              "    <tr>\n",
              "      <th>123</th>\n",
              "      <td>Xin ở ghép, do chưa có phòng trọ.</td>\n",
              "      <td>1500000</td>\n",
              "    </tr>\n",
              "    <tr>\n",
              "      <th>122</th>\n",
              "      <td>Bình Thủy</td>\n",
              "      <td>800000</td>\n",
              "    </tr>\n",
              "  </tbody>\n",
              "</table>\n",
              "</div>"
            ],
            "text/plain": [
              "                                tennhatro      gia\n",
              "126  Tìm nam ở ghép sinh viên hoặc đi làm   800000\n",
              "125    Tim nam ở ghép 700k chưa điện nước   700000\n",
              "124    Cần nữ ở ghép giá 650k/tháng/người  1200000\n",
              "123     Xin ở ghép, do chưa có phòng trọ.  1500000\n",
              "122                             Bình Thủy   800000"
            ]
          },
          "metadata": {},
          "execution_count": 12
        }
      ]
    },
    {
      "cell_type": "code",
      "metadata": {
        "colab": {
          "base_uri": "https://localhost:8080/",
          "height": 354
        },
        "id": "bPGuxNPvkCnm",
        "outputId": "472bfd11-545f-49fd-bdb3-e8d5abe8b20d"
      },
      "source": [
        "def sentiment(luotxem):\n",
        "  if luotxem in range(0,1000):\n",
        "    return 'Thấp'\n",
        "  elif luotxem in range(1001,10000):\n",
        "    return 'Trung Bình'\n",
        "  elif luotxem in range(10001,50000):\n",
        "    return 'Khá'\n",
        "  elif luotxem in range(50001,70000):\n",
        "    return 'Tốt'\n",
        "  else:\n",
        "    return 'Rất tốt' \n",
        "\n",
        "df['luotxem1'] = df['luotxem'].apply(sentiment)\n",
        "df.head()"
      ],
      "execution_count": 13,
      "outputs": [
        {
          "output_type": "execute_result",
          "data": {
            "text/html": [
              "<div>\n",
              "<style scoped>\n",
              "    .dataframe tbody tr th:only-of-type {\n",
              "        vertical-align: middle;\n",
              "    }\n",
              "\n",
              "    .dataframe tbody tr th {\n",
              "        vertical-align: top;\n",
              "    }\n",
              "\n",
              "    .dataframe thead th {\n",
              "        text-align: right;\n",
              "    }\n",
              "</style>\n",
              "<table border=\"1\" class=\"dataframe\">\n",
              "  <thead>\n",
              "    <tr style=\"text-align: right;\">\n",
              "      <th></th>\n",
              "      <th>id_motels</th>\n",
              "      <th>tennhatro</th>\n",
              "      <th>diachi</th>\n",
              "      <th>toalac</th>\n",
              "      <th>danhgia</th>\n",
              "      <th>gia</th>\n",
              "      <th>dientich</th>\n",
              "      <th>noidung</th>\n",
              "      <th>luotxem</th>\n",
              "      <th>gia1</th>\n",
              "      <th>luotxem1</th>\n",
              "    </tr>\n",
              "  </thead>\n",
              "  <tbody>\n",
              "    <tr>\n",
              "      <th>0</th>\n",
              "      <td>0</td>\n",
              "      <td>Cho Thuê Phòng Trọ Có Sẵn Nội Thất</td>\n",
              "      <td>Địa chỉ: Hẻm 278, đường Tầm Vu</td>\n",
              "      <td>Ninh Kiều</td>\n",
              "      <td>5.0</td>\n",
              "      <td>2700000</td>\n",
              "      <td>DT: 27.00 m²</td>\n",
              "      <td>Mùa nhập học đến rồi_Các bạn sinh viên đã tìm ...</td>\n",
              "      <td>78796</td>\n",
              "      <td>Trên 2 triệu</td>\n",
              "      <td>Rất tốt</td>\n",
              "    </tr>\n",
              "    <tr>\n",
              "      <th>1</th>\n",
              "      <td>1</td>\n",
              "      <td>Cho thuê phòng trọ mới thoáng mát</td>\n",
              "      <td>Địa chỉ: 156b1. Đường Nguyễn Tri Phương, p An ...</td>\n",
              "      <td>Ninh Kiều</td>\n",
              "      <td>1.2</td>\n",
              "      <td>1000000</td>\n",
              "      <td>DT: 24.00 m²</td>\n",
              "      <td>Cho thuê phòng trọ đường Nguyễn Tri Phương,  p...</td>\n",
              "      <td>1891</td>\n",
              "      <td>Trên 2 triệu</td>\n",
              "      <td>Trung Bình</td>\n",
              "    </tr>\n",
              "    <tr>\n",
              "      <th>2</th>\n",
              "      <td>2</td>\n",
              "      <td>NHÀ TRỌ ĐƯỜNG TẦM VU , KẾ TU VIỆN , NHÀ HÀNG M...</td>\n",
              "      <td>Địa chỉ: 360 Tầm Vu , phường Hưng Lợi , quận N...</td>\n",
              "      <td>Ninh Kiều</td>\n",
              "      <td>2.7</td>\n",
              "      <td>1200000</td>\n",
              "      <td>DT: 15.00 m²</td>\n",
              "      <td>NHÀ TRỌ ĐƯỜNG TẦM VU , KẾ TU VIỆN , NHÀ HÀNG M...</td>\n",
              "      <td>13095</td>\n",
              "      <td>1 triệu - 2 triệu</td>\n",
              "      <td>Khá</td>\n",
              "    </tr>\n",
              "    <tr>\n",
              "      <th>3</th>\n",
              "      <td>3</td>\n",
              "      <td>NHÀ TRỌ ĐƯỜNG TẦM VU , GẦN NHÀ HÀNG MÊKONG , C...</td>\n",
              "      <td>Địa chỉ: 360A ,ĐƯỜNG TẦM VU , PHƯỜNG HƯNG LỢI ...</td>\n",
              "      <td>Ninh Kiều</td>\n",
              "      <td>3.0</td>\n",
              "      <td>1200000</td>\n",
              "      <td>DT: 15.00 m²</td>\n",
              "      <td>NHÀ TRỌ ĐƯỜNG TẦM VU , KẾ TU VIỆN , NHÀ HÀNG M...</td>\n",
              "      <td>21811</td>\n",
              "      <td>1 triệu - 2 triệu</td>\n",
              "      <td>Khá</td>\n",
              "    </tr>\n",
              "    <tr>\n",
              "      <th>4</th>\n",
              "      <td>4</td>\n",
              "      <td>Phòng trọ, nhà nghỉ Hoàng Phương Đông cần cho ...</td>\n",
              "      <td>Địa chỉ: 14R Trần Văn Sắc</td>\n",
              "      <td>Ninh Kiều</td>\n",
              "      <td>1.5</td>\n",
              "      <td>2000000</td>\n",
              "      <td>DT: 25.00 m²</td>\n",
              "      <td>Cho thuê phòng trọ mới sạch đẹp trang thiết bị...</td>\n",
              "      <td>8011</td>\n",
              "      <td>Trên 2 triệu</td>\n",
              "      <td>Trung Bình</td>\n",
              "    </tr>\n",
              "  </tbody>\n",
              "</table>\n",
              "</div>"
            ],
            "text/plain": [
              "   id_motels  ...    luotxem1\n",
              "0          0  ...     Rất tốt\n",
              "1          1  ...  Trung Bình\n",
              "2          2  ...         Khá\n",
              "3          3  ...         Khá\n",
              "4          4  ...  Trung Bình\n",
              "\n",
              "[5 rows x 11 columns]"
            ]
          },
          "metadata": {},
          "execution_count": 13
        }
      ]
    },
    {
      "cell_type": "code",
      "metadata": {
        "id": "tZdlJ3v8kWsE"
      },
      "source": [
        "tfidf = TfidfVectorizer()\n",
        "df['luotxem1'] = df['luotxem1'].fillna('')\n",
        "\n",
        "overview_matrix = tfidf.fit_transform(df['luotxem1'])\n",
        "\n",
        "overview_matrix.shape\n",
        "\n",
        "similarity_matrix = linear_kernel(overview_matrix,overview_matrix)\n",
        "similarity_matrix\n",
        "\n",
        "\n",
        "mapping = pd.Series(df.index,index = df['luotxem1'])\n",
        "\n",
        "\n",
        "def recommend_motel_based_on_plot(motel_input):\n",
        "  motel_index = mapping[motel_input]\n",
        "\n",
        "  similarity_score = list(enumerate(similarity_matrix[motel_index]))\n",
        "\n",
        "  similarity_score = sorted(similarity_score, key=lambda x: x[0], reverse=True)\n",
        "  \n",
        "  similarity_score = similarity_score[0:5]\n",
        "  \n",
        "  motel_indices = [i[0] for i in similarity_score]\n",
        "  return (df[['tennhatro','gia']].iloc[motel_indices])"
      ],
      "execution_count": 14,
      "outputs": []
    },
    {
      "cell_type": "code",
      "metadata": {
        "colab": {
          "base_uri": "https://localhost:8080/",
          "height": 203
        },
        "id": "HhDtWsOaklJw",
        "outputId": "d2d4fe8a-954f-4b52-de5d-21ec82fd4c7b"
      },
      "source": [
        "recommend_motel_based_on_plot('Tốt')"
      ],
      "execution_count": 15,
      "outputs": [
        {
          "output_type": "execute_result",
          "data": {
            "text/html": [
              "<div>\n",
              "<style scoped>\n",
              "    .dataframe tbody tr th:only-of-type {\n",
              "        vertical-align: middle;\n",
              "    }\n",
              "\n",
              "    .dataframe tbody tr th {\n",
              "        vertical-align: top;\n",
              "    }\n",
              "\n",
              "    .dataframe thead th {\n",
              "        text-align: right;\n",
              "    }\n",
              "</style>\n",
              "<table border=\"1\" class=\"dataframe\">\n",
              "  <thead>\n",
              "    <tr style=\"text-align: right;\">\n",
              "      <th></th>\n",
              "      <th>tennhatro</th>\n",
              "      <th>gia</th>\n",
              "    </tr>\n",
              "  </thead>\n",
              "  <tbody>\n",
              "    <tr>\n",
              "      <th>27</th>\n",
              "      <td>Phòng trọ sinh viên giá rẻ địa chỉ 286/13 CMT8</td>\n",
              "      <td>700000</td>\n",
              "    </tr>\n",
              "    <tr>\n",
              "      <th>26</th>\n",
              "      <td>Cho thuê phòng trọ đầy đủ tiện nghi tại trung ...</td>\n",
              "      <td>1500000</td>\n",
              "    </tr>\n",
              "    <tr>\n",
              "      <th>25</th>\n",
              "      <td>Cho thuê phòng trọ đầy đủ tiện nghi tại trung ...</td>\n",
              "      <td>1500000</td>\n",
              "    </tr>\n",
              "    <tr>\n",
              "      <th>24</th>\n",
              "      <td>Cho thuê phòng trọ đầy đủ tiện nghi tại trung ...</td>\n",
              "      <td>1500000</td>\n",
              "    </tr>\n",
              "    <tr>\n",
              "      <th>23</th>\n",
              "      <td>Cho thuê phòng trọ sinh viên giá 700. Địa chỉ:...</td>\n",
              "      <td>700000</td>\n",
              "    </tr>\n",
              "  </tbody>\n",
              "</table>\n",
              "</div>"
            ],
            "text/plain": [
              "                                            tennhatro      gia\n",
              "27     Phòng trọ sinh viên giá rẻ địa chỉ 286/13 CMT8   700000\n",
              "26  Cho thuê phòng trọ đầy đủ tiện nghi tại trung ...  1500000\n",
              "25  Cho thuê phòng trọ đầy đủ tiện nghi tại trung ...  1500000\n",
              "24  Cho thuê phòng trọ đầy đủ tiện nghi tại trung ...  1500000\n",
              "23  Cho thuê phòng trọ sinh viên giá 700. Địa chỉ:...   700000"
            ]
          },
          "metadata": {},
          "execution_count": 15
        }
      ]
    }
  ]
}