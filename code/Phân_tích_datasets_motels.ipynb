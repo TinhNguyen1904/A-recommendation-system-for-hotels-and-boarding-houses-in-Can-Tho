{
  "nbformat": 4,
  "nbformat_minor": 0,
  "metadata": {
    "colab": {
      "name": "Phân_tích_datasets_motels.ipynb",
      "provenance": [],
      "collapsed_sections": []
    },
    "kernelspec": {
      "name": "python3",
      "display_name": "Python 3"
    },
    "language_info": {
      "name": "python"
    }
  },
  "cells": [
    {
      "cell_type": "code",
      "metadata": {
        "id": "LAUbOFIIf_pG"
      },
      "source": [
        "#import thư viện\n",
        "from textblob import TextBlob\n",
        "from sklearn.feature_extraction.text import TfidfVectorizer\n",
        "from sklearn.feature_extraction import text\n",
        "import pandas as pd\n",
        "import numpy as np\n",
        "import matplotlib.pyplot as plt\n",
        "from sklearn.model_selection import train_test_split\n",
        "from sklearn.linear_model import LogisticRegression\n",
        "from sklearn.ensemble import RandomForestClassifier\n",
        "from sklearn.tree import DecisionTreeClassifier\n",
        "from sklearn.neural_network import MLPClassifier\n",
        "from sklearn.metrics import accuracy_score\n",
        "import seaborn as sns"
      ],
      "execution_count": 1,
      "outputs": []
    },
    {
      "cell_type": "code",
      "metadata": {
        "colab": {
          "base_uri": "https://localhost:8080/",
          "height": 293
        },
        "id": "BtLDOmc5myJV",
        "outputId": "57774374-a2ec-4d03-834b-bd0c5fb27151"
      },
      "source": [
        "df = pd.read_csv(\"datasets_motels.csv\")\n",
        "df.head(5)"
      ],
      "execution_count": 2,
      "outputs": [
        {
          "output_type": "execute_result",
          "data": {
            "text/html": [
              "<div>\n",
              "<style scoped>\n",
              "    .dataframe tbody tr th:only-of-type {\n",
              "        vertical-align: middle;\n",
              "    }\n",
              "\n",
              "    .dataframe tbody tr th {\n",
              "        vertical-align: top;\n",
              "    }\n",
              "\n",
              "    .dataframe thead th {\n",
              "        text-align: right;\n",
              "    }\n",
              "</style>\n",
              "<table border=\"1\" class=\"dataframe\">\n",
              "  <thead>\n",
              "    <tr style=\"text-align: right;\">\n",
              "      <th></th>\n",
              "      <th>id_motels</th>\n",
              "      <th>tennhatro</th>\n",
              "      <th>diachi</th>\n",
              "      <th>toalac</th>\n",
              "      <th>danhgia</th>\n",
              "      <th>gia</th>\n",
              "      <th>dientich</th>\n",
              "      <th>noidung</th>\n",
              "      <th>luotxem</th>\n",
              "    </tr>\n",
              "  </thead>\n",
              "  <tbody>\n",
              "    <tr>\n",
              "      <th>0</th>\n",
              "      <td>0</td>\n",
              "      <td>Cho Thuê Phòng Trọ Có Sẵn Nội Thất</td>\n",
              "      <td>Địa chỉ: Hẻm 278, đường Tầm Vu</td>\n",
              "      <td>Ninh Kiều</td>\n",
              "      <td>5.0</td>\n",
              "      <td>2700000</td>\n",
              "      <td>DT: 27.00 m²</td>\n",
              "      <td>Mùa nhập học đến rồi_Các bạn sinh viên đã tìm ...</td>\n",
              "      <td>78796</td>\n",
              "    </tr>\n",
              "    <tr>\n",
              "      <th>1</th>\n",
              "      <td>1</td>\n",
              "      <td>Cho thuê phòng trọ mới thoáng mát</td>\n",
              "      <td>Địa chỉ: 156b1. Đường Nguyễn Tri Phương, p An ...</td>\n",
              "      <td>Ninh Kiều</td>\n",
              "      <td>1.2</td>\n",
              "      <td>1000000</td>\n",
              "      <td>DT: 24.00 m²</td>\n",
              "      <td>Cho thuê phòng trọ đường Nguyễn Tri Phương,  p...</td>\n",
              "      <td>1891</td>\n",
              "    </tr>\n",
              "    <tr>\n",
              "      <th>2</th>\n",
              "      <td>2</td>\n",
              "      <td>NHÀ TRỌ ĐƯỜNG TẦM VU , KẾ TU VIỆN , NHÀ HÀNG M...</td>\n",
              "      <td>Địa chỉ: 360 Tầm Vu , phường Hưng Lợi , quận N...</td>\n",
              "      <td>Ninh Kiều</td>\n",
              "      <td>2.7</td>\n",
              "      <td>1200000</td>\n",
              "      <td>DT: 15.00 m²</td>\n",
              "      <td>NHÀ TRỌ ĐƯỜNG TẦM VU , KẾ TU VIỆN , NHÀ HÀNG M...</td>\n",
              "      <td>13095</td>\n",
              "    </tr>\n",
              "    <tr>\n",
              "      <th>3</th>\n",
              "      <td>3</td>\n",
              "      <td>NHÀ TRỌ ĐƯỜNG TẦM VU , GẦN NHÀ HÀNG MÊKONG , C...</td>\n",
              "      <td>Địa chỉ: 360A ,ĐƯỜNG TẦM VU , PHƯỜNG HƯNG LỢI ...</td>\n",
              "      <td>Ninh Kiều</td>\n",
              "      <td>3.0</td>\n",
              "      <td>1200000</td>\n",
              "      <td>DT: 15.00 m²</td>\n",
              "      <td>NHÀ TRỌ ĐƯỜNG TẦM VU , KẾ TU VIỆN , NHÀ HÀNG M...</td>\n",
              "      <td>21811</td>\n",
              "    </tr>\n",
              "    <tr>\n",
              "      <th>4</th>\n",
              "      <td>4</td>\n",
              "      <td>Phòng trọ, nhà nghỉ Hoàng Phương Đông cần cho ...</td>\n",
              "      <td>Địa chỉ: 14R Trần Văn Sắc</td>\n",
              "      <td>Ninh Kiều</td>\n",
              "      <td>1.5</td>\n",
              "      <td>2000000</td>\n",
              "      <td>DT: 25.00 m²</td>\n",
              "      <td>Cho thuê phòng trọ mới sạch đẹp trang thiết bị...</td>\n",
              "      <td>8011</td>\n",
              "    </tr>\n",
              "  </tbody>\n",
              "</table>\n",
              "</div>"
            ],
            "text/plain": [
              "   id_motels  ... luotxem\n",
              "0          0  ...   78796\n",
              "1          1  ...    1891\n",
              "2          2  ...   13095\n",
              "3          3  ...   21811\n",
              "4          4  ...    8011\n",
              "\n",
              "[5 rows x 9 columns]"
            ]
          },
          "metadata": {},
          "execution_count": 2
        }
      ]
    },
    {
      "cell_type": "code",
      "metadata": {
        "colab": {
          "base_uri": "https://localhost:8080/"
        },
        "id": "hCn9_SBKm1K2",
        "outputId": "1da7ab00-a7cd-4cf4-9fd0-bb66b4d93f15"
      },
      "source": [
        "df.isna().sum()"
      ],
      "execution_count": 3,
      "outputs": [
        {
          "output_type": "execute_result",
          "data": {
            "text/plain": [
              "id_motels    0\n",
              "tennhatro    0\n",
              "diachi       1\n",
              "toalac       0\n",
              "danhgia      0\n",
              "gia          0\n",
              "dientich     0\n",
              "noidung      0\n",
              "luotxem      0\n",
              "dtype: int64"
            ]
          },
          "metadata": {},
          "execution_count": 3
        }
      ]
    },
    {
      "cell_type": "code",
      "metadata": {
        "colab": {
          "base_uri": "https://localhost:8080/"
        },
        "id": "C5na97mDd-WM",
        "outputId": "69133c3d-1ef2-4bda-effb-6cff3389e649"
      },
      "source": [
        "df.info()"
      ],
      "execution_count": 4,
      "outputs": [
        {
          "output_type": "stream",
          "name": "stdout",
          "text": [
            "<class 'pandas.core.frame.DataFrame'>\n",
            "RangeIndex: 408 entries, 0 to 407\n",
            "Data columns (total 9 columns):\n",
            " #   Column     Non-Null Count  Dtype  \n",
            "---  ------     --------------  -----  \n",
            " 0   id_motels  408 non-null    int64  \n",
            " 1   tennhatro  408 non-null    object \n",
            " 2   diachi     407 non-null    object \n",
            " 3   toalac     408 non-null    object \n",
            " 4   danhgia    408 non-null    float64\n",
            " 5   gia        408 non-null    int64  \n",
            " 6   dientich   408 non-null    object \n",
            " 7   noidung    408 non-null    object \n",
            " 8   luotxem    408 non-null    int64  \n",
            "dtypes: float64(1), int64(3), object(5)\n",
            "memory usage: 28.8+ KB\n"
          ]
        }
      ]
    },
    {
      "cell_type": "code",
      "metadata": {
        "colab": {
          "base_uri": "https://localhost:8080/",
          "height": 542
        },
        "id": "WoU_3H-KLe40",
        "outputId": "ae606c71-2edf-4900-b37f-2199ffa9b8b7"
      },
      "source": [
        "#Phân bố nơi tọa lạc của các nhà trọ\n",
        "import plotly.graph_objects as go\n",
        "fig = go.Figure([go.Bar(x=df.toalac.value_counts().index, y=df.toalac.value_counts().tolist())])\n",
        "fig.update_layout(\n",
        "    title=\"Phân bố nơi tọa lạc của các nhà trọ\",\n",
        "    xaxis_title=\"Nơi tọa lạc\",\n",
        "    yaxis_title=\"Số lượng\")\n",
        "fig.show()"
      ],
      "execution_count": 5,
      "outputs": [
        {
          "output_type": "display_data",
          "data": {
            "text/html": [
              "<html>\n",
              "<head><meta charset=\"utf-8\" /></head>\n",
              "<body>\n",
              "    <div>\n",
              "            <script src=\"https://cdnjs.cloudflare.com/ajax/libs/mathjax/2.7.5/MathJax.js?config=TeX-AMS-MML_SVG\"></script><script type=\"text/javascript\">if (window.MathJax) {MathJax.Hub.Config({SVG: {font: \"STIX-Web\"}});}</script>\n",
              "                <script type=\"text/javascript\">window.PlotlyConfig = {MathJaxConfig: 'local'};</script>\n",
              "        <script src=\"https://cdn.plot.ly/plotly-latest.min.js\"></script>    \n",
              "            <div id=\"e74a14b2-1d2d-43a9-9042-68fabfa4eb37\" class=\"plotly-graph-div\" style=\"height:525px; width:100%;\"></div>\n",
              "            <script type=\"text/javascript\">\n",
              "                \n",
              "                    window.PLOTLYENV=window.PLOTLYENV || {};\n",
              "                    \n",
              "                if (document.getElementById(\"e74a14b2-1d2d-43a9-9042-68fabfa4eb37\")) {\n",
              "                    Plotly.newPlot(\n",
              "                        'e74a14b2-1d2d-43a9-9042-68fabfa4eb37',\n",
              "                        [{\"type\": \"bar\", \"x\": [\"Ninh Ki\\u1ec1u\", \"C\\u00e1i R\\u0103ng\", \"\\u0111\\u01b0\\u1eddng 3/2\", \"\\u0111\\u01b0\\u1eddng 30/4\", \"B\\u00ecnh Th\\u1ee7y\", \"khu d\\u00e2n c\\u01b0 metro\", \"c\\u00e1ch m\\u1ea1ng th\\u00e1ng t\\u00e1m\", \"\\u0111\\u01b0\\u1eddng 3/4\", \"\\u00d4 M\\u00f4n\", \"\\u0110HYD C\\u1ea7n Th\\u01a1\", \"Khu d\\u00e2n c\\u01b0 metro\"], \"y\": [287, 48, 27, 22, 13, 4, 2, 2, 1, 1, 1]}],\n",
              "                        {\"template\": {\"data\": {\"bar\": [{\"error_x\": {\"color\": \"#2a3f5f\"}, \"error_y\": {\"color\": \"#2a3f5f\"}, \"marker\": {\"line\": {\"color\": \"#E5ECF6\", \"width\": 0.5}}, \"type\": \"bar\"}], \"barpolar\": [{\"marker\": {\"line\": {\"color\": \"#E5ECF6\", \"width\": 0.5}}, \"type\": \"barpolar\"}], \"carpet\": [{\"aaxis\": {\"endlinecolor\": \"#2a3f5f\", \"gridcolor\": \"white\", \"linecolor\": \"white\", \"minorgridcolor\": \"white\", \"startlinecolor\": \"#2a3f5f\"}, \"baxis\": {\"endlinecolor\": \"#2a3f5f\", \"gridcolor\": \"white\", \"linecolor\": \"white\", \"minorgridcolor\": \"white\", \"startlinecolor\": \"#2a3f5f\"}, \"type\": \"carpet\"}], \"choropleth\": [{\"colorbar\": {\"outlinewidth\": 0, \"ticks\": \"\"}, \"type\": \"choropleth\"}], \"contour\": [{\"colorbar\": {\"outlinewidth\": 0, \"ticks\": \"\"}, \"colorscale\": [[0.0, \"#0d0887\"], [0.1111111111111111, \"#46039f\"], [0.2222222222222222, \"#7201a8\"], [0.3333333333333333, \"#9c179e\"], [0.4444444444444444, \"#bd3786\"], [0.5555555555555556, \"#d8576b\"], [0.6666666666666666, \"#ed7953\"], [0.7777777777777778, \"#fb9f3a\"], [0.8888888888888888, \"#fdca26\"], [1.0, \"#f0f921\"]], \"type\": \"contour\"}], \"contourcarpet\": [{\"colorbar\": {\"outlinewidth\": 0, \"ticks\": \"\"}, \"type\": \"contourcarpet\"}], \"heatmap\": [{\"colorbar\": {\"outlinewidth\": 0, \"ticks\": \"\"}, \"colorscale\": [[0.0, \"#0d0887\"], [0.1111111111111111, \"#46039f\"], [0.2222222222222222, \"#7201a8\"], [0.3333333333333333, \"#9c179e\"], [0.4444444444444444, \"#bd3786\"], [0.5555555555555556, \"#d8576b\"], [0.6666666666666666, \"#ed7953\"], [0.7777777777777778, \"#fb9f3a\"], [0.8888888888888888, \"#fdca26\"], [1.0, \"#f0f921\"]], \"type\": \"heatmap\"}], \"heatmapgl\": [{\"colorbar\": {\"outlinewidth\": 0, \"ticks\": \"\"}, \"colorscale\": [[0.0, \"#0d0887\"], [0.1111111111111111, \"#46039f\"], [0.2222222222222222, \"#7201a8\"], [0.3333333333333333, \"#9c179e\"], [0.4444444444444444, \"#bd3786\"], [0.5555555555555556, \"#d8576b\"], [0.6666666666666666, \"#ed7953\"], [0.7777777777777778, \"#fb9f3a\"], [0.8888888888888888, \"#fdca26\"], [1.0, \"#f0f921\"]], \"type\": \"heatmapgl\"}], \"histogram\": [{\"marker\": {\"colorbar\": {\"outlinewidth\": 0, \"ticks\": \"\"}}, \"type\": \"histogram\"}], \"histogram2d\": [{\"colorbar\": {\"outlinewidth\": 0, \"ticks\": \"\"}, \"colorscale\": [[0.0, \"#0d0887\"], [0.1111111111111111, \"#46039f\"], [0.2222222222222222, \"#7201a8\"], [0.3333333333333333, \"#9c179e\"], [0.4444444444444444, \"#bd3786\"], [0.5555555555555556, \"#d8576b\"], [0.6666666666666666, \"#ed7953\"], [0.7777777777777778, \"#fb9f3a\"], [0.8888888888888888, \"#fdca26\"], [1.0, \"#f0f921\"]], \"type\": \"histogram2d\"}], \"histogram2dcontour\": [{\"colorbar\": {\"outlinewidth\": 0, \"ticks\": \"\"}, \"colorscale\": [[0.0, \"#0d0887\"], [0.1111111111111111, \"#46039f\"], [0.2222222222222222, \"#7201a8\"], [0.3333333333333333, \"#9c179e\"], [0.4444444444444444, \"#bd3786\"], [0.5555555555555556, \"#d8576b\"], [0.6666666666666666, \"#ed7953\"], [0.7777777777777778, \"#fb9f3a\"], [0.8888888888888888, \"#fdca26\"], [1.0, \"#f0f921\"]], \"type\": \"histogram2dcontour\"}], \"mesh3d\": [{\"colorbar\": {\"outlinewidth\": 0, \"ticks\": \"\"}, \"type\": \"mesh3d\"}], \"parcoords\": [{\"line\": {\"colorbar\": {\"outlinewidth\": 0, \"ticks\": \"\"}}, \"type\": \"parcoords\"}], \"pie\": [{\"automargin\": true, \"type\": \"pie\"}], \"scatter\": [{\"marker\": {\"colorbar\": {\"outlinewidth\": 0, \"ticks\": \"\"}}, \"type\": \"scatter\"}], \"scatter3d\": [{\"line\": {\"colorbar\": {\"outlinewidth\": 0, \"ticks\": \"\"}}, \"marker\": {\"colorbar\": {\"outlinewidth\": 0, \"ticks\": \"\"}}, \"type\": \"scatter3d\"}], \"scattercarpet\": [{\"marker\": {\"colorbar\": {\"outlinewidth\": 0, \"ticks\": \"\"}}, \"type\": \"scattercarpet\"}], \"scattergeo\": [{\"marker\": {\"colorbar\": {\"outlinewidth\": 0, \"ticks\": \"\"}}, \"type\": \"scattergeo\"}], \"scattergl\": [{\"marker\": {\"colorbar\": {\"outlinewidth\": 0, \"ticks\": \"\"}}, \"type\": \"scattergl\"}], \"scattermapbox\": [{\"marker\": {\"colorbar\": {\"outlinewidth\": 0, \"ticks\": \"\"}}, \"type\": \"scattermapbox\"}], \"scatterpolar\": [{\"marker\": {\"colorbar\": {\"outlinewidth\": 0, \"ticks\": \"\"}}, \"type\": \"scatterpolar\"}], \"scatterpolargl\": [{\"marker\": {\"colorbar\": {\"outlinewidth\": 0, \"ticks\": \"\"}}, \"type\": \"scatterpolargl\"}], \"scatterternary\": [{\"marker\": {\"colorbar\": {\"outlinewidth\": 0, \"ticks\": \"\"}}, \"type\": \"scatterternary\"}], \"surface\": [{\"colorbar\": {\"outlinewidth\": 0, \"ticks\": \"\"}, \"colorscale\": [[0.0, \"#0d0887\"], [0.1111111111111111, \"#46039f\"], [0.2222222222222222, \"#7201a8\"], [0.3333333333333333, \"#9c179e\"], [0.4444444444444444, \"#bd3786\"], [0.5555555555555556, \"#d8576b\"], [0.6666666666666666, \"#ed7953\"], [0.7777777777777778, \"#fb9f3a\"], [0.8888888888888888, \"#fdca26\"], [1.0, \"#f0f921\"]], \"type\": \"surface\"}], \"table\": [{\"cells\": {\"fill\": {\"color\": \"#EBF0F8\"}, \"line\": {\"color\": \"white\"}}, \"header\": {\"fill\": {\"color\": \"#C8D4E3\"}, \"line\": {\"color\": \"white\"}}, \"type\": \"table\"}]}, \"layout\": {\"annotationdefaults\": {\"arrowcolor\": \"#2a3f5f\", \"arrowhead\": 0, \"arrowwidth\": 1}, \"coloraxis\": {\"colorbar\": {\"outlinewidth\": 0, \"ticks\": \"\"}}, \"colorscale\": {\"diverging\": [[0, \"#8e0152\"], [0.1, \"#c51b7d\"], [0.2, \"#de77ae\"], [0.3, \"#f1b6da\"], [0.4, \"#fde0ef\"], [0.5, \"#f7f7f7\"], [0.6, \"#e6f5d0\"], [0.7, \"#b8e186\"], [0.8, \"#7fbc41\"], [0.9, \"#4d9221\"], [1, \"#276419\"]], \"sequential\": [[0.0, \"#0d0887\"], [0.1111111111111111, \"#46039f\"], [0.2222222222222222, \"#7201a8\"], [0.3333333333333333, \"#9c179e\"], [0.4444444444444444, \"#bd3786\"], [0.5555555555555556, \"#d8576b\"], [0.6666666666666666, \"#ed7953\"], [0.7777777777777778, \"#fb9f3a\"], [0.8888888888888888, \"#fdca26\"], [1.0, \"#f0f921\"]], \"sequentialminus\": [[0.0, \"#0d0887\"], [0.1111111111111111, \"#46039f\"], [0.2222222222222222, \"#7201a8\"], [0.3333333333333333, \"#9c179e\"], [0.4444444444444444, \"#bd3786\"], [0.5555555555555556, \"#d8576b\"], [0.6666666666666666, \"#ed7953\"], [0.7777777777777778, \"#fb9f3a\"], [0.8888888888888888, \"#fdca26\"], [1.0, \"#f0f921\"]]}, \"colorway\": [\"#636efa\", \"#EF553B\", \"#00cc96\", \"#ab63fa\", \"#FFA15A\", \"#19d3f3\", \"#FF6692\", \"#B6E880\", \"#FF97FF\", \"#FECB52\"], \"font\": {\"color\": \"#2a3f5f\"}, \"geo\": {\"bgcolor\": \"white\", \"lakecolor\": \"white\", \"landcolor\": \"#E5ECF6\", \"showlakes\": true, \"showland\": true, \"subunitcolor\": \"white\"}, \"hoverlabel\": {\"align\": \"left\"}, \"hovermode\": \"closest\", \"mapbox\": {\"style\": \"light\"}, \"paper_bgcolor\": \"white\", \"plot_bgcolor\": \"#E5ECF6\", \"polar\": {\"angularaxis\": {\"gridcolor\": \"white\", \"linecolor\": \"white\", \"ticks\": \"\"}, \"bgcolor\": \"#E5ECF6\", \"radialaxis\": {\"gridcolor\": \"white\", \"linecolor\": \"white\", \"ticks\": \"\"}}, \"scene\": {\"xaxis\": {\"backgroundcolor\": \"#E5ECF6\", \"gridcolor\": \"white\", \"gridwidth\": 2, \"linecolor\": \"white\", \"showbackground\": true, \"ticks\": \"\", \"zerolinecolor\": \"white\"}, \"yaxis\": {\"backgroundcolor\": \"#E5ECF6\", \"gridcolor\": \"white\", \"gridwidth\": 2, \"linecolor\": \"white\", \"showbackground\": true, \"ticks\": \"\", \"zerolinecolor\": \"white\"}, \"zaxis\": {\"backgroundcolor\": \"#E5ECF6\", \"gridcolor\": \"white\", \"gridwidth\": 2, \"linecolor\": \"white\", \"showbackground\": true, \"ticks\": \"\", \"zerolinecolor\": \"white\"}}, \"shapedefaults\": {\"line\": {\"color\": \"#2a3f5f\"}}, \"ternary\": {\"aaxis\": {\"gridcolor\": \"white\", \"linecolor\": \"white\", \"ticks\": \"\"}, \"baxis\": {\"gridcolor\": \"white\", \"linecolor\": \"white\", \"ticks\": \"\"}, \"bgcolor\": \"#E5ECF6\", \"caxis\": {\"gridcolor\": \"white\", \"linecolor\": \"white\", \"ticks\": \"\"}}, \"title\": {\"x\": 0.05}, \"xaxis\": {\"automargin\": true, \"gridcolor\": \"white\", \"linecolor\": \"white\", \"ticks\": \"\", \"title\": {\"standoff\": 15}, \"zerolinecolor\": \"white\", \"zerolinewidth\": 2}, \"yaxis\": {\"automargin\": true, \"gridcolor\": \"white\", \"linecolor\": \"white\", \"ticks\": \"\", \"title\": {\"standoff\": 15}, \"zerolinecolor\": \"white\", \"zerolinewidth\": 2}}}, \"title\": {\"text\": \"Ph\\u00e2n b\\u1ed1 n\\u01a1i t\\u1ecda l\\u1ea1c c\\u1ee7a c\\u00e1c nh\\u00e0 tr\\u1ecd\"}, \"xaxis\": {\"title\": {\"text\": \"N\\u01a1i t\\u1ecda l\\u1ea1c\"}}, \"yaxis\": {\"title\": {\"text\": \"S\\u1ed1 l\\u01b0\\u1ee3ng\"}}},\n",
              "                        {\"responsive\": true}\n",
              "                    ).then(function(){\n",
              "                            \n",
              "var gd = document.getElementById('e74a14b2-1d2d-43a9-9042-68fabfa4eb37');\n",
              "var x = new MutationObserver(function (mutations, observer) {{\n",
              "        var display = window.getComputedStyle(gd).display;\n",
              "        if (!display || display === 'none') {{\n",
              "            console.log([gd, 'removed!']);\n",
              "            Plotly.purge(gd);\n",
              "            observer.disconnect();\n",
              "        }}\n",
              "}});\n",
              "\n",
              "// Listen for the removal of the full notebook cells\n",
              "var notebookContainer = gd.closest('#notebook-container');\n",
              "if (notebookContainer) {{\n",
              "    x.observe(notebookContainer, {childList: true});\n",
              "}}\n",
              "\n",
              "// Listen for the clearing of the current output cell\n",
              "var outputEl = gd.closest('.output');\n",
              "if (outputEl) {{\n",
              "    x.observe(outputEl, {childList: true});\n",
              "}}\n",
              "\n",
              "                        })\n",
              "                };\n",
              "                \n",
              "            </script>\n",
              "        </div>\n",
              "</body>\n",
              "</html>"
            ]
          },
          "metadata": {}
        }
      ]
    },
    {
      "cell_type": "code",
      "metadata": {
        "colab": {
          "base_uri": "https://localhost:8080/",
          "height": 542
        },
        "id": "cwJCjwfnLMco",
        "outputId": "e0fac972-8ad4-4223-8dd5-09a4a7cd0a84"
      },
      "source": [
        "#Phân bố đánh giá của các nhà trọ\n",
        "import plotly.graph_objects as go\n",
        "fig = go.Figure([go.Bar(x=df.danhgia.value_counts().index, y=df.danhgia.value_counts().tolist())])\n",
        "fig.update_layout(\n",
        "    title=\"Phân bố đánh giá của các nhà trọ\",\n",
        "    xaxis_title=\"Đánh giá\",\n",
        "    yaxis_title=\"Số lượng\")\n",
        "fig.show()"
      ],
      "execution_count": 6,
      "outputs": [
        {
          "output_type": "display_data",
          "data": {
            "text/html": [
              "<html>\n",
              "<head><meta charset=\"utf-8\" /></head>\n",
              "<body>\n",
              "    <div>\n",
              "            <script src=\"https://cdnjs.cloudflare.com/ajax/libs/mathjax/2.7.5/MathJax.js?config=TeX-AMS-MML_SVG\"></script><script type=\"text/javascript\">if (window.MathJax) {MathJax.Hub.Config({SVG: {font: \"STIX-Web\"}});}</script>\n",
              "                <script type=\"text/javascript\">window.PlotlyConfig = {MathJaxConfig: 'local'};</script>\n",
              "        <script src=\"https://cdn.plot.ly/plotly-latest.min.js\"></script>    \n",
              "            <div id=\"0fdb2a69-8575-4d01-b538-8167cc014a56\" class=\"plotly-graph-div\" style=\"height:525px; width:100%;\"></div>\n",
              "            <script type=\"text/javascript\">\n",
              "                \n",
              "                    window.PLOTLYENV=window.PLOTLYENV || {};\n",
              "                    \n",
              "                if (document.getElementById(\"0fdb2a69-8575-4d01-b538-8167cc014a56\")) {\n",
              "                    Plotly.newPlot(\n",
              "                        '0fdb2a69-8575-4d01-b538-8167cc014a56',\n",
              "                        [{\"type\": \"bar\", \"x\": [5.0, 0.0, 3.0, 4.5, 4.0, 3.7, 4.3, 2.5, 1.0, 4.7, 4.6, 1.9, 3.8, 1.6, 4.9, 2.9, 2.0, 4.2, 3.2, 2.1, 1.5, 3.9, 3.6, 3.3, 3.5, 2.7, 2.8, 4.8, 3.4, 4.4, 2.6, 2.4, 1.2, 2.2, 1.7, 1.8, 1.3, 2.3, 4.1, 1.1, 3.1], \"y\": [99, 80, 20, 11, 11, 10, 9, 8, 8, 8, 8, 7, 7, 7, 7, 7, 6, 6, 6, 6, 6, 6, 6, 5, 5, 5, 5, 4, 4, 4, 3, 3, 3, 3, 3, 3, 2, 2, 2, 2, 1]}],\n",
              "                        {\"template\": {\"data\": {\"bar\": [{\"error_x\": {\"color\": \"#2a3f5f\"}, \"error_y\": {\"color\": \"#2a3f5f\"}, \"marker\": {\"line\": {\"color\": \"#E5ECF6\", \"width\": 0.5}}, \"type\": \"bar\"}], \"barpolar\": [{\"marker\": {\"line\": {\"color\": \"#E5ECF6\", \"width\": 0.5}}, \"type\": \"barpolar\"}], \"carpet\": [{\"aaxis\": {\"endlinecolor\": \"#2a3f5f\", \"gridcolor\": \"white\", \"linecolor\": \"white\", \"minorgridcolor\": \"white\", \"startlinecolor\": \"#2a3f5f\"}, \"baxis\": {\"endlinecolor\": \"#2a3f5f\", \"gridcolor\": \"white\", \"linecolor\": \"white\", \"minorgridcolor\": \"white\", \"startlinecolor\": \"#2a3f5f\"}, \"type\": \"carpet\"}], \"choropleth\": [{\"colorbar\": {\"outlinewidth\": 0, \"ticks\": \"\"}, \"type\": \"choropleth\"}], \"contour\": [{\"colorbar\": {\"outlinewidth\": 0, \"ticks\": \"\"}, \"colorscale\": [[0.0, \"#0d0887\"], [0.1111111111111111, \"#46039f\"], [0.2222222222222222, \"#7201a8\"], [0.3333333333333333, \"#9c179e\"], [0.4444444444444444, \"#bd3786\"], [0.5555555555555556, \"#d8576b\"], [0.6666666666666666, \"#ed7953\"], [0.7777777777777778, \"#fb9f3a\"], [0.8888888888888888, \"#fdca26\"], [1.0, \"#f0f921\"]], \"type\": \"contour\"}], \"contourcarpet\": [{\"colorbar\": {\"outlinewidth\": 0, \"ticks\": \"\"}, \"type\": \"contourcarpet\"}], \"heatmap\": [{\"colorbar\": {\"outlinewidth\": 0, \"ticks\": \"\"}, \"colorscale\": [[0.0, \"#0d0887\"], [0.1111111111111111, \"#46039f\"], [0.2222222222222222, \"#7201a8\"], [0.3333333333333333, \"#9c179e\"], [0.4444444444444444, \"#bd3786\"], [0.5555555555555556, \"#d8576b\"], [0.6666666666666666, \"#ed7953\"], [0.7777777777777778, \"#fb9f3a\"], [0.8888888888888888, \"#fdca26\"], [1.0, \"#f0f921\"]], \"type\": \"heatmap\"}], \"heatmapgl\": [{\"colorbar\": {\"outlinewidth\": 0, \"ticks\": \"\"}, \"colorscale\": [[0.0, \"#0d0887\"], [0.1111111111111111, \"#46039f\"], [0.2222222222222222, \"#7201a8\"], [0.3333333333333333, \"#9c179e\"], [0.4444444444444444, \"#bd3786\"], [0.5555555555555556, \"#d8576b\"], [0.6666666666666666, \"#ed7953\"], [0.7777777777777778, \"#fb9f3a\"], [0.8888888888888888, \"#fdca26\"], [1.0, \"#f0f921\"]], \"type\": \"heatmapgl\"}], \"histogram\": [{\"marker\": {\"colorbar\": {\"outlinewidth\": 0, \"ticks\": \"\"}}, \"type\": \"histogram\"}], \"histogram2d\": [{\"colorbar\": {\"outlinewidth\": 0, \"ticks\": \"\"}, \"colorscale\": [[0.0, \"#0d0887\"], [0.1111111111111111, \"#46039f\"], [0.2222222222222222, \"#7201a8\"], [0.3333333333333333, \"#9c179e\"], [0.4444444444444444, \"#bd3786\"], [0.5555555555555556, \"#d8576b\"], [0.6666666666666666, \"#ed7953\"], [0.7777777777777778, \"#fb9f3a\"], [0.8888888888888888, \"#fdca26\"], [1.0, \"#f0f921\"]], \"type\": \"histogram2d\"}], \"histogram2dcontour\": [{\"colorbar\": {\"outlinewidth\": 0, \"ticks\": \"\"}, \"colorscale\": [[0.0, \"#0d0887\"], [0.1111111111111111, \"#46039f\"], [0.2222222222222222, \"#7201a8\"], [0.3333333333333333, \"#9c179e\"], [0.4444444444444444, \"#bd3786\"], [0.5555555555555556, \"#d8576b\"], [0.6666666666666666, \"#ed7953\"], [0.7777777777777778, \"#fb9f3a\"], [0.8888888888888888, \"#fdca26\"], [1.0, \"#f0f921\"]], \"type\": \"histogram2dcontour\"}], \"mesh3d\": [{\"colorbar\": {\"outlinewidth\": 0, \"ticks\": \"\"}, \"type\": \"mesh3d\"}], \"parcoords\": [{\"line\": {\"colorbar\": {\"outlinewidth\": 0, \"ticks\": \"\"}}, \"type\": \"parcoords\"}], \"pie\": [{\"automargin\": true, \"type\": \"pie\"}], \"scatter\": [{\"marker\": {\"colorbar\": {\"outlinewidth\": 0, \"ticks\": \"\"}}, \"type\": \"scatter\"}], \"scatter3d\": [{\"line\": {\"colorbar\": {\"outlinewidth\": 0, \"ticks\": \"\"}}, \"marker\": {\"colorbar\": {\"outlinewidth\": 0, \"ticks\": \"\"}}, \"type\": \"scatter3d\"}], \"scattercarpet\": [{\"marker\": {\"colorbar\": {\"outlinewidth\": 0, \"ticks\": \"\"}}, \"type\": \"scattercarpet\"}], \"scattergeo\": [{\"marker\": {\"colorbar\": {\"outlinewidth\": 0, \"ticks\": \"\"}}, \"type\": \"scattergeo\"}], \"scattergl\": [{\"marker\": {\"colorbar\": {\"outlinewidth\": 0, \"ticks\": \"\"}}, \"type\": \"scattergl\"}], \"scattermapbox\": [{\"marker\": {\"colorbar\": {\"outlinewidth\": 0, \"ticks\": \"\"}}, \"type\": \"scattermapbox\"}], \"scatterpolar\": [{\"marker\": {\"colorbar\": {\"outlinewidth\": 0, \"ticks\": \"\"}}, \"type\": \"scatterpolar\"}], \"scatterpolargl\": [{\"marker\": {\"colorbar\": {\"outlinewidth\": 0, \"ticks\": \"\"}}, \"type\": \"scatterpolargl\"}], \"scatterternary\": [{\"marker\": {\"colorbar\": {\"outlinewidth\": 0, \"ticks\": \"\"}}, \"type\": \"scatterternary\"}], \"surface\": [{\"colorbar\": {\"outlinewidth\": 0, \"ticks\": \"\"}, \"colorscale\": [[0.0, \"#0d0887\"], [0.1111111111111111, \"#46039f\"], [0.2222222222222222, \"#7201a8\"], [0.3333333333333333, \"#9c179e\"], [0.4444444444444444, \"#bd3786\"], [0.5555555555555556, \"#d8576b\"], [0.6666666666666666, \"#ed7953\"], [0.7777777777777778, \"#fb9f3a\"], [0.8888888888888888, \"#fdca26\"], [1.0, \"#f0f921\"]], \"type\": \"surface\"}], \"table\": [{\"cells\": {\"fill\": {\"color\": \"#EBF0F8\"}, \"line\": {\"color\": \"white\"}}, \"header\": {\"fill\": {\"color\": \"#C8D4E3\"}, \"line\": {\"color\": \"white\"}}, \"type\": \"table\"}]}, \"layout\": {\"annotationdefaults\": {\"arrowcolor\": \"#2a3f5f\", \"arrowhead\": 0, \"arrowwidth\": 1}, \"coloraxis\": {\"colorbar\": {\"outlinewidth\": 0, \"ticks\": \"\"}}, \"colorscale\": {\"diverging\": [[0, \"#8e0152\"], [0.1, \"#c51b7d\"], [0.2, \"#de77ae\"], [0.3, \"#f1b6da\"], [0.4, \"#fde0ef\"], [0.5, \"#f7f7f7\"], [0.6, \"#e6f5d0\"], [0.7, \"#b8e186\"], [0.8, \"#7fbc41\"], [0.9, \"#4d9221\"], [1, \"#276419\"]], \"sequential\": [[0.0, \"#0d0887\"], [0.1111111111111111, \"#46039f\"], [0.2222222222222222, \"#7201a8\"], [0.3333333333333333, \"#9c179e\"], [0.4444444444444444, \"#bd3786\"], [0.5555555555555556, \"#d8576b\"], [0.6666666666666666, \"#ed7953\"], [0.7777777777777778, \"#fb9f3a\"], [0.8888888888888888, \"#fdca26\"], [1.0, \"#f0f921\"]], \"sequentialminus\": [[0.0, \"#0d0887\"], [0.1111111111111111, \"#46039f\"], [0.2222222222222222, \"#7201a8\"], [0.3333333333333333, \"#9c179e\"], [0.4444444444444444, \"#bd3786\"], [0.5555555555555556, \"#d8576b\"], [0.6666666666666666, \"#ed7953\"], [0.7777777777777778, \"#fb9f3a\"], [0.8888888888888888, \"#fdca26\"], [1.0, \"#f0f921\"]]}, \"colorway\": [\"#636efa\", \"#EF553B\", \"#00cc96\", \"#ab63fa\", \"#FFA15A\", \"#19d3f3\", \"#FF6692\", \"#B6E880\", \"#FF97FF\", \"#FECB52\"], \"font\": {\"color\": \"#2a3f5f\"}, \"geo\": {\"bgcolor\": \"white\", \"lakecolor\": \"white\", \"landcolor\": \"#E5ECF6\", \"showlakes\": true, \"showland\": true, \"subunitcolor\": \"white\"}, \"hoverlabel\": {\"align\": \"left\"}, \"hovermode\": \"closest\", \"mapbox\": {\"style\": \"light\"}, \"paper_bgcolor\": \"white\", \"plot_bgcolor\": \"#E5ECF6\", \"polar\": {\"angularaxis\": {\"gridcolor\": \"white\", \"linecolor\": \"white\", \"ticks\": \"\"}, \"bgcolor\": \"#E5ECF6\", \"radialaxis\": {\"gridcolor\": \"white\", \"linecolor\": \"white\", \"ticks\": \"\"}}, \"scene\": {\"xaxis\": {\"backgroundcolor\": \"#E5ECF6\", \"gridcolor\": \"white\", \"gridwidth\": 2, \"linecolor\": \"white\", \"showbackground\": true, \"ticks\": \"\", \"zerolinecolor\": \"white\"}, \"yaxis\": {\"backgroundcolor\": \"#E5ECF6\", \"gridcolor\": \"white\", \"gridwidth\": 2, \"linecolor\": \"white\", \"showbackground\": true, \"ticks\": \"\", \"zerolinecolor\": \"white\"}, \"zaxis\": {\"backgroundcolor\": \"#E5ECF6\", \"gridcolor\": \"white\", \"gridwidth\": 2, \"linecolor\": \"white\", \"showbackground\": true, \"ticks\": \"\", \"zerolinecolor\": \"white\"}}, \"shapedefaults\": {\"line\": {\"color\": \"#2a3f5f\"}}, \"ternary\": {\"aaxis\": {\"gridcolor\": \"white\", \"linecolor\": \"white\", \"ticks\": \"\"}, \"baxis\": {\"gridcolor\": \"white\", \"linecolor\": \"white\", \"ticks\": \"\"}, \"bgcolor\": \"#E5ECF6\", \"caxis\": {\"gridcolor\": \"white\", \"linecolor\": \"white\", \"ticks\": \"\"}}, \"title\": {\"x\": 0.05}, \"xaxis\": {\"automargin\": true, \"gridcolor\": \"white\", \"linecolor\": \"white\", \"ticks\": \"\", \"title\": {\"standoff\": 15}, \"zerolinecolor\": \"white\", \"zerolinewidth\": 2}, \"yaxis\": {\"automargin\": true, \"gridcolor\": \"white\", \"linecolor\": \"white\", \"ticks\": \"\", \"title\": {\"standoff\": 15}, \"zerolinecolor\": \"white\", \"zerolinewidth\": 2}}}, \"title\": {\"text\": \"Ph\\u00e2n b\\u1ed1 \\u0111\\u00e1nh gi\\u00e1 c\\u1ee7a c\\u00e1c nh\\u00e0 tr\\u1ecd\"}, \"xaxis\": {\"title\": {\"text\": \"\\u0110\\u00e1nh gi\\u00e1\"}}, \"yaxis\": {\"title\": {\"text\": \"S\\u1ed1 l\\u01b0\\u1ee3ng\"}}},\n",
              "                        {\"responsive\": true}\n",
              "                    ).then(function(){\n",
              "                            \n",
              "var gd = document.getElementById('0fdb2a69-8575-4d01-b538-8167cc014a56');\n",
              "var x = new MutationObserver(function (mutations, observer) {{\n",
              "        var display = window.getComputedStyle(gd).display;\n",
              "        if (!display || display === 'none') {{\n",
              "            console.log([gd, 'removed!']);\n",
              "            Plotly.purge(gd);\n",
              "            observer.disconnect();\n",
              "        }}\n",
              "}});\n",
              "\n",
              "// Listen for the removal of the full notebook cells\n",
              "var notebookContainer = gd.closest('#notebook-container');\n",
              "if (notebookContainer) {{\n",
              "    x.observe(notebookContainer, {childList: true});\n",
              "}}\n",
              "\n",
              "// Listen for the clearing of the current output cell\n",
              "var outputEl = gd.closest('.output');\n",
              "if (outputEl) {{\n",
              "    x.observe(outputEl, {childList: true});\n",
              "}}\n",
              "\n",
              "                        })\n",
              "                };\n",
              "                \n",
              "            </script>\n",
              "        </div>\n",
              "</body>\n",
              "</html>"
            ]
          },
          "metadata": {}
        }
      ]
    },
    {
      "cell_type": "code",
      "metadata": {
        "colab": {
          "base_uri": "https://localhost:8080/",
          "height": 542
        },
        "id": "H6a8dcvpMwm4",
        "outputId": "7cb426ba-7009-4cd2-d8a9-5f18e2220a4f"
      },
      "source": [
        "#Phân bố diện tích của các nhà trọ\n",
        "import plotly.graph_objects as go\n",
        "fig = go.Figure([go.Bar(x=df.dientich.value_counts().index, y=df.dientich.value_counts().tolist())])\n",
        "fig.update_layout(\n",
        "    title=\"Phân bố diện tích của các nhà trọ\",\n",
        "    xaxis_title=\"Diện tích\",\n",
        "    yaxis_title=\"Số lượng\")\n",
        "fig.show()"
      ],
      "execution_count": 7,
      "outputs": [
        {
          "output_type": "display_data",
          "data": {
            "text/html": [
              "<html>\n",
              "<head><meta charset=\"utf-8\" /></head>\n",
              "<body>\n",
              "    <div>\n",
              "            <script src=\"https://cdnjs.cloudflare.com/ajax/libs/mathjax/2.7.5/MathJax.js?config=TeX-AMS-MML_SVG\"></script><script type=\"text/javascript\">if (window.MathJax) {MathJax.Hub.Config({SVG: {font: \"STIX-Web\"}});}</script>\n",
              "                <script type=\"text/javascript\">window.PlotlyConfig = {MathJaxConfig: 'local'};</script>\n",
              "        <script src=\"https://cdn.plot.ly/plotly-latest.min.js\"></script>    \n",
              "            <div id=\"d80ee5dc-cb94-432c-a3a9-988ab38dd0e5\" class=\"plotly-graph-div\" style=\"height:525px; width:100%;\"></div>\n",
              "            <script type=\"text/javascript\">\n",
              "                \n",
              "                    window.PLOTLYENV=window.PLOTLYENV || {};\n",
              "                    \n",
              "                if (document.getElementById(\"d80ee5dc-cb94-432c-a3a9-988ab38dd0e5\")) {\n",
              "                    Plotly.newPlot(\n",
              "                        'd80ee5dc-cb94-432c-a3a9-988ab38dd0e5',\n",
              "                        [{\"type\": \"bar\", \"x\": [\"DT: 20.00 m\\u00b2\", \"DT: 16.00 m\\u00b2\", \"DT: 15.00 m\\u00b2\", \"DT: 25.00 m\\u00b2\", \"DT: 22.00 m\\u00b2\", \"DT: 18.00 m\\u00b2\", \"DT: 26.00 m\\u00b2\", \"DT: 30.00 m\\u00b2\", \"DT: 24.00 m\\u00b2\", \"DT: 10.00 m\\u00b2\", \"DT: 21.00 m\\u00b2\", \"DT: 0.00 m\\u00b2\", \"DT: 12.00 m\\u00b2\", \"DT: 140.00 m\\u00b2\", \"DT: 45.00 m\\u00b2\", \"DT: 14.00 m\\u00b2\", \"DT: 27.00 m\\u00b2\", \"DT: 13.00 m\\u00b2\", \"DT: 36.00 m\\u00b2\", \"DT: 23.00 m\\u00b2\", \"DT: 42.00 m\\u00b2\", \"DT: 100.00 m\\u00b2\", \"DT: 17.00 m\\u00b2\", \"DT: 32.00 m\\u00b2\", \"DT: 250.00 m\\u00b2\", \"DT: 34.00 m\\u00b2\", \"DT: 200000.00 m\\u00b2\", \"DT: 80.00 m\\u00b2\", \"DT: 220.00 m\\u00b2\", \"DT: 90.00 m\\u00b2\"], \"y\": [76, 67, 49, 32, 26, 20, 19, 14, 13, 9, 9, 8, 7, 6, 5, 5, 5, 5, 4, 4, 3, 3, 3, 3, 3, 2, 2, 2, 2, 2]}],\n",
              "                        {\"template\": {\"data\": {\"bar\": [{\"error_x\": {\"color\": \"#2a3f5f\"}, \"error_y\": {\"color\": \"#2a3f5f\"}, \"marker\": {\"line\": {\"color\": \"#E5ECF6\", \"width\": 0.5}}, \"type\": \"bar\"}], \"barpolar\": [{\"marker\": {\"line\": {\"color\": \"#E5ECF6\", \"width\": 0.5}}, \"type\": \"barpolar\"}], \"carpet\": [{\"aaxis\": {\"endlinecolor\": \"#2a3f5f\", \"gridcolor\": \"white\", \"linecolor\": \"white\", \"minorgridcolor\": \"white\", \"startlinecolor\": \"#2a3f5f\"}, \"baxis\": {\"endlinecolor\": \"#2a3f5f\", \"gridcolor\": \"white\", \"linecolor\": \"white\", \"minorgridcolor\": \"white\", \"startlinecolor\": \"#2a3f5f\"}, \"type\": \"carpet\"}], \"choropleth\": [{\"colorbar\": {\"outlinewidth\": 0, \"ticks\": \"\"}, \"type\": \"choropleth\"}], \"contour\": [{\"colorbar\": {\"outlinewidth\": 0, \"ticks\": \"\"}, \"colorscale\": [[0.0, \"#0d0887\"], [0.1111111111111111, \"#46039f\"], [0.2222222222222222, \"#7201a8\"], [0.3333333333333333, \"#9c179e\"], [0.4444444444444444, \"#bd3786\"], [0.5555555555555556, \"#d8576b\"], [0.6666666666666666, \"#ed7953\"], [0.7777777777777778, \"#fb9f3a\"], [0.8888888888888888, \"#fdca26\"], [1.0, \"#f0f921\"]], \"type\": \"contour\"}], \"contourcarpet\": [{\"colorbar\": {\"outlinewidth\": 0, \"ticks\": \"\"}, \"type\": \"contourcarpet\"}], \"heatmap\": [{\"colorbar\": {\"outlinewidth\": 0, \"ticks\": \"\"}, \"colorscale\": [[0.0, \"#0d0887\"], [0.1111111111111111, \"#46039f\"], [0.2222222222222222, \"#7201a8\"], [0.3333333333333333, \"#9c179e\"], [0.4444444444444444, \"#bd3786\"], [0.5555555555555556, \"#d8576b\"], [0.6666666666666666, \"#ed7953\"], [0.7777777777777778, \"#fb9f3a\"], [0.8888888888888888, \"#fdca26\"], [1.0, \"#f0f921\"]], \"type\": \"heatmap\"}], \"heatmapgl\": [{\"colorbar\": {\"outlinewidth\": 0, \"ticks\": \"\"}, \"colorscale\": [[0.0, \"#0d0887\"], [0.1111111111111111, \"#46039f\"], [0.2222222222222222, \"#7201a8\"], [0.3333333333333333, \"#9c179e\"], [0.4444444444444444, \"#bd3786\"], [0.5555555555555556, \"#d8576b\"], [0.6666666666666666, \"#ed7953\"], [0.7777777777777778, \"#fb9f3a\"], [0.8888888888888888, \"#fdca26\"], [1.0, \"#f0f921\"]], \"type\": \"heatmapgl\"}], \"histogram\": [{\"marker\": {\"colorbar\": {\"outlinewidth\": 0, \"ticks\": \"\"}}, \"type\": \"histogram\"}], \"histogram2d\": [{\"colorbar\": {\"outlinewidth\": 0, \"ticks\": \"\"}, \"colorscale\": [[0.0, \"#0d0887\"], [0.1111111111111111, \"#46039f\"], [0.2222222222222222, \"#7201a8\"], [0.3333333333333333, \"#9c179e\"], [0.4444444444444444, \"#bd3786\"], [0.5555555555555556, \"#d8576b\"], [0.6666666666666666, \"#ed7953\"], [0.7777777777777778, \"#fb9f3a\"], [0.8888888888888888, \"#fdca26\"], [1.0, \"#f0f921\"]], \"type\": \"histogram2d\"}], \"histogram2dcontour\": [{\"colorbar\": {\"outlinewidth\": 0, \"ticks\": \"\"}, \"colorscale\": [[0.0, \"#0d0887\"], [0.1111111111111111, \"#46039f\"], [0.2222222222222222, \"#7201a8\"], [0.3333333333333333, \"#9c179e\"], [0.4444444444444444, \"#bd3786\"], [0.5555555555555556, \"#d8576b\"], [0.6666666666666666, \"#ed7953\"], [0.7777777777777778, \"#fb9f3a\"], [0.8888888888888888, \"#fdca26\"], [1.0, \"#f0f921\"]], \"type\": \"histogram2dcontour\"}], \"mesh3d\": [{\"colorbar\": {\"outlinewidth\": 0, \"ticks\": \"\"}, \"type\": \"mesh3d\"}], \"parcoords\": [{\"line\": {\"colorbar\": {\"outlinewidth\": 0, \"ticks\": \"\"}}, \"type\": \"parcoords\"}], \"pie\": [{\"automargin\": true, \"type\": \"pie\"}], \"scatter\": [{\"marker\": {\"colorbar\": {\"outlinewidth\": 0, \"ticks\": \"\"}}, \"type\": \"scatter\"}], \"scatter3d\": [{\"line\": {\"colorbar\": {\"outlinewidth\": 0, \"ticks\": \"\"}}, \"marker\": {\"colorbar\": {\"outlinewidth\": 0, \"ticks\": \"\"}}, \"type\": \"scatter3d\"}], \"scattercarpet\": [{\"marker\": {\"colorbar\": {\"outlinewidth\": 0, \"ticks\": \"\"}}, \"type\": \"scattercarpet\"}], \"scattergeo\": [{\"marker\": {\"colorbar\": {\"outlinewidth\": 0, \"ticks\": \"\"}}, \"type\": \"scattergeo\"}], \"scattergl\": [{\"marker\": {\"colorbar\": {\"outlinewidth\": 0, \"ticks\": \"\"}}, \"type\": \"scattergl\"}], \"scattermapbox\": [{\"marker\": {\"colorbar\": {\"outlinewidth\": 0, \"ticks\": \"\"}}, \"type\": \"scattermapbox\"}], \"scatterpolar\": [{\"marker\": {\"colorbar\": {\"outlinewidth\": 0, \"ticks\": \"\"}}, \"type\": \"scatterpolar\"}], \"scatterpolargl\": [{\"marker\": {\"colorbar\": {\"outlinewidth\": 0, \"ticks\": \"\"}}, \"type\": \"scatterpolargl\"}], \"scatterternary\": [{\"marker\": {\"colorbar\": {\"outlinewidth\": 0, \"ticks\": \"\"}}, \"type\": \"scatterternary\"}], \"surface\": [{\"colorbar\": {\"outlinewidth\": 0, \"ticks\": \"\"}, \"colorscale\": [[0.0, \"#0d0887\"], [0.1111111111111111, \"#46039f\"], [0.2222222222222222, \"#7201a8\"], [0.3333333333333333, \"#9c179e\"], [0.4444444444444444, \"#bd3786\"], [0.5555555555555556, \"#d8576b\"], [0.6666666666666666, \"#ed7953\"], [0.7777777777777778, \"#fb9f3a\"], [0.8888888888888888, \"#fdca26\"], [1.0, \"#f0f921\"]], \"type\": \"surface\"}], \"table\": [{\"cells\": {\"fill\": {\"color\": \"#EBF0F8\"}, \"line\": {\"color\": \"white\"}}, \"header\": {\"fill\": {\"color\": \"#C8D4E3\"}, \"line\": {\"color\": \"white\"}}, \"type\": \"table\"}]}, \"layout\": {\"annotationdefaults\": {\"arrowcolor\": \"#2a3f5f\", \"arrowhead\": 0, \"arrowwidth\": 1}, \"coloraxis\": {\"colorbar\": {\"outlinewidth\": 0, \"ticks\": \"\"}}, \"colorscale\": {\"diverging\": [[0, \"#8e0152\"], [0.1, \"#c51b7d\"], [0.2, \"#de77ae\"], [0.3, \"#f1b6da\"], [0.4, \"#fde0ef\"], [0.5, \"#f7f7f7\"], [0.6, \"#e6f5d0\"], [0.7, \"#b8e186\"], [0.8, \"#7fbc41\"], [0.9, \"#4d9221\"], [1, \"#276419\"]], \"sequential\": [[0.0, \"#0d0887\"], [0.1111111111111111, \"#46039f\"], [0.2222222222222222, \"#7201a8\"], [0.3333333333333333, \"#9c179e\"], [0.4444444444444444, \"#bd3786\"], [0.5555555555555556, \"#d8576b\"], [0.6666666666666666, \"#ed7953\"], [0.7777777777777778, \"#fb9f3a\"], [0.8888888888888888, \"#fdca26\"], [1.0, \"#f0f921\"]], \"sequentialminus\": [[0.0, \"#0d0887\"], [0.1111111111111111, \"#46039f\"], [0.2222222222222222, \"#7201a8\"], [0.3333333333333333, \"#9c179e\"], [0.4444444444444444, \"#bd3786\"], [0.5555555555555556, \"#d8576b\"], [0.6666666666666666, \"#ed7953\"], [0.7777777777777778, \"#fb9f3a\"], [0.8888888888888888, \"#fdca26\"], [1.0, \"#f0f921\"]]}, \"colorway\": [\"#636efa\", \"#EF553B\", \"#00cc96\", \"#ab63fa\", \"#FFA15A\", \"#19d3f3\", \"#FF6692\", \"#B6E880\", \"#FF97FF\", \"#FECB52\"], \"font\": {\"color\": \"#2a3f5f\"}, \"geo\": {\"bgcolor\": \"white\", \"lakecolor\": \"white\", \"landcolor\": \"#E5ECF6\", \"showlakes\": true, \"showland\": true, \"subunitcolor\": \"white\"}, \"hoverlabel\": {\"align\": \"left\"}, \"hovermode\": \"closest\", \"mapbox\": {\"style\": \"light\"}, \"paper_bgcolor\": \"white\", \"plot_bgcolor\": \"#E5ECF6\", \"polar\": {\"angularaxis\": {\"gridcolor\": \"white\", \"linecolor\": \"white\", \"ticks\": \"\"}, \"bgcolor\": \"#E5ECF6\", \"radialaxis\": {\"gridcolor\": \"white\", \"linecolor\": \"white\", \"ticks\": \"\"}}, \"scene\": {\"xaxis\": {\"backgroundcolor\": \"#E5ECF6\", \"gridcolor\": \"white\", \"gridwidth\": 2, \"linecolor\": \"white\", \"showbackground\": true, \"ticks\": \"\", \"zerolinecolor\": \"white\"}, \"yaxis\": {\"backgroundcolor\": \"#E5ECF6\", \"gridcolor\": \"white\", \"gridwidth\": 2, \"linecolor\": \"white\", \"showbackground\": true, \"ticks\": \"\", \"zerolinecolor\": \"white\"}, \"zaxis\": {\"backgroundcolor\": \"#E5ECF6\", \"gridcolor\": \"white\", \"gridwidth\": 2, \"linecolor\": \"white\", \"showbackground\": true, \"ticks\": \"\", \"zerolinecolor\": \"white\"}}, \"shapedefaults\": {\"line\": {\"color\": \"#2a3f5f\"}}, \"ternary\": {\"aaxis\": {\"gridcolor\": \"white\", \"linecolor\": \"white\", \"ticks\": \"\"}, \"baxis\": {\"gridcolor\": \"white\", \"linecolor\": \"white\", \"ticks\": \"\"}, \"bgcolor\": \"#E5ECF6\", \"caxis\": {\"gridcolor\": \"white\", \"linecolor\": \"white\", \"ticks\": \"\"}}, \"title\": {\"x\": 0.05}, \"xaxis\": {\"automargin\": true, \"gridcolor\": \"white\", \"linecolor\": \"white\", \"ticks\": \"\", \"title\": {\"standoff\": 15}, \"zerolinecolor\": \"white\", \"zerolinewidth\": 2}, \"yaxis\": {\"automargin\": true, \"gridcolor\": \"white\", \"linecolor\": \"white\", \"ticks\": \"\", \"title\": {\"standoff\": 15}, \"zerolinecolor\": \"white\", \"zerolinewidth\": 2}}}, \"title\": {\"text\": \"Ph\\u00e2n b\\u1ed1 di\\u1ec7n t\\u00edch c\\u1ee7a c\\u00e1c nh\\u00e0 tr\\u1ecd\"}, \"xaxis\": {\"title\": {\"text\": \"Di\\u1ec7n t\\u00edch\"}}, \"yaxis\": {\"title\": {\"text\": \"S\\u1ed1 l\\u01b0\\u1ee3ng\"}}},\n",
              "                        {\"responsive\": true}\n",
              "                    ).then(function(){\n",
              "                            \n",
              "var gd = document.getElementById('d80ee5dc-cb94-432c-a3a9-988ab38dd0e5');\n",
              "var x = new MutationObserver(function (mutations, observer) {{\n",
              "        var display = window.getComputedStyle(gd).display;\n",
              "        if (!display || display === 'none') {{\n",
              "            console.log([gd, 'removed!']);\n",
              "            Plotly.purge(gd);\n",
              "            observer.disconnect();\n",
              "        }}\n",
              "}});\n",
              "\n",
              "// Listen for the removal of the full notebook cells\n",
              "var notebookContainer = gd.closest('#notebook-container');\n",
              "if (notebookContainer) {{\n",
              "    x.observe(notebookContainer, {childList: true});\n",
              "}}\n",
              "\n",
              "// Listen for the clearing of the current output cell\n",
              "var outputEl = gd.closest('.output');\n",
              "if (outputEl) {{\n",
              "    x.observe(outputEl, {childList: true});\n",
              "}}\n",
              "\n",
              "                        })\n",
              "                };\n",
              "                \n",
              "            </script>\n",
              "        </div>\n",
              "</body>\n",
              "</html>"
            ]
          },
          "metadata": {}
        }
      ]
    },
    {
      "cell_type": "code",
      "metadata": {
        "colab": {
          "base_uri": "https://localhost:8080/",
          "height": 649
        },
        "id": "4aoEzYD0UnCK",
        "outputId": "74a3a7ec-9c9e-4e2b-cd35-6d7f724300c6"
      },
      "source": [
        "def sentiment(gia):\n",
        "  if gia in range(0,1000000):\n",
        "    return 'Dưới 1 triệu'\n",
        "  elif gia in range(1000001,2000000):\n",
        "    return '1 triệu - 2 triệu'\n",
        "  else:\n",
        "    return 'Trên 2 triệu'\n",
        "\n",
        "df['gia1'] = df['gia'].apply(sentiment)\n",
        "df"
      ],
      "execution_count": 8,
      "outputs": [
        {
          "output_type": "execute_result",
          "data": {
            "text/html": [
              "<div>\n",
              "<style scoped>\n",
              "    .dataframe tbody tr th:only-of-type {\n",
              "        vertical-align: middle;\n",
              "    }\n",
              "\n",
              "    .dataframe tbody tr th {\n",
              "        vertical-align: top;\n",
              "    }\n",
              "\n",
              "    .dataframe thead th {\n",
              "        text-align: right;\n",
              "    }\n",
              "</style>\n",
              "<table border=\"1\" class=\"dataframe\">\n",
              "  <thead>\n",
              "    <tr style=\"text-align: right;\">\n",
              "      <th></th>\n",
              "      <th>id_motels</th>\n",
              "      <th>tennhatro</th>\n",
              "      <th>diachi</th>\n",
              "      <th>toalac</th>\n",
              "      <th>danhgia</th>\n",
              "      <th>gia</th>\n",
              "      <th>dientich</th>\n",
              "      <th>noidung</th>\n",
              "      <th>luotxem</th>\n",
              "      <th>gia1</th>\n",
              "    </tr>\n",
              "  </thead>\n",
              "  <tbody>\n",
              "    <tr>\n",
              "      <th>0</th>\n",
              "      <td>0</td>\n",
              "      <td>Cho Thuê Phòng Trọ Có Sẵn Nội Thất</td>\n",
              "      <td>Địa chỉ: Hẻm 278, đường Tầm Vu</td>\n",
              "      <td>Ninh Kiều</td>\n",
              "      <td>5.0</td>\n",
              "      <td>2700000</td>\n",
              "      <td>DT: 27.00 m²</td>\n",
              "      <td>Mùa nhập học đến rồi_Các bạn sinh viên đã tìm ...</td>\n",
              "      <td>78796</td>\n",
              "      <td>Trên 2 triệu</td>\n",
              "    </tr>\n",
              "    <tr>\n",
              "      <th>1</th>\n",
              "      <td>1</td>\n",
              "      <td>Cho thuê phòng trọ mới thoáng mát</td>\n",
              "      <td>Địa chỉ: 156b1. Đường Nguyễn Tri Phương, p An ...</td>\n",
              "      <td>Ninh Kiều</td>\n",
              "      <td>1.2</td>\n",
              "      <td>1000000</td>\n",
              "      <td>DT: 24.00 m²</td>\n",
              "      <td>Cho thuê phòng trọ đường Nguyễn Tri Phương,  p...</td>\n",
              "      <td>1891</td>\n",
              "      <td>Trên 2 triệu</td>\n",
              "    </tr>\n",
              "    <tr>\n",
              "      <th>2</th>\n",
              "      <td>2</td>\n",
              "      <td>NHÀ TRỌ ĐƯỜNG TẦM VU , KẾ TU VIỆN , NHÀ HÀNG M...</td>\n",
              "      <td>Địa chỉ: 360 Tầm Vu , phường Hưng Lợi , quận N...</td>\n",
              "      <td>Ninh Kiều</td>\n",
              "      <td>2.7</td>\n",
              "      <td>1200000</td>\n",
              "      <td>DT: 15.00 m²</td>\n",
              "      <td>NHÀ TRỌ ĐƯỜNG TẦM VU , KẾ TU VIỆN , NHÀ HÀNG M...</td>\n",
              "      <td>13095</td>\n",
              "      <td>1 triệu - 2 triệu</td>\n",
              "    </tr>\n",
              "    <tr>\n",
              "      <th>3</th>\n",
              "      <td>3</td>\n",
              "      <td>NHÀ TRỌ ĐƯỜNG TẦM VU , GẦN NHÀ HÀNG MÊKONG , C...</td>\n",
              "      <td>Địa chỉ: 360A ,ĐƯỜNG TẦM VU , PHƯỜNG HƯNG LỢI ...</td>\n",
              "      <td>Ninh Kiều</td>\n",
              "      <td>3.0</td>\n",
              "      <td>1200000</td>\n",
              "      <td>DT: 15.00 m²</td>\n",
              "      <td>NHÀ TRỌ ĐƯỜNG TẦM VU , KẾ TU VIỆN , NHÀ HÀNG M...</td>\n",
              "      <td>21811</td>\n",
              "      <td>1 triệu - 2 triệu</td>\n",
              "    </tr>\n",
              "    <tr>\n",
              "      <th>4</th>\n",
              "      <td>4</td>\n",
              "      <td>Phòng trọ, nhà nghỉ Hoàng Phương Đông cần cho ...</td>\n",
              "      <td>Địa chỉ: 14R Trần Văn Sắc</td>\n",
              "      <td>Ninh Kiều</td>\n",
              "      <td>1.5</td>\n",
              "      <td>2000000</td>\n",
              "      <td>DT: 25.00 m²</td>\n",
              "      <td>Cho thuê phòng trọ mới sạch đẹp trang thiết bị...</td>\n",
              "      <td>8011</td>\n",
              "      <td>Trên 2 triệu</td>\n",
              "    </tr>\n",
              "    <tr>\n",
              "      <th>...</th>\n",
              "      <td>...</td>\n",
              "      <td>...</td>\n",
              "      <td>...</td>\n",
              "      <td>...</td>\n",
              "      <td>...</td>\n",
              "      <td>...</td>\n",
              "      <td>...</td>\n",
              "      <td>...</td>\n",
              "      <td>...</td>\n",
              "      <td>...</td>\n",
              "    </tr>\n",
              "    <tr>\n",
              "      <th>403</th>\n",
              "      <td>403</td>\n",
              "      <td>NHÀ TRO MINH LUAN</td>\n",
              "      <td>Địa chỉ: Cầu Lê Bình, Thường Thạnh, Cái Răng, ...</td>\n",
              "      <td>Cái Răng</td>\n",
              "      <td>5.0</td>\n",
              "      <td>700000</td>\n",
              "      <td>DT: 32.00 m²</td>\n",
              "      <td>Cho thuê phòng trọ mới sạch đẹp trang thiết bị...</td>\n",
              "      <td>34712</td>\n",
              "      <td>Dưới 1 triệu</td>\n",
              "    </tr>\n",
              "    <tr>\n",
              "      <th>404</th>\n",
              "      <td>404</td>\n",
              "      <td>Nhà trọ Ngọc Huyền</td>\n",
              "      <td>Địa chỉ: 2PJW+FWF, Phường An Khánh, Ninh Kiều,...</td>\n",
              "      <td>Ninh Kiều</td>\n",
              "      <td>0.0</td>\n",
              "      <td>1000000</td>\n",
              "      <td>DT: 45.00 m²</td>\n",
              "      <td>Nhà trọ - Thoáng mát - An ninh - Wc trong - Wi...</td>\n",
              "      <td>123569</td>\n",
              "      <td>Trên 2 triệu</td>\n",
              "    </tr>\n",
              "    <tr>\n",
              "      <th>405</th>\n",
              "      <td>405</td>\n",
              "      <td>Nhà Trọ Minh Quân</td>\n",
              "      <td>Địa chỉ: 25 Đường số 1, Khu Nhà Ở Cán Bộ Giáo ...</td>\n",
              "      <td>Ninh Kiều</td>\n",
              "      <td>0.0</td>\n",
              "      <td>1500000</td>\n",
              "      <td>DT: 25.00 m²</td>\n",
              "      <td>Nhà trọ cao ráo, thoáng mát, sạch đẹp, thiết k...</td>\n",
              "      <td>0</td>\n",
              "      <td>1 triệu - 2 triệu</td>\n",
              "    </tr>\n",
              "    <tr>\n",
              "      <th>406</th>\n",
              "      <td>406</td>\n",
              "      <td>Phòng Trọ Sinh Viên\\r</td>\n",
              "      <td>Địa chỉ: K4 Nguyễn Ngọc Trai, An Phú, Ninh Kiề...</td>\n",
              "      <td>Ninh Kiều</td>\n",
              "      <td>0.0</td>\n",
              "      <td>1000000</td>\n",
              "      <td>DT: 20.00 m²</td>\n",
              "      <td>Phòng trọ đẹp, sạch sẽ, thoáng mát, yên tĩnh, ...</td>\n",
              "      <td>1156</td>\n",
              "      <td>Trên 2 triệu</td>\n",
              "    </tr>\n",
              "    <tr>\n",
              "      <th>407</th>\n",
              "      <td>407</td>\n",
              "      <td>Nhà trọ</td>\n",
              "      <td>Địa chỉ: Hẻm Tổ 6, An Bình, Ninh Kiều, Cần Thơ\\r</td>\n",
              "      <td>Ninh Kiều</td>\n",
              "      <td>0.0</td>\n",
              "      <td>1500000</td>\n",
              "      <td>DT: 25.00 m²</td>\n",
              "      <td>Cho thuê phòng trọ cao cấp ,đầy đủ tiện nghi t...</td>\n",
              "      <td>1298</td>\n",
              "      <td>1 triệu - 2 triệu</td>\n",
              "    </tr>\n",
              "  </tbody>\n",
              "</table>\n",
              "<p>408 rows × 10 columns</p>\n",
              "</div>"
            ],
            "text/plain": [
              "     id_motels  ...               gia1\n",
              "0            0  ...       Trên 2 triệu\n",
              "1            1  ...       Trên 2 triệu\n",
              "2            2  ...  1 triệu - 2 triệu\n",
              "3            3  ...  1 triệu - 2 triệu\n",
              "4            4  ...       Trên 2 triệu\n",
              "..         ...  ...                ...\n",
              "403        403  ...       Dưới 1 triệu\n",
              "404        404  ...       Trên 2 triệu\n",
              "405        405  ...  1 triệu - 2 triệu\n",
              "406        406  ...       Trên 2 triệu\n",
              "407        407  ...  1 triệu - 2 triệu\n",
              "\n",
              "[408 rows x 10 columns]"
            ]
          },
          "metadata": {},
          "execution_count": 8
        }
      ]
    },
    {
      "cell_type": "code",
      "metadata": {
        "colab": {
          "base_uri": "https://localhost:8080/",
          "height": 542
        },
        "id": "7DuMM-FjfCd0",
        "outputId": "ae455f6f-26fe-4388-f227-b152408178b4"
      },
      "source": [
        "#Phân bố giá của các nhà trọ\n",
        "import plotly.graph_objects as go\n",
        "fig = go.Figure([go.Bar(x=df.gia1.value_counts().index, y=df.gia1.value_counts().tolist())])\n",
        "fig.update_layout(\n",
        "    title=\"Phân bố giá của các nhà trọ\",\n",
        "    xaxis_title=\"Giá\",\n",
        "    yaxis_title=\"Số lượng\")\n",
        "fig.show()"
      ],
      "execution_count": 9,
      "outputs": [
        {
          "output_type": "display_data",
          "data": {
            "text/html": [
              "<html>\n",
              "<head><meta charset=\"utf-8\" /></head>\n",
              "<body>\n",
              "    <div>\n",
              "            <script src=\"https://cdnjs.cloudflare.com/ajax/libs/mathjax/2.7.5/MathJax.js?config=TeX-AMS-MML_SVG\"></script><script type=\"text/javascript\">if (window.MathJax) {MathJax.Hub.Config({SVG: {font: \"STIX-Web\"}});}</script>\n",
              "                <script type=\"text/javascript\">window.PlotlyConfig = {MathJaxConfig: 'local'};</script>\n",
              "        <script src=\"https://cdn.plot.ly/plotly-latest.min.js\"></script>    \n",
              "            <div id=\"7e8c89e1-0f9d-40ff-b8af-c1b3afae7568\" class=\"plotly-graph-div\" style=\"height:525px; width:100%;\"></div>\n",
              "            <script type=\"text/javascript\">\n",
              "                \n",
              "                    window.PLOTLYENV=window.PLOTLYENV || {};\n",
              "                    \n",
              "                if (document.getElementById(\"7e8c89e1-0f9d-40ff-b8af-c1b3afae7568\")) {\n",
              "                    Plotly.newPlot(\n",
              "                        '7e8c89e1-0f9d-40ff-b8af-c1b3afae7568',\n",
              "                        [{\"type\": \"bar\", \"x\": [\"Tr\\u00ean 2 tri\\u1ec7u\", \"D\\u01b0\\u1edbi 1 tri\\u1ec7u\", \"1 tri\\u1ec7u - 2 tri\\u1ec7u\"], \"y\": [187, 127, 94]}],\n",
              "                        {\"template\": {\"data\": {\"bar\": [{\"error_x\": {\"color\": \"#2a3f5f\"}, \"error_y\": {\"color\": \"#2a3f5f\"}, \"marker\": {\"line\": {\"color\": \"#E5ECF6\", \"width\": 0.5}}, \"type\": \"bar\"}], \"barpolar\": [{\"marker\": {\"line\": {\"color\": \"#E5ECF6\", \"width\": 0.5}}, \"type\": \"barpolar\"}], \"carpet\": [{\"aaxis\": {\"endlinecolor\": \"#2a3f5f\", \"gridcolor\": \"white\", \"linecolor\": \"white\", \"minorgridcolor\": \"white\", \"startlinecolor\": \"#2a3f5f\"}, \"baxis\": {\"endlinecolor\": \"#2a3f5f\", \"gridcolor\": \"white\", \"linecolor\": \"white\", \"minorgridcolor\": \"white\", \"startlinecolor\": \"#2a3f5f\"}, \"type\": \"carpet\"}], \"choropleth\": [{\"colorbar\": {\"outlinewidth\": 0, \"ticks\": \"\"}, \"type\": \"choropleth\"}], \"contour\": [{\"colorbar\": {\"outlinewidth\": 0, \"ticks\": \"\"}, \"colorscale\": [[0.0, \"#0d0887\"], [0.1111111111111111, \"#46039f\"], [0.2222222222222222, \"#7201a8\"], [0.3333333333333333, \"#9c179e\"], [0.4444444444444444, \"#bd3786\"], [0.5555555555555556, \"#d8576b\"], [0.6666666666666666, \"#ed7953\"], [0.7777777777777778, \"#fb9f3a\"], [0.8888888888888888, \"#fdca26\"], [1.0, \"#f0f921\"]], \"type\": \"contour\"}], \"contourcarpet\": [{\"colorbar\": {\"outlinewidth\": 0, \"ticks\": \"\"}, \"type\": \"contourcarpet\"}], \"heatmap\": [{\"colorbar\": {\"outlinewidth\": 0, \"ticks\": \"\"}, \"colorscale\": [[0.0, \"#0d0887\"], [0.1111111111111111, \"#46039f\"], [0.2222222222222222, \"#7201a8\"], [0.3333333333333333, \"#9c179e\"], [0.4444444444444444, \"#bd3786\"], [0.5555555555555556, \"#d8576b\"], [0.6666666666666666, \"#ed7953\"], [0.7777777777777778, \"#fb9f3a\"], [0.8888888888888888, \"#fdca26\"], [1.0, \"#f0f921\"]], \"type\": \"heatmap\"}], \"heatmapgl\": [{\"colorbar\": {\"outlinewidth\": 0, \"ticks\": \"\"}, \"colorscale\": [[0.0, \"#0d0887\"], [0.1111111111111111, \"#46039f\"], [0.2222222222222222, \"#7201a8\"], [0.3333333333333333, \"#9c179e\"], [0.4444444444444444, \"#bd3786\"], [0.5555555555555556, \"#d8576b\"], [0.6666666666666666, \"#ed7953\"], [0.7777777777777778, \"#fb9f3a\"], [0.8888888888888888, \"#fdca26\"], [1.0, \"#f0f921\"]], \"type\": \"heatmapgl\"}], \"histogram\": [{\"marker\": {\"colorbar\": {\"outlinewidth\": 0, \"ticks\": \"\"}}, \"type\": \"histogram\"}], \"histogram2d\": [{\"colorbar\": {\"outlinewidth\": 0, \"ticks\": \"\"}, \"colorscale\": [[0.0, \"#0d0887\"], [0.1111111111111111, \"#46039f\"], [0.2222222222222222, \"#7201a8\"], [0.3333333333333333, \"#9c179e\"], [0.4444444444444444, \"#bd3786\"], [0.5555555555555556, \"#d8576b\"], [0.6666666666666666, \"#ed7953\"], [0.7777777777777778, \"#fb9f3a\"], [0.8888888888888888, \"#fdca26\"], [1.0, \"#f0f921\"]], \"type\": \"histogram2d\"}], \"histogram2dcontour\": [{\"colorbar\": {\"outlinewidth\": 0, \"ticks\": \"\"}, \"colorscale\": [[0.0, \"#0d0887\"], [0.1111111111111111, \"#46039f\"], [0.2222222222222222, \"#7201a8\"], [0.3333333333333333, \"#9c179e\"], [0.4444444444444444, \"#bd3786\"], [0.5555555555555556, \"#d8576b\"], [0.6666666666666666, \"#ed7953\"], [0.7777777777777778, \"#fb9f3a\"], [0.8888888888888888, \"#fdca26\"], [1.0, \"#f0f921\"]], \"type\": \"histogram2dcontour\"}], \"mesh3d\": [{\"colorbar\": {\"outlinewidth\": 0, \"ticks\": \"\"}, \"type\": \"mesh3d\"}], \"parcoords\": [{\"line\": {\"colorbar\": {\"outlinewidth\": 0, \"ticks\": \"\"}}, \"type\": \"parcoords\"}], \"pie\": [{\"automargin\": true, \"type\": \"pie\"}], \"scatter\": [{\"marker\": {\"colorbar\": {\"outlinewidth\": 0, \"ticks\": \"\"}}, \"type\": \"scatter\"}], \"scatter3d\": [{\"line\": {\"colorbar\": {\"outlinewidth\": 0, \"ticks\": \"\"}}, \"marker\": {\"colorbar\": {\"outlinewidth\": 0, \"ticks\": \"\"}}, \"type\": \"scatter3d\"}], \"scattercarpet\": [{\"marker\": {\"colorbar\": {\"outlinewidth\": 0, \"ticks\": \"\"}}, \"type\": \"scattercarpet\"}], \"scattergeo\": [{\"marker\": {\"colorbar\": {\"outlinewidth\": 0, \"ticks\": \"\"}}, \"type\": \"scattergeo\"}], \"scattergl\": [{\"marker\": {\"colorbar\": {\"outlinewidth\": 0, \"ticks\": \"\"}}, \"type\": \"scattergl\"}], \"scattermapbox\": [{\"marker\": {\"colorbar\": {\"outlinewidth\": 0, \"ticks\": \"\"}}, \"type\": \"scattermapbox\"}], \"scatterpolar\": [{\"marker\": {\"colorbar\": {\"outlinewidth\": 0, \"ticks\": \"\"}}, \"type\": \"scatterpolar\"}], \"scatterpolargl\": [{\"marker\": {\"colorbar\": {\"outlinewidth\": 0, \"ticks\": \"\"}}, \"type\": \"scatterpolargl\"}], \"scatterternary\": [{\"marker\": {\"colorbar\": {\"outlinewidth\": 0, \"ticks\": \"\"}}, \"type\": \"scatterternary\"}], \"surface\": [{\"colorbar\": {\"outlinewidth\": 0, \"ticks\": \"\"}, \"colorscale\": [[0.0, \"#0d0887\"], [0.1111111111111111, \"#46039f\"], [0.2222222222222222, \"#7201a8\"], [0.3333333333333333, \"#9c179e\"], [0.4444444444444444, \"#bd3786\"], [0.5555555555555556, \"#d8576b\"], [0.6666666666666666, \"#ed7953\"], [0.7777777777777778, \"#fb9f3a\"], [0.8888888888888888, \"#fdca26\"], [1.0, \"#f0f921\"]], \"type\": \"surface\"}], \"table\": [{\"cells\": {\"fill\": {\"color\": \"#EBF0F8\"}, \"line\": {\"color\": \"white\"}}, \"header\": {\"fill\": {\"color\": \"#C8D4E3\"}, \"line\": {\"color\": \"white\"}}, \"type\": \"table\"}]}, \"layout\": {\"annotationdefaults\": {\"arrowcolor\": \"#2a3f5f\", \"arrowhead\": 0, \"arrowwidth\": 1}, \"coloraxis\": {\"colorbar\": {\"outlinewidth\": 0, \"ticks\": \"\"}}, \"colorscale\": {\"diverging\": [[0, \"#8e0152\"], [0.1, \"#c51b7d\"], [0.2, \"#de77ae\"], [0.3, \"#f1b6da\"], [0.4, \"#fde0ef\"], [0.5, \"#f7f7f7\"], [0.6, \"#e6f5d0\"], [0.7, \"#b8e186\"], [0.8, \"#7fbc41\"], [0.9, \"#4d9221\"], [1, \"#276419\"]], \"sequential\": [[0.0, \"#0d0887\"], [0.1111111111111111, \"#46039f\"], [0.2222222222222222, \"#7201a8\"], [0.3333333333333333, \"#9c179e\"], [0.4444444444444444, \"#bd3786\"], [0.5555555555555556, \"#d8576b\"], [0.6666666666666666, \"#ed7953\"], [0.7777777777777778, \"#fb9f3a\"], [0.8888888888888888, \"#fdca26\"], [1.0, \"#f0f921\"]], \"sequentialminus\": [[0.0, \"#0d0887\"], [0.1111111111111111, \"#46039f\"], [0.2222222222222222, \"#7201a8\"], [0.3333333333333333, \"#9c179e\"], [0.4444444444444444, \"#bd3786\"], [0.5555555555555556, \"#d8576b\"], [0.6666666666666666, \"#ed7953\"], [0.7777777777777778, \"#fb9f3a\"], [0.8888888888888888, \"#fdca26\"], [1.0, \"#f0f921\"]]}, \"colorway\": [\"#636efa\", \"#EF553B\", \"#00cc96\", \"#ab63fa\", \"#FFA15A\", \"#19d3f3\", \"#FF6692\", \"#B6E880\", \"#FF97FF\", \"#FECB52\"], \"font\": {\"color\": \"#2a3f5f\"}, \"geo\": {\"bgcolor\": \"white\", \"lakecolor\": \"white\", \"landcolor\": \"#E5ECF6\", \"showlakes\": true, \"showland\": true, \"subunitcolor\": \"white\"}, \"hoverlabel\": {\"align\": \"left\"}, \"hovermode\": \"closest\", \"mapbox\": {\"style\": \"light\"}, \"paper_bgcolor\": \"white\", \"plot_bgcolor\": \"#E5ECF6\", \"polar\": {\"angularaxis\": {\"gridcolor\": \"white\", \"linecolor\": \"white\", \"ticks\": \"\"}, \"bgcolor\": \"#E5ECF6\", \"radialaxis\": {\"gridcolor\": \"white\", \"linecolor\": \"white\", \"ticks\": \"\"}}, \"scene\": {\"xaxis\": {\"backgroundcolor\": \"#E5ECF6\", \"gridcolor\": \"white\", \"gridwidth\": 2, \"linecolor\": \"white\", \"showbackground\": true, \"ticks\": \"\", \"zerolinecolor\": \"white\"}, \"yaxis\": {\"backgroundcolor\": \"#E5ECF6\", \"gridcolor\": \"white\", \"gridwidth\": 2, \"linecolor\": \"white\", \"showbackground\": true, \"ticks\": \"\", \"zerolinecolor\": \"white\"}, \"zaxis\": {\"backgroundcolor\": \"#E5ECF6\", \"gridcolor\": \"white\", \"gridwidth\": 2, \"linecolor\": \"white\", \"showbackground\": true, \"ticks\": \"\", \"zerolinecolor\": \"white\"}}, \"shapedefaults\": {\"line\": {\"color\": \"#2a3f5f\"}}, \"ternary\": {\"aaxis\": {\"gridcolor\": \"white\", \"linecolor\": \"white\", \"ticks\": \"\"}, \"baxis\": {\"gridcolor\": \"white\", \"linecolor\": \"white\", \"ticks\": \"\"}, \"bgcolor\": \"#E5ECF6\", \"caxis\": {\"gridcolor\": \"white\", \"linecolor\": \"white\", \"ticks\": \"\"}}, \"title\": {\"x\": 0.05}, \"xaxis\": {\"automargin\": true, \"gridcolor\": \"white\", \"linecolor\": \"white\", \"ticks\": \"\", \"title\": {\"standoff\": 15}, \"zerolinecolor\": \"white\", \"zerolinewidth\": 2}, \"yaxis\": {\"automargin\": true, \"gridcolor\": \"white\", \"linecolor\": \"white\", \"ticks\": \"\", \"title\": {\"standoff\": 15}, \"zerolinecolor\": \"white\", \"zerolinewidth\": 2}}}, \"title\": {\"text\": \"Ph\\u00e2n b\\u1ed1 gi\\u00e1 c\\u1ee7a c\\u00e1c nh\\u00e0 tr\\u1ecd\"}, \"xaxis\": {\"title\": {\"text\": \"Gi\\u00e1\"}}, \"yaxis\": {\"title\": {\"text\": \"S\\u1ed1 l\\u01b0\\u1ee3ng\"}}},\n",
              "                        {\"responsive\": true}\n",
              "                    ).then(function(){\n",
              "                            \n",
              "var gd = document.getElementById('7e8c89e1-0f9d-40ff-b8af-c1b3afae7568');\n",
              "var x = new MutationObserver(function (mutations, observer) {{\n",
              "        var display = window.getComputedStyle(gd).display;\n",
              "        if (!display || display === 'none') {{\n",
              "            console.log([gd, 'removed!']);\n",
              "            Plotly.purge(gd);\n",
              "            observer.disconnect();\n",
              "        }}\n",
              "}});\n",
              "\n",
              "// Listen for the removal of the full notebook cells\n",
              "var notebookContainer = gd.closest('#notebook-container');\n",
              "if (notebookContainer) {{\n",
              "    x.observe(notebookContainer, {childList: true});\n",
              "}}\n",
              "\n",
              "// Listen for the clearing of the current output cell\n",
              "var outputEl = gd.closest('.output');\n",
              "if (outputEl) {{\n",
              "    x.observe(outputEl, {childList: true});\n",
              "}}\n",
              "\n",
              "                        })\n",
              "                };\n",
              "                \n",
              "            </script>\n",
              "        </div>\n",
              "</body>\n",
              "</html>"
            ]
          },
          "metadata": {}
        }
      ]
    },
    {
      "cell_type": "code",
      "metadata": {
        "id": "o-kMLo5nSGXg"
      },
      "source": [
        "#plt.figure(figsize=(25,20))\n",
        "#sns.countplot(x= df['gia1'])"
      ],
      "execution_count": null,
      "outputs": []
    },
    {
      "cell_type": "code",
      "metadata": {
        "id": "9N0yzmeWUGqb"
      },
      "source": [
        "def sentiment(luotxem):\n",
        "  if luotxem in range(0,1000):\n",
        "    return 'Thấp'\n",
        "  elif luotxem in range(1001,10000):\n",
        "    return 'Trung Bình'\n",
        "  elif luotxem in range(10001,50000):\n",
        "    return 'Khá'\n",
        "  elif luotxem in range(50001,70000):\n",
        "    return 'Tốt'\n",
        "  else:\n",
        "    return 'Rất tốt' "
      ],
      "execution_count": 10,
      "outputs": []
    },
    {
      "cell_type": "code",
      "metadata": {
        "colab": {
          "base_uri": "https://localhost:8080/",
          "height": 362
        },
        "id": "fGsF91gVUIoP",
        "outputId": "60a70f1d-8276-4610-9f98-3b6b12ec6463"
      },
      "source": [
        "df['luotxem1'] = df['luotxem'].apply(sentiment)\n",
        "df.head()"
      ],
      "execution_count": 11,
      "outputs": [
        {
          "output_type": "execute_result",
          "data": {
            "text/html": [
              "<div>\n",
              "<style scoped>\n",
              "    .dataframe tbody tr th:only-of-type {\n",
              "        vertical-align: middle;\n",
              "    }\n",
              "\n",
              "    .dataframe tbody tr th {\n",
              "        vertical-align: top;\n",
              "    }\n",
              "\n",
              "    .dataframe thead th {\n",
              "        text-align: right;\n",
              "    }\n",
              "</style>\n",
              "<table border=\"1\" class=\"dataframe\">\n",
              "  <thead>\n",
              "    <tr style=\"text-align: right;\">\n",
              "      <th></th>\n",
              "      <th>id_motels</th>\n",
              "      <th>tennhatro</th>\n",
              "      <th>diachi</th>\n",
              "      <th>toalac</th>\n",
              "      <th>danhgia</th>\n",
              "      <th>gia</th>\n",
              "      <th>dientich</th>\n",
              "      <th>noidung</th>\n",
              "      <th>luotxem</th>\n",
              "      <th>gia1</th>\n",
              "      <th>luotxem1</th>\n",
              "    </tr>\n",
              "  </thead>\n",
              "  <tbody>\n",
              "    <tr>\n",
              "      <th>0</th>\n",
              "      <td>0</td>\n",
              "      <td>Cho Thuê Phòng Trọ Có Sẵn Nội Thất</td>\n",
              "      <td>Địa chỉ: Hẻm 278, đường Tầm Vu</td>\n",
              "      <td>Ninh Kiều</td>\n",
              "      <td>5.0</td>\n",
              "      <td>2700000</td>\n",
              "      <td>DT: 27.00 m²</td>\n",
              "      <td>Mùa nhập học đến rồi_Các bạn sinh viên đã tìm ...</td>\n",
              "      <td>78796</td>\n",
              "      <td>Trên 2 triệu</td>\n",
              "      <td>Rất tốt</td>\n",
              "    </tr>\n",
              "    <tr>\n",
              "      <th>1</th>\n",
              "      <td>1</td>\n",
              "      <td>Cho thuê phòng trọ mới thoáng mát</td>\n",
              "      <td>Địa chỉ: 156b1. Đường Nguyễn Tri Phương, p An ...</td>\n",
              "      <td>Ninh Kiều</td>\n",
              "      <td>1.2</td>\n",
              "      <td>1000000</td>\n",
              "      <td>DT: 24.00 m²</td>\n",
              "      <td>Cho thuê phòng trọ đường Nguyễn Tri Phương,  p...</td>\n",
              "      <td>1891</td>\n",
              "      <td>Trên 2 triệu</td>\n",
              "      <td>Trung Bình</td>\n",
              "    </tr>\n",
              "    <tr>\n",
              "      <th>2</th>\n",
              "      <td>2</td>\n",
              "      <td>NHÀ TRỌ ĐƯỜNG TẦM VU , KẾ TU VIỆN , NHÀ HÀNG M...</td>\n",
              "      <td>Địa chỉ: 360 Tầm Vu , phường Hưng Lợi , quận N...</td>\n",
              "      <td>Ninh Kiều</td>\n",
              "      <td>2.7</td>\n",
              "      <td>1200000</td>\n",
              "      <td>DT: 15.00 m²</td>\n",
              "      <td>NHÀ TRỌ ĐƯỜNG TẦM VU , KẾ TU VIỆN , NHÀ HÀNG M...</td>\n",
              "      <td>13095</td>\n",
              "      <td>1 triệu - 2 triệu</td>\n",
              "      <td>Khá</td>\n",
              "    </tr>\n",
              "    <tr>\n",
              "      <th>3</th>\n",
              "      <td>3</td>\n",
              "      <td>NHÀ TRỌ ĐƯỜNG TẦM VU , GẦN NHÀ HÀNG MÊKONG , C...</td>\n",
              "      <td>Địa chỉ: 360A ,ĐƯỜNG TẦM VU , PHƯỜNG HƯNG LỢI ...</td>\n",
              "      <td>Ninh Kiều</td>\n",
              "      <td>3.0</td>\n",
              "      <td>1200000</td>\n",
              "      <td>DT: 15.00 m²</td>\n",
              "      <td>NHÀ TRỌ ĐƯỜNG TẦM VU , KẾ TU VIỆN , NHÀ HÀNG M...</td>\n",
              "      <td>21811</td>\n",
              "      <td>1 triệu - 2 triệu</td>\n",
              "      <td>Khá</td>\n",
              "    </tr>\n",
              "    <tr>\n",
              "      <th>4</th>\n",
              "      <td>4</td>\n",
              "      <td>Phòng trọ, nhà nghỉ Hoàng Phương Đông cần cho ...</td>\n",
              "      <td>Địa chỉ: 14R Trần Văn Sắc</td>\n",
              "      <td>Ninh Kiều</td>\n",
              "      <td>1.5</td>\n",
              "      <td>2000000</td>\n",
              "      <td>DT: 25.00 m²</td>\n",
              "      <td>Cho thuê phòng trọ mới sạch đẹp trang thiết bị...</td>\n",
              "      <td>8011</td>\n",
              "      <td>Trên 2 triệu</td>\n",
              "      <td>Trung Bình</td>\n",
              "    </tr>\n",
              "  </tbody>\n",
              "</table>\n",
              "</div>"
            ],
            "text/plain": [
              "   id_motels  ...    luotxem1\n",
              "0          0  ...     Rất tốt\n",
              "1          1  ...  Trung Bình\n",
              "2          2  ...         Khá\n",
              "3          3  ...         Khá\n",
              "4          4  ...  Trung Bình\n",
              "\n",
              "[5 rows x 11 columns]"
            ]
          },
          "metadata": {},
          "execution_count": 11
        }
      ]
    },
    {
      "cell_type": "code",
      "metadata": {
        "colab": {
          "base_uri": "https://localhost:8080/",
          "height": 542
        },
        "id": "5GZMKoLafVbm",
        "outputId": "555c7e0e-1ab3-4793-cd6d-f381a429fd30"
      },
      "source": [
        "#Phân bố lượt xem của các nhà trọ\n",
        "import plotly.graph_objects as go\n",
        "fig = go.Figure([go.Bar(x=df.luotxem1.value_counts().index, y=df.luotxem1.value_counts().tolist())])\n",
        "fig.update_layout(\n",
        "    title=\"Phân bố lượt xem của các nhà trọ\",\n",
        "    xaxis_title=\"Lượt xem\",\n",
        "    yaxis_title=\"Số lượng\")\n",
        "fig.show()"
      ],
      "execution_count": 12,
      "outputs": [
        {
          "output_type": "display_data",
          "data": {
            "text/html": [
              "<html>\n",
              "<head><meta charset=\"utf-8\" /></head>\n",
              "<body>\n",
              "    <div>\n",
              "            <script src=\"https://cdnjs.cloudflare.com/ajax/libs/mathjax/2.7.5/MathJax.js?config=TeX-AMS-MML_SVG\"></script><script type=\"text/javascript\">if (window.MathJax) {MathJax.Hub.Config({SVG: {font: \"STIX-Web\"}});}</script>\n",
              "                <script type=\"text/javascript\">window.PlotlyConfig = {MathJaxConfig: 'local'};</script>\n",
              "        <script src=\"https://cdn.plot.ly/plotly-latest.min.js\"></script>    \n",
              "            <div id=\"0195c806-8c13-436f-a1fd-841ea8db8ff2\" class=\"plotly-graph-div\" style=\"height:525px; width:100%;\"></div>\n",
              "            <script type=\"text/javascript\">\n",
              "                \n",
              "                    window.PLOTLYENV=window.PLOTLYENV || {};\n",
              "                    \n",
              "                if (document.getElementById(\"0195c806-8c13-436f-a1fd-841ea8db8ff2\")) {\n",
              "                    Plotly.newPlot(\n",
              "                        '0195c806-8c13-436f-a1fd-841ea8db8ff2',\n",
              "                        [{\"type\": \"bar\", \"x\": [\"Kh\\u00e1\", \"Th\\u1ea5p\", \"Trung B\\u00ecnh\", \"R\\u1ea5t t\\u1ed1t\", \"T\\u1ed1t\"], \"y\": [250, 50, 45, 35, 28]}],\n",
              "                        {\"template\": {\"data\": {\"bar\": [{\"error_x\": {\"color\": \"#2a3f5f\"}, \"error_y\": {\"color\": \"#2a3f5f\"}, \"marker\": {\"line\": {\"color\": \"#E5ECF6\", \"width\": 0.5}}, \"type\": \"bar\"}], \"barpolar\": [{\"marker\": {\"line\": {\"color\": \"#E5ECF6\", \"width\": 0.5}}, \"type\": \"barpolar\"}], \"carpet\": [{\"aaxis\": {\"endlinecolor\": \"#2a3f5f\", \"gridcolor\": \"white\", \"linecolor\": \"white\", \"minorgridcolor\": \"white\", \"startlinecolor\": \"#2a3f5f\"}, \"baxis\": {\"endlinecolor\": \"#2a3f5f\", \"gridcolor\": \"white\", \"linecolor\": \"white\", \"minorgridcolor\": \"white\", \"startlinecolor\": \"#2a3f5f\"}, \"type\": \"carpet\"}], \"choropleth\": [{\"colorbar\": {\"outlinewidth\": 0, \"ticks\": \"\"}, \"type\": \"choropleth\"}], \"contour\": [{\"colorbar\": {\"outlinewidth\": 0, \"ticks\": \"\"}, \"colorscale\": [[0.0, \"#0d0887\"], [0.1111111111111111, \"#46039f\"], [0.2222222222222222, \"#7201a8\"], [0.3333333333333333, \"#9c179e\"], [0.4444444444444444, \"#bd3786\"], [0.5555555555555556, \"#d8576b\"], [0.6666666666666666, \"#ed7953\"], [0.7777777777777778, \"#fb9f3a\"], [0.8888888888888888, \"#fdca26\"], [1.0, \"#f0f921\"]], \"type\": \"contour\"}], \"contourcarpet\": [{\"colorbar\": {\"outlinewidth\": 0, \"ticks\": \"\"}, \"type\": \"contourcarpet\"}], \"heatmap\": [{\"colorbar\": {\"outlinewidth\": 0, \"ticks\": \"\"}, \"colorscale\": [[0.0, \"#0d0887\"], [0.1111111111111111, \"#46039f\"], [0.2222222222222222, \"#7201a8\"], [0.3333333333333333, \"#9c179e\"], [0.4444444444444444, \"#bd3786\"], [0.5555555555555556, \"#d8576b\"], [0.6666666666666666, \"#ed7953\"], [0.7777777777777778, \"#fb9f3a\"], [0.8888888888888888, \"#fdca26\"], [1.0, \"#f0f921\"]], \"type\": \"heatmap\"}], \"heatmapgl\": [{\"colorbar\": {\"outlinewidth\": 0, \"ticks\": \"\"}, \"colorscale\": [[0.0, \"#0d0887\"], [0.1111111111111111, \"#46039f\"], [0.2222222222222222, \"#7201a8\"], [0.3333333333333333, \"#9c179e\"], [0.4444444444444444, \"#bd3786\"], [0.5555555555555556, \"#d8576b\"], [0.6666666666666666, \"#ed7953\"], [0.7777777777777778, \"#fb9f3a\"], [0.8888888888888888, \"#fdca26\"], [1.0, \"#f0f921\"]], \"type\": \"heatmapgl\"}], \"histogram\": [{\"marker\": {\"colorbar\": {\"outlinewidth\": 0, \"ticks\": \"\"}}, \"type\": \"histogram\"}], \"histogram2d\": [{\"colorbar\": {\"outlinewidth\": 0, \"ticks\": \"\"}, \"colorscale\": [[0.0, \"#0d0887\"], [0.1111111111111111, \"#46039f\"], [0.2222222222222222, \"#7201a8\"], [0.3333333333333333, \"#9c179e\"], [0.4444444444444444, \"#bd3786\"], [0.5555555555555556, \"#d8576b\"], [0.6666666666666666, \"#ed7953\"], [0.7777777777777778, \"#fb9f3a\"], [0.8888888888888888, \"#fdca26\"], [1.0, \"#f0f921\"]], \"type\": \"histogram2d\"}], \"histogram2dcontour\": [{\"colorbar\": {\"outlinewidth\": 0, \"ticks\": \"\"}, \"colorscale\": [[0.0, \"#0d0887\"], [0.1111111111111111, \"#46039f\"], [0.2222222222222222, \"#7201a8\"], [0.3333333333333333, \"#9c179e\"], [0.4444444444444444, \"#bd3786\"], [0.5555555555555556, \"#d8576b\"], [0.6666666666666666, \"#ed7953\"], [0.7777777777777778, \"#fb9f3a\"], [0.8888888888888888, \"#fdca26\"], [1.0, \"#f0f921\"]], \"type\": \"histogram2dcontour\"}], \"mesh3d\": [{\"colorbar\": {\"outlinewidth\": 0, \"ticks\": \"\"}, \"type\": \"mesh3d\"}], \"parcoords\": [{\"line\": {\"colorbar\": {\"outlinewidth\": 0, \"ticks\": \"\"}}, \"type\": \"parcoords\"}], \"pie\": [{\"automargin\": true, \"type\": \"pie\"}], \"scatter\": [{\"marker\": {\"colorbar\": {\"outlinewidth\": 0, \"ticks\": \"\"}}, \"type\": \"scatter\"}], \"scatter3d\": [{\"line\": {\"colorbar\": {\"outlinewidth\": 0, \"ticks\": \"\"}}, \"marker\": {\"colorbar\": {\"outlinewidth\": 0, \"ticks\": \"\"}}, \"type\": \"scatter3d\"}], \"scattercarpet\": [{\"marker\": {\"colorbar\": {\"outlinewidth\": 0, \"ticks\": \"\"}}, \"type\": \"scattercarpet\"}], \"scattergeo\": [{\"marker\": {\"colorbar\": {\"outlinewidth\": 0, \"ticks\": \"\"}}, \"type\": \"scattergeo\"}], \"scattergl\": [{\"marker\": {\"colorbar\": {\"outlinewidth\": 0, \"ticks\": \"\"}}, \"type\": \"scattergl\"}], \"scattermapbox\": [{\"marker\": {\"colorbar\": {\"outlinewidth\": 0, \"ticks\": \"\"}}, \"type\": \"scattermapbox\"}], \"scatterpolar\": [{\"marker\": {\"colorbar\": {\"outlinewidth\": 0, \"ticks\": \"\"}}, \"type\": \"scatterpolar\"}], \"scatterpolargl\": [{\"marker\": {\"colorbar\": {\"outlinewidth\": 0, \"ticks\": \"\"}}, \"type\": \"scatterpolargl\"}], \"scatterternary\": [{\"marker\": {\"colorbar\": {\"outlinewidth\": 0, \"ticks\": \"\"}}, \"type\": \"scatterternary\"}], \"surface\": [{\"colorbar\": {\"outlinewidth\": 0, \"ticks\": \"\"}, \"colorscale\": [[0.0, \"#0d0887\"], [0.1111111111111111, \"#46039f\"], [0.2222222222222222, \"#7201a8\"], [0.3333333333333333, \"#9c179e\"], [0.4444444444444444, \"#bd3786\"], [0.5555555555555556, \"#d8576b\"], [0.6666666666666666, \"#ed7953\"], [0.7777777777777778, \"#fb9f3a\"], [0.8888888888888888, \"#fdca26\"], [1.0, \"#f0f921\"]], \"type\": \"surface\"}], \"table\": [{\"cells\": {\"fill\": {\"color\": \"#EBF0F8\"}, \"line\": {\"color\": \"white\"}}, \"header\": {\"fill\": {\"color\": \"#C8D4E3\"}, \"line\": {\"color\": \"white\"}}, \"type\": \"table\"}]}, \"layout\": {\"annotationdefaults\": {\"arrowcolor\": \"#2a3f5f\", \"arrowhead\": 0, \"arrowwidth\": 1}, \"coloraxis\": {\"colorbar\": {\"outlinewidth\": 0, \"ticks\": \"\"}}, \"colorscale\": {\"diverging\": [[0, \"#8e0152\"], [0.1, \"#c51b7d\"], [0.2, \"#de77ae\"], [0.3, \"#f1b6da\"], [0.4, \"#fde0ef\"], [0.5, \"#f7f7f7\"], [0.6, \"#e6f5d0\"], [0.7, \"#b8e186\"], [0.8, \"#7fbc41\"], [0.9, \"#4d9221\"], [1, \"#276419\"]], \"sequential\": [[0.0, \"#0d0887\"], [0.1111111111111111, \"#46039f\"], [0.2222222222222222, \"#7201a8\"], [0.3333333333333333, \"#9c179e\"], [0.4444444444444444, \"#bd3786\"], [0.5555555555555556, \"#d8576b\"], [0.6666666666666666, \"#ed7953\"], [0.7777777777777778, \"#fb9f3a\"], [0.8888888888888888, \"#fdca26\"], [1.0, \"#f0f921\"]], \"sequentialminus\": [[0.0, \"#0d0887\"], [0.1111111111111111, \"#46039f\"], [0.2222222222222222, \"#7201a8\"], [0.3333333333333333, \"#9c179e\"], [0.4444444444444444, \"#bd3786\"], [0.5555555555555556, \"#d8576b\"], [0.6666666666666666, \"#ed7953\"], [0.7777777777777778, \"#fb9f3a\"], [0.8888888888888888, \"#fdca26\"], [1.0, \"#f0f921\"]]}, \"colorway\": [\"#636efa\", \"#EF553B\", \"#00cc96\", \"#ab63fa\", \"#FFA15A\", \"#19d3f3\", \"#FF6692\", \"#B6E880\", \"#FF97FF\", \"#FECB52\"], \"font\": {\"color\": \"#2a3f5f\"}, \"geo\": {\"bgcolor\": \"white\", \"lakecolor\": \"white\", \"landcolor\": \"#E5ECF6\", \"showlakes\": true, \"showland\": true, \"subunitcolor\": \"white\"}, \"hoverlabel\": {\"align\": \"left\"}, \"hovermode\": \"closest\", \"mapbox\": {\"style\": \"light\"}, \"paper_bgcolor\": \"white\", \"plot_bgcolor\": \"#E5ECF6\", \"polar\": {\"angularaxis\": {\"gridcolor\": \"white\", \"linecolor\": \"white\", \"ticks\": \"\"}, \"bgcolor\": \"#E5ECF6\", \"radialaxis\": {\"gridcolor\": \"white\", \"linecolor\": \"white\", \"ticks\": \"\"}}, \"scene\": {\"xaxis\": {\"backgroundcolor\": \"#E5ECF6\", \"gridcolor\": \"white\", \"gridwidth\": 2, \"linecolor\": \"white\", \"showbackground\": true, \"ticks\": \"\", \"zerolinecolor\": \"white\"}, \"yaxis\": {\"backgroundcolor\": \"#E5ECF6\", \"gridcolor\": \"white\", \"gridwidth\": 2, \"linecolor\": \"white\", \"showbackground\": true, \"ticks\": \"\", \"zerolinecolor\": \"white\"}, \"zaxis\": {\"backgroundcolor\": \"#E5ECF6\", \"gridcolor\": \"white\", \"gridwidth\": 2, \"linecolor\": \"white\", \"showbackground\": true, \"ticks\": \"\", \"zerolinecolor\": \"white\"}}, \"shapedefaults\": {\"line\": {\"color\": \"#2a3f5f\"}}, \"ternary\": {\"aaxis\": {\"gridcolor\": \"white\", \"linecolor\": \"white\", \"ticks\": \"\"}, \"baxis\": {\"gridcolor\": \"white\", \"linecolor\": \"white\", \"ticks\": \"\"}, \"bgcolor\": \"#E5ECF6\", \"caxis\": {\"gridcolor\": \"white\", \"linecolor\": \"white\", \"ticks\": \"\"}}, \"title\": {\"x\": 0.05}, \"xaxis\": {\"automargin\": true, \"gridcolor\": \"white\", \"linecolor\": \"white\", \"ticks\": \"\", \"title\": {\"standoff\": 15}, \"zerolinecolor\": \"white\", \"zerolinewidth\": 2}, \"yaxis\": {\"automargin\": true, \"gridcolor\": \"white\", \"linecolor\": \"white\", \"ticks\": \"\", \"title\": {\"standoff\": 15}, \"zerolinecolor\": \"white\", \"zerolinewidth\": 2}}}, \"title\": {\"text\": \"Ph\\u00e2n b\\u1ed1 l\\u01b0\\u1ee3t xem c\\u1ee7a c\\u00e1c nh\\u00e0 tr\\u1ecd\"}, \"xaxis\": {\"title\": {\"text\": \"L\\u01b0\\u1ee3t xem\"}}, \"yaxis\": {\"title\": {\"text\": \"S\\u1ed1 l\\u01b0\\u1ee3ng\"}}},\n",
              "                        {\"responsive\": true}\n",
              "                    ).then(function(){\n",
              "                            \n",
              "var gd = document.getElementById('0195c806-8c13-436f-a1fd-841ea8db8ff2');\n",
              "var x = new MutationObserver(function (mutations, observer) {{\n",
              "        var display = window.getComputedStyle(gd).display;\n",
              "        if (!display || display === 'none') {{\n",
              "            console.log([gd, 'removed!']);\n",
              "            Plotly.purge(gd);\n",
              "            observer.disconnect();\n",
              "        }}\n",
              "}});\n",
              "\n",
              "// Listen for the removal of the full notebook cells\n",
              "var notebookContainer = gd.closest('#notebook-container');\n",
              "if (notebookContainer) {{\n",
              "    x.observe(notebookContainer, {childList: true});\n",
              "}}\n",
              "\n",
              "// Listen for the clearing of the current output cell\n",
              "var outputEl = gd.closest('.output');\n",
              "if (outputEl) {{\n",
              "    x.observe(outputEl, {childList: true});\n",
              "}}\n",
              "\n",
              "                        })\n",
              "                };\n",
              "                \n",
              "            </script>\n",
              "        </div>\n",
              "</body>\n",
              "</html>"
            ]
          },
          "metadata": {}
        }
      ]
    },
    {
      "cell_type": "code",
      "metadata": {
        "id": "oY7uwG0cMrSY"
      },
      "source": [
        "#plt.figure(figsize=(16,4))\n",
        "#sns.countplot(x= df['luotxem1'])"
      ],
      "execution_count": null,
      "outputs": []
    },
    {
      "cell_type": "code",
      "metadata": {
        "colab": {
          "base_uri": "https://localhost:8080/",
          "height": 206
        },
        "id": "ZOMHw1bEU3it",
        "outputId": "1116664f-c2f3-4407-a3ea-be7c864884c1"
      },
      "source": [
        "df = pd.read_csv(\"datasets_reviews_motels.csv\")\n",
        "df.head(5)"
      ],
      "execution_count": 13,
      "outputs": [
        {
          "output_type": "execute_result",
          "data": {
            "text/html": [
              "<div>\n",
              "<style scoped>\n",
              "    .dataframe tbody tr th:only-of-type {\n",
              "        vertical-align: middle;\n",
              "    }\n",
              "\n",
              "    .dataframe tbody tr th {\n",
              "        vertical-align: top;\n",
              "    }\n",
              "\n",
              "    .dataframe thead th {\n",
              "        text-align: right;\n",
              "    }\n",
              "</style>\n",
              "<table border=\"1\" class=\"dataframe\">\n",
              "  <thead>\n",
              "    <tr style=\"text-align: right;\">\n",
              "      <th></th>\n",
              "      <th>id_user</th>\n",
              "      <th>id_motels</th>\n",
              "      <th>rating</th>\n",
              "      <th>views</th>\n",
              "    </tr>\n",
              "  </thead>\n",
              "  <tbody>\n",
              "    <tr>\n",
              "      <th>0</th>\n",
              "      <td>0</td>\n",
              "      <td>0</td>\n",
              "      <td>4</td>\n",
              "      <td>nhà trọ đẹp, chủ trọ tốt tính vui vẻ, an ninh ...</td>\n",
              "    </tr>\n",
              "    <tr>\n",
              "      <th>1</th>\n",
              "      <td>1</td>\n",
              "      <td>0</td>\n",
              "      <td>2</td>\n",
              "      <td>Vị trí Mặt tiền đường Trần Nam Phú (Lộ ngân hà...</td>\n",
              "    </tr>\n",
              "    <tr>\n",
              "      <th>2</th>\n",
              "      <td>2</td>\n",
              "      <td>0</td>\n",
              "      <td>3</td>\n",
              "      <td>nhà trọ toàn nữ. Nhà tui chứ đâu kkk</td>\n",
              "    </tr>\n",
              "    <tr>\n",
              "      <th>3</th>\n",
              "      <td>3</td>\n",
              "      <td>0</td>\n",
              "      <td>5</td>\n",
              "      <td>Thoáng mát. Giá bình dân</td>\n",
              "    </tr>\n",
              "    <tr>\n",
              "      <th>4</th>\n",
              "      <td>4</td>\n",
              "      <td>1</td>\n",
              "      <td>5</td>\n",
              "      <td>Nhà trọ sạch sẽ, an toàn giá cả hợp lí, với lạ...</td>\n",
              "    </tr>\n",
              "  </tbody>\n",
              "</table>\n",
              "</div>"
            ],
            "text/plain": [
              "   id_user  ...                                              views\n",
              "0        0  ...  nhà trọ đẹp, chủ trọ tốt tính vui vẻ, an ninh ...\n",
              "1        1  ...  Vị trí Mặt tiền đường Trần Nam Phú (Lộ ngân hà...\n",
              "2        2  ...               nhà trọ toàn nữ. Nhà tui chứ đâu kkk\n",
              "3        3  ...                           Thoáng mát. Giá bình dân\n",
              "4        4  ...  Nhà trọ sạch sẽ, an toàn giá cả hợp lí, với lạ...\n",
              "\n",
              "[5 rows x 4 columns]"
            ]
          },
          "metadata": {},
          "execution_count": 13
        }
      ]
    },
    {
      "cell_type": "code",
      "metadata": {
        "id": "g_8wx58RnEdo"
      },
      "source": [
        "sentiments = []\n",
        "for review in df['views']:\n",
        "    if TextBlob(review).sentiment.polarity < 0:\n",
        "        sentiments.append(\"Negative\")\n",
        "    if TextBlob(review).sentiment.polarity == 0:\n",
        "        sentiments.append(\"Neutral\")\n",
        "    if TextBlob(review).sentiment.polarity > 0:\n",
        "        sentiments.append(\"Positive\")\n",
        "df[\"Sentiment\"] = np.array(sentiments)"
      ],
      "execution_count": 14,
      "outputs": []
    },
    {
      "cell_type": "code",
      "metadata": {
        "colab": {
          "base_uri": "https://localhost:8080/",
          "height": 423
        },
        "id": "4T2pp0obnKgS",
        "outputId": "4da08d49-ce0b-4102-fb70-f25d8c7909d4"
      },
      "source": [
        "df"
      ],
      "execution_count": 15,
      "outputs": [
        {
          "output_type": "execute_result",
          "data": {
            "text/html": [
              "<div>\n",
              "<style scoped>\n",
              "    .dataframe tbody tr th:only-of-type {\n",
              "        vertical-align: middle;\n",
              "    }\n",
              "\n",
              "    .dataframe tbody tr th {\n",
              "        vertical-align: top;\n",
              "    }\n",
              "\n",
              "    .dataframe thead th {\n",
              "        text-align: right;\n",
              "    }\n",
              "</style>\n",
              "<table border=\"1\" class=\"dataframe\">\n",
              "  <thead>\n",
              "    <tr style=\"text-align: right;\">\n",
              "      <th></th>\n",
              "      <th>id_user</th>\n",
              "      <th>id_motels</th>\n",
              "      <th>rating</th>\n",
              "      <th>views</th>\n",
              "      <th>Sentiment</th>\n",
              "    </tr>\n",
              "  </thead>\n",
              "  <tbody>\n",
              "    <tr>\n",
              "      <th>0</th>\n",
              "      <td>0</td>\n",
              "      <td>0</td>\n",
              "      <td>4</td>\n",
              "      <td>nhà trọ đẹp, chủ trọ tốt tính vui vẻ, an ninh ...</td>\n",
              "      <td>Neutral</td>\n",
              "    </tr>\n",
              "    <tr>\n",
              "      <th>1</th>\n",
              "      <td>1</td>\n",
              "      <td>0</td>\n",
              "      <td>2</td>\n",
              "      <td>Vị trí Mặt tiền đường Trần Nam Phú (Lộ ngân hà...</td>\n",
              "      <td>Neutral</td>\n",
              "    </tr>\n",
              "    <tr>\n",
              "      <th>2</th>\n",
              "      <td>2</td>\n",
              "      <td>0</td>\n",
              "      <td>3</td>\n",
              "      <td>nhà trọ toàn nữ. Nhà tui chứ đâu kkk</td>\n",
              "      <td>Neutral</td>\n",
              "    </tr>\n",
              "    <tr>\n",
              "      <th>3</th>\n",
              "      <td>3</td>\n",
              "      <td>0</td>\n",
              "      <td>5</td>\n",
              "      <td>Thoáng mát. Giá bình dân</td>\n",
              "      <td>Neutral</td>\n",
              "    </tr>\n",
              "    <tr>\n",
              "      <th>4</th>\n",
              "      <td>4</td>\n",
              "      <td>1</td>\n",
              "      <td>5</td>\n",
              "      <td>Nhà trọ sạch sẽ, an toàn giá cả hợp lí, với lạ...</td>\n",
              "      <td>Positive</td>\n",
              "    </tr>\n",
              "    <tr>\n",
              "      <th>...</th>\n",
              "      <td>...</td>\n",
              "      <td>...</td>\n",
              "      <td>...</td>\n",
              "      <td>...</td>\n",
              "      <td>...</td>\n",
              "    </tr>\n",
              "    <tr>\n",
              "      <th>2440</th>\n",
              "      <td>318</td>\n",
              "      <td>403</td>\n",
              "      <td>3</td>\n",
              "      <td>Qua rộng, mát mẻ, chủ trọ hiền, tốt bụng ok hế...</td>\n",
              "      <td>Positive</td>\n",
              "    </tr>\n",
              "    <tr>\n",
              "      <th>2441</th>\n",
              "      <td>319</td>\n",
              "      <td>403</td>\n",
              "      <td>3</td>\n",
              "      <td>Nhà trọ sạch sẽ, an toàn giá cả hợp lí, với lạ...</td>\n",
              "      <td>Positive</td>\n",
              "    </tr>\n",
              "    <tr>\n",
              "      <th>2442</th>\n",
              "      <td>320</td>\n",
              "      <td>403</td>\n",
              "      <td>4</td>\n",
              "      <td>Nhà trọ hiện đại, sạch sẽ, an ninh, yên tĩnh, ...</td>\n",
              "      <td>Neutral</td>\n",
              "    </tr>\n",
              "    <tr>\n",
              "      <th>2443</th>\n",
              "      <td>321</td>\n",
              "      <td>403</td>\n",
              "      <td>3</td>\n",
              "      <td>Mọi thứ tuyệt vời. An ninh, sạch sẽ, thân thiệ...</td>\n",
              "      <td>Neutral</td>\n",
              "    </tr>\n",
              "    <tr>\n",
              "      <th>2444</th>\n",
              "      <td>322</td>\n",
              "      <td>403</td>\n",
              "      <td>5</td>\n",
              "      <td>Nhà trọ cũ rồi, ở được, an ninh, giới hạn giờ ...</td>\n",
              "      <td>Neutral</td>\n",
              "    </tr>\n",
              "  </tbody>\n",
              "</table>\n",
              "<p>2445 rows × 5 columns</p>\n",
              "</div>"
            ],
            "text/plain": [
              "      id_user  ...  Sentiment\n",
              "0           0  ...    Neutral\n",
              "1           1  ...    Neutral\n",
              "2           2  ...    Neutral\n",
              "3           3  ...    Neutral\n",
              "4           4  ...   Positive\n",
              "...       ...  ...        ...\n",
              "2440      318  ...   Positive\n",
              "2441      319  ...   Positive\n",
              "2442      320  ...    Neutral\n",
              "2443      321  ...    Neutral\n",
              "2444      322  ...    Neutral\n",
              "\n",
              "[2445 rows x 5 columns]"
            ]
          },
          "metadata": {},
          "execution_count": 15
        }
      ]
    },
    {
      "cell_type": "code",
      "metadata": {
        "colab": {
          "base_uri": "https://localhost:8080/"
        },
        "id": "9b3QSDYrZ2UA",
        "outputId": "b001d583-9d06-4b85-e865-d7fff4c39713"
      },
      "source": [
        "df['rating'].value_counts()"
      ],
      "execution_count": 16,
      "outputs": [
        {
          "output_type": "execute_result",
          "data": {
            "text/plain": [
              "5    1249\n",
              "4     645\n",
              "3     226\n",
              "2     180\n",
              "1     144\n",
              "0       1\n",
              "Name: rating, dtype: int64"
            ]
          },
          "metadata": {},
          "execution_count": 16
        }
      ]
    },
    {
      "cell_type": "code",
      "metadata": {
        "colab": {
          "base_uri": "https://localhost:8080/",
          "height": 369
        },
        "id": "rdoDmE9bnybj",
        "outputId": "ab7fb02e-c2f3-4e3d-c50c-37e00e563b4d"
      },
      "source": [
        "#Phân bố độ rating và giá trị tình cảm đánh giá\n",
        "plt.figure(figsize=(15,5))\n",
        "plt.subplot(1,2,1)\n",
        "x_axis,counts = np.unique(df['rating'],return_counts=True)\n",
        "plt.bar([str(i) for i in x_axis],counts)\n",
        "plt.title(\"Phân bố rating\")\n",
        "plt.xlabel(\"Rating\")\n",
        "plt.ylabel(\"Count\")\n",
        "\n",
        "plt.subplot(1,2,2)\n",
        "x_axis,counts = np.unique(df['Sentiment'],return_counts=True)\n",
        "plt.bar(x_axis,counts)\n",
        "plt.title(\"Phân bố Sentiment vs Counts\")\n",
        "plt.xlabel(\"Sentiment\")\n",
        "plt.ylabel(\"Count\")\n",
        "plt.tight_layout()"
      ],
      "execution_count": 17,
      "outputs": [
        {
          "output_type": "display_data",
          "data": {
            "image/png": "[encoded data removed]",
            "text/plain": [
              "<Figure size 1080x360 with 2 Axes>"
            ]
          },
          "metadata": {
            "needs_background": "light"
          }
        }
      ]
    },
    {
      "cell_type": "code",
      "metadata": {
        "colab": {
          "base_uri": "https://localhost:8080/",
          "height": 423
        },
        "id": "TONWWeXk0W4x",
        "outputId": "1f1d9fd3-2a7c-44e9-d517-5dc0a8d4c653"
      },
      "source": [
        "df['Word_count']= df['views'].map(lambda x: len(x.split()))\n",
        "df"
      ],
      "execution_count": 18,
      "outputs": [
        {
          "output_type": "execute_result",
          "data": {
            "text/html": [
              "<div>\n",
              "<style scoped>\n",
              "    .dataframe tbody tr th:only-of-type {\n",
              "        vertical-align: middle;\n",
              "    }\n",
              "\n",
              "    .dataframe tbody tr th {\n",
              "        vertical-align: top;\n",
              "    }\n",
              "\n",
              "    .dataframe thead th {\n",
              "        text-align: right;\n",
              "    }\n",
              "</style>\n",
              "<table border=\"1\" class=\"dataframe\">\n",
              "  <thead>\n",
              "    <tr style=\"text-align: right;\">\n",
              "      <th></th>\n",
              "      <th>id_user</th>\n",
              "      <th>id_motels</th>\n",
              "      <th>rating</th>\n",
              "      <th>views</th>\n",
              "      <th>Sentiment</th>\n",
              "      <th>Word_count</th>\n",
              "    </tr>\n",
              "  </thead>\n",
              "  <tbody>\n",
              "    <tr>\n",
              "      <th>0</th>\n",
              "      <td>0</td>\n",
              "      <td>0</td>\n",
              "      <td>4</td>\n",
              "      <td>nhà trọ đẹp, chủ trọ tốt tính vui vẻ, an ninh ...</td>\n",
              "      <td>Neutral</td>\n",
              "      <td>21</td>\n",
              "    </tr>\n",
              "    <tr>\n",
              "      <th>1</th>\n",
              "      <td>1</td>\n",
              "      <td>0</td>\n",
              "      <td>2</td>\n",
              "      <td>Vị trí Mặt tiền đường Trần Nam Phú (Lộ ngân hà...</td>\n",
              "      <td>Neutral</td>\n",
              "      <td>20</td>\n",
              "    </tr>\n",
              "    <tr>\n",
              "      <th>2</th>\n",
              "      <td>2</td>\n",
              "      <td>0</td>\n",
              "      <td>3</td>\n",
              "      <td>nhà trọ toàn nữ. Nhà tui chứ đâu kkk</td>\n",
              "      <td>Neutral</td>\n",
              "      <td>9</td>\n",
              "    </tr>\n",
              "    <tr>\n",
              "      <th>3</th>\n",
              "      <td>3</td>\n",
              "      <td>0</td>\n",
              "      <td>5</td>\n",
              "      <td>Thoáng mát. Giá bình dân</td>\n",
              "      <td>Neutral</td>\n",
              "      <td>5</td>\n",
              "    </tr>\n",
              "    <tr>\n",
              "      <th>4</th>\n",
              "      <td>4</td>\n",
              "      <td>1</td>\n",
              "      <td>5</td>\n",
              "      <td>Nhà trọ sạch sẽ, an toàn giá cả hợp lí, với lạ...</td>\n",
              "      <td>Positive</td>\n",
              "      <td>22</td>\n",
              "    </tr>\n",
              "    <tr>\n",
              "      <th>...</th>\n",
              "      <td>...</td>\n",
              "      <td>...</td>\n",
              "      <td>...</td>\n",
              "      <td>...</td>\n",
              "      <td>...</td>\n",
              "      <td>...</td>\n",
              "    </tr>\n",
              "    <tr>\n",
              "      <th>2440</th>\n",
              "      <td>318</td>\n",
              "      <td>403</td>\n",
              "      <td>3</td>\n",
              "      <td>Qua rộng, mát mẻ, chủ trọ hiền, tốt bụng ok hế...</td>\n",
              "      <td>Positive</td>\n",
              "      <td>40</td>\n",
              "    </tr>\n",
              "    <tr>\n",
              "      <th>2441</th>\n",
              "      <td>319</td>\n",
              "      <td>403</td>\n",
              "      <td>3</td>\n",
              "      <td>Nhà trọ sạch sẽ, an toàn giá cả hợp lí, với lạ...</td>\n",
              "      <td>Positive</td>\n",
              "      <td>38</td>\n",
              "    </tr>\n",
              "    <tr>\n",
              "      <th>2442</th>\n",
              "      <td>320</td>\n",
              "      <td>403</td>\n",
              "      <td>4</td>\n",
              "      <td>Nhà trọ hiện đại, sạch sẽ, an ninh, yên tĩnh, ...</td>\n",
              "      <td>Neutral</td>\n",
              "      <td>25</td>\n",
              "    </tr>\n",
              "    <tr>\n",
              "      <th>2443</th>\n",
              "      <td>321</td>\n",
              "      <td>403</td>\n",
              "      <td>3</td>\n",
              "      <td>Mọi thứ tuyệt vời. An ninh, sạch sẽ, thân thiệ...</td>\n",
              "      <td>Neutral</td>\n",
              "      <td>18</td>\n",
              "    </tr>\n",
              "    <tr>\n",
              "      <th>2444</th>\n",
              "      <td>322</td>\n",
              "      <td>403</td>\n",
              "      <td>5</td>\n",
              "      <td>Nhà trọ cũ rồi, ở được, an ninh, giới hạn giờ ...</td>\n",
              "      <td>Neutral</td>\n",
              "      <td>20</td>\n",
              "    </tr>\n",
              "  </tbody>\n",
              "</table>\n",
              "<p>2445 rows × 6 columns</p>\n",
              "</div>"
            ],
            "text/plain": [
              "      id_user  id_motels  ...  Sentiment Word_count\n",
              "0           0          0  ...    Neutral         21\n",
              "1           1          0  ...    Neutral         20\n",
              "2           2          0  ...    Neutral          9\n",
              "3           3          0  ...    Neutral          5\n",
              "4           4          1  ...   Positive         22\n",
              "...       ...        ...  ...        ...        ...\n",
              "2440      318        403  ...   Positive         40\n",
              "2441      319        403  ...   Positive         38\n",
              "2442      320        403  ...    Neutral         25\n",
              "2443      321        403  ...    Neutral         18\n",
              "2444      322        403  ...    Neutral         20\n",
              "\n",
              "[2445 rows x 6 columns]"
            ]
          },
          "metadata": {},
          "execution_count": 18
        }
      ]
    },
    {
      "cell_type": "code",
      "metadata": {
        "colab": {
          "base_uri": "https://localhost:8080/",
          "height": 296
        },
        "id": "yG6kAHST5qFD",
        "outputId": "ec09dcef-fc37-4fd5-e238-40939f0df00a"
      },
      "source": [
        "sns.lineplot(x='rating', data=df, y='Word_count')"
      ],
      "execution_count": 19,
      "outputs": [
        {
          "output_type": "execute_result",
          "data": {
            "text/plain": [
              "<matplotlib.axes._subplots.AxesSubplot at 0x7f744fd35850>"
            ]
          },
          "metadata": {},
          "execution_count": 19
        },
        {
          "output_type": "display_data",
          "data": {
            "image/png": "[encoded data removed]",
            "text/plain": [
              "<Figure size 432x288 with 1 Axes>"
            ]
          },
          "metadata": {
            "needs_background": "light"
          }
        }
      ]
    },
    {
      "cell_type": "code",
      "metadata": {
        "id": "wuGA5r7R6IM5"
      },
      "source": [
        "from textblob import TextBlob"
      ],
      "execution_count": 20,
      "outputs": []
    },
    {
      "cell_type": "code",
      "metadata": {
        "id": "6Pi_UhZ856ih"
      },
      "source": [
        "def polarity(text):\n",
        "    blob= TextBlob(text)\n",
        "    blob.sentiment\n",
        "    polarity= blob.sentiment.polarity\n",
        "    \n",
        "    return polarity\n",
        "\n",
        "def subjectivity(text):\n",
        "    blob= TextBlob(text)\n",
        "    blob.sentiment\n",
        "    subjectivity= blob.sentiment.subjectivity\n",
        "    \n",
        "    return subjectivity"
      ],
      "execution_count": 21,
      "outputs": []
    },
    {
      "cell_type": "code",
      "metadata": {
        "colab": {
          "base_uri": "https://localhost:8080/",
          "height": 423
        },
        "id": "9jeHrlVy6RVb",
        "outputId": "85a95431-0ba9-4ca3-e216-1a6ab4faf1c2"
      },
      "source": [
        "df['Polarity']= df['views'].apply(polarity)\n",
        "df['Subjectivity']= df['views'].apply(subjectivity)\n",
        "df"
      ],
      "execution_count": 22,
      "outputs": [
        {
          "output_type": "execute_result",
          "data": {
            "text/html": [
              "<div>\n",
              "<style scoped>\n",
              "    .dataframe tbody tr th:only-of-type {\n",
              "        vertical-align: middle;\n",
              "    }\n",
              "\n",
              "    .dataframe tbody tr th {\n",
              "        vertical-align: top;\n",
              "    }\n",
              "\n",
              "    .dataframe thead th {\n",
              "        text-align: right;\n",
              "    }\n",
              "</style>\n",
              "<table border=\"1\" class=\"dataframe\">\n",
              "  <thead>\n",
              "    <tr style=\"text-align: right;\">\n",
              "      <th></th>\n",
              "      <th>id_user</th>\n",
              "      <th>id_motels</th>\n",
              "      <th>rating</th>\n",
              "      <th>views</th>\n",
              "      <th>Sentiment</th>\n",
              "      <th>Word_count</th>\n",
              "      <th>Polarity</th>\n",
              "      <th>Subjectivity</th>\n",
              "    </tr>\n",
              "  </thead>\n",
              "  <tbody>\n",
              "    <tr>\n",
              "      <th>0</th>\n",
              "      <td>0</td>\n",
              "      <td>0</td>\n",
              "      <td>4</td>\n",
              "      <td>nhà trọ đẹp, chủ trọ tốt tính vui vẻ, an ninh ...</td>\n",
              "      <td>Neutral</td>\n",
              "      <td>21</td>\n",
              "      <td>0.0</td>\n",
              "      <td>0.0</td>\n",
              "    </tr>\n",
              "    <tr>\n",
              "      <th>1</th>\n",
              "      <td>1</td>\n",
              "      <td>0</td>\n",
              "      <td>2</td>\n",
              "      <td>Vị trí Mặt tiền đường Trần Nam Phú (Lộ ngân hà...</td>\n",
              "      <td>Neutral</td>\n",
              "      <td>20</td>\n",
              "      <td>0.0</td>\n",
              "      <td>0.0</td>\n",
              "    </tr>\n",
              "    <tr>\n",
              "      <th>2</th>\n",
              "      <td>2</td>\n",
              "      <td>0</td>\n",
              "      <td>3</td>\n",
              "      <td>nhà trọ toàn nữ. Nhà tui chứ đâu kkk</td>\n",
              "      <td>Neutral</td>\n",
              "      <td>9</td>\n",
              "      <td>0.0</td>\n",
              "      <td>0.0</td>\n",
              "    </tr>\n",
              "    <tr>\n",
              "      <th>3</th>\n",
              "      <td>3</td>\n",
              "      <td>0</td>\n",
              "      <td>5</td>\n",
              "      <td>Thoáng mát. Giá bình dân</td>\n",
              "      <td>Neutral</td>\n",
              "      <td>5</td>\n",
              "      <td>0.0</td>\n",
              "      <td>0.0</td>\n",
              "    </tr>\n",
              "    <tr>\n",
              "      <th>4</th>\n",
              "      <td>4</td>\n",
              "      <td>1</td>\n",
              "      <td>5</td>\n",
              "      <td>Nhà trọ sạch sẽ, an toàn giá cả hợp lí, với lạ...</td>\n",
              "      <td>Positive</td>\n",
              "      <td>22</td>\n",
              "      <td>0.5</td>\n",
              "      <td>1.0</td>\n",
              "    </tr>\n",
              "    <tr>\n",
              "      <th>...</th>\n",
              "      <td>...</td>\n",
              "      <td>...</td>\n",
              "      <td>...</td>\n",
              "      <td>...</td>\n",
              "      <td>...</td>\n",
              "      <td>...</td>\n",
              "      <td>...</td>\n",
              "      <td>...</td>\n",
              "    </tr>\n",
              "    <tr>\n",
              "      <th>2440</th>\n",
              "      <td>318</td>\n",
              "      <td>403</td>\n",
              "      <td>3</td>\n",
              "      <td>Qua rộng, mát mẻ, chủ trọ hiền, tốt bụng ok hế...</td>\n",
              "      <td>Positive</td>\n",
              "      <td>40</td>\n",
              "      <td>0.5</td>\n",
              "      <td>0.5</td>\n",
              "    </tr>\n",
              "    <tr>\n",
              "      <th>2441</th>\n",
              "      <td>319</td>\n",
              "      <td>403</td>\n",
              "      <td>3</td>\n",
              "      <td>Nhà trọ sạch sẽ, an toàn giá cả hợp lí, với lạ...</td>\n",
              "      <td>Positive</td>\n",
              "      <td>38</td>\n",
              "      <td>0.5</td>\n",
              "      <td>1.0</td>\n",
              "    </tr>\n",
              "    <tr>\n",
              "      <th>2442</th>\n",
              "      <td>320</td>\n",
              "      <td>403</td>\n",
              "      <td>4</td>\n",
              "      <td>Nhà trọ hiện đại, sạch sẽ, an ninh, yên tĩnh, ...</td>\n",
              "      <td>Neutral</td>\n",
              "      <td>25</td>\n",
              "      <td>0.0</td>\n",
              "      <td>0.0</td>\n",
              "    </tr>\n",
              "    <tr>\n",
              "      <th>2443</th>\n",
              "      <td>321</td>\n",
              "      <td>403</td>\n",
              "      <td>3</td>\n",
              "      <td>Mọi thứ tuyệt vời. An ninh, sạch sẽ, thân thiệ...</td>\n",
              "      <td>Neutral</td>\n",
              "      <td>18</td>\n",
              "      <td>0.0</td>\n",
              "      <td>0.0</td>\n",
              "    </tr>\n",
              "    <tr>\n",
              "      <th>2444</th>\n",
              "      <td>322</td>\n",
              "      <td>403</td>\n",
              "      <td>5</td>\n",
              "      <td>Nhà trọ cũ rồi, ở được, an ninh, giới hạn giờ ...</td>\n",
              "      <td>Neutral</td>\n",
              "      <td>20</td>\n",
              "      <td>0.0</td>\n",
              "      <td>0.0</td>\n",
              "    </tr>\n",
              "  </tbody>\n",
              "</table>\n",
              "<p>2445 rows × 8 columns</p>\n",
              "</div>"
            ],
            "text/plain": [
              "      id_user  id_motels  rating  ... Word_count Polarity  Subjectivity\n",
              "0           0          0       4  ...         21      0.0           0.0\n",
              "1           1          0       2  ...         20      0.0           0.0\n",
              "2           2          0       3  ...          9      0.0           0.0\n",
              "3           3          0       5  ...          5      0.0           0.0\n",
              "4           4          1       5  ...         22      0.5           1.0\n",
              "...       ...        ...     ...  ...        ...      ...           ...\n",
              "2440      318        403       3  ...         40      0.5           0.5\n",
              "2441      319        403       3  ...         38      0.5           1.0\n",
              "2442      320        403       4  ...         25      0.0           0.0\n",
              "2443      321        403       3  ...         18      0.0           0.0\n",
              "2444      322        403       5  ...         20      0.0           0.0\n",
              "\n",
              "[2445 rows x 8 columns]"
            ]
          },
          "metadata": {},
          "execution_count": 22
        }
      ]
    },
    {
      "cell_type": "code",
      "metadata": {
        "colab": {
          "base_uri": "https://localhost:8080/",
          "height": 386
        },
        "id": "oaKyba956TtT",
        "outputId": "6b3969b7-ed1e-44c5-e6fb-e28e2068d24c"
      },
      "source": [
        "sns.distplot(df['Polarity'])"
      ],
      "execution_count": 23,
      "outputs": [
        {
          "output_type": "stream",
          "name": "stderr",
          "text": [
            "/usr/local/lib/python3.7/dist-packages/seaborn/distributions.py:2619: FutureWarning:\n",
            "\n",
            "`distplot` is a deprecated function and will be removed in a future version. Please adapt your code to use either `displot` (a figure-level function with similar flexibility) or `histplot` (an axes-level function for histograms).\n",
            "\n"
          ]
        },
        {
          "output_type": "execute_result",
          "data": {
            "text/plain": [
              "<matplotlib.axes._subplots.AxesSubplot at 0x7f744fcf5cd0>"
            ]
          },
          "metadata": {},
          "execution_count": 23
        },
        {
          "output_type": "display_data",
          "data": {
            "image/png": "[encoded data removed]",
            "text/plain": [
              "<Figure size 432x288 with 1 Axes>"
            ]
          },
          "metadata": {
            "needs_background": "light"
          }
        }
      ]
    },
    {
      "cell_type": "code",
      "metadata": {
        "colab": {
          "base_uri": "https://localhost:8080/",
          "height": 386
        },
        "id": "pC2aXN936YJs",
        "outputId": "3b31468c-4737-4bb4-8c58-bb1ef858e0bc"
      },
      "source": [
        "sns.distplot(df['Subjectivity'])"
      ],
      "execution_count": 24,
      "outputs": [
        {
          "output_type": "stream",
          "name": "stderr",
          "text": [
            "/usr/local/lib/python3.7/dist-packages/seaborn/distributions.py:2619: FutureWarning:\n",
            "\n",
            "`distplot` is a deprecated function and will be removed in a future version. Please adapt your code to use either `displot` (a figure-level function with similar flexibility) or `histplot` (an axes-level function for histograms).\n",
            "\n"
          ]
        },
        {
          "output_type": "execute_result",
          "data": {
            "text/plain": [
              "<matplotlib.axes._subplots.AxesSubplot at 0x7f744fdbdb10>"
            ]
          },
          "metadata": {},
          "execution_count": 24
        },
        {
          "output_type": "display_data",
          "data": {
            "image/png": "[encoded data removed]",
            "text/plain": [
              "<Figure size 432x288 with 1 Axes>"
            ]
          },
          "metadata": {
            "needs_background": "light"
          }
        }
      ]
    },
    {
      "cell_type": "code",
      "metadata": {
        "colab": {
          "base_uri": "https://localhost:8080/",
          "height": 542
        },
        "id": "_B_g5DMlglEs",
        "outputId": "f7a1f32e-82e8-4adb-f545-2536e3e850b2"
      },
      "source": [
        "#Phân bố đánh giá ở lớp Polarity\n",
        "import plotly.graph_objects as go\n",
        "fig = go.Figure([go.Bar(x=df.rating.value_counts().index, y=df.Polarity.value_counts().tolist())])\n",
        "fig.update_layout(\n",
        "    title=\"Phân bố đánh giá ở lớp Polarity\",\n",
        "    xaxis_title=\"Đánh giá\",\n",
        "    yaxis_title=\"Số lượng\")\n",
        "fig.show()"
      ],
      "execution_count": 25,
      "outputs": [
        {
          "output_type": "display_data",
          "data": {
            "text/html": [
              "<html>\n",
              "<head><meta charset=\"utf-8\" /></head>\n",
              "<body>\n",
              "    <div>\n",
              "            <script src=\"https://cdnjs.cloudflare.com/ajax/libs/mathjax/2.7.5/MathJax.js?config=TeX-AMS-MML_SVG\"></script><script type=\"text/javascript\">if (window.MathJax) {MathJax.Hub.Config({SVG: {font: \"STIX-Web\"}});}</script>\n",
              "                <script type=\"text/javascript\">window.PlotlyConfig = {MathJaxConfig: 'local'};</script>\n",
              "        <script src=\"https://cdn.plot.ly/plotly-latest.min.js\"></script>    \n",
              "            <div id=\"0de71523-6c4a-421a-93f4-28ef011dcca1\" class=\"plotly-graph-div\" style=\"height:525px; width:100%;\"></div>\n",
              "            <script type=\"text/javascript\">\n",
              "                \n",
              "                    window.PLOTLYENV=window.PLOTLYENV || {};\n",
              "                    \n",
              "                if (document.getElementById(\"0de71523-6c4a-421a-93f4-28ef011dcca1\")) {\n",
              "                    Plotly.newPlot(\n",
              "                        '0de71523-6c4a-421a-93f4-28ef011dcca1',\n",
              "                        [{\"type\": \"bar\", \"x\": [5, 4, 3, 2, 1, 0], \"y\": [2178, 189, 35, 14, 12, 8, 5, 4]}],\n",
              "                        {\"template\": {\"data\": {\"bar\": [{\"error_x\": {\"color\": \"#2a3f5f\"}, \"error_y\": {\"color\": \"#2a3f5f\"}, \"marker\": {\"line\": {\"color\": \"#E5ECF6\", \"width\": 0.5}}, \"type\": \"bar\"}], \"barpolar\": [{\"marker\": {\"line\": {\"color\": \"#E5ECF6\", \"width\": 0.5}}, \"type\": \"barpolar\"}], \"carpet\": [{\"aaxis\": {\"endlinecolor\": \"#2a3f5f\", \"gridcolor\": \"white\", \"linecolor\": \"white\", \"minorgridcolor\": \"white\", \"startlinecolor\": \"#2a3f5f\"}, \"baxis\": {\"endlinecolor\": \"#2a3f5f\", \"gridcolor\": \"white\", \"linecolor\": \"white\", \"minorgridcolor\": \"white\", \"startlinecolor\": \"#2a3f5f\"}, \"type\": \"carpet\"}], \"choropleth\": [{\"colorbar\": {\"outlinewidth\": 0, \"ticks\": \"\"}, \"type\": \"choropleth\"}], \"contour\": [{\"colorbar\": {\"outlinewidth\": 0, \"ticks\": \"\"}, \"colorscale\": [[0.0, \"#0d0887\"], [0.1111111111111111, \"#46039f\"], [0.2222222222222222, \"#7201a8\"], [0.3333333333333333, \"#9c179e\"], [0.4444444444444444, \"#bd3786\"], [0.5555555555555556, \"#d8576b\"], [0.6666666666666666, \"#ed7953\"], [0.7777777777777778, \"#fb9f3a\"], [0.8888888888888888, \"#fdca26\"], [1.0, \"#f0f921\"]], \"type\": \"contour\"}], \"contourcarpet\": [{\"colorbar\": {\"outlinewidth\": 0, \"ticks\": \"\"}, \"type\": \"contourcarpet\"}], \"heatmap\": [{\"colorbar\": {\"outlinewidth\": 0, \"ticks\": \"\"}, \"colorscale\": [[0.0, \"#0d0887\"], [0.1111111111111111, \"#46039f\"], [0.2222222222222222, \"#7201a8\"], [0.3333333333333333, \"#9c179e\"], [0.4444444444444444, \"#bd3786\"], [0.5555555555555556, \"#d8576b\"], [0.6666666666666666, \"#ed7953\"], [0.7777777777777778, \"#fb9f3a\"], [0.8888888888888888, \"#fdca26\"], [1.0, \"#f0f921\"]], \"type\": \"heatmap\"}], \"heatmapgl\": [{\"colorbar\": {\"outlinewidth\": 0, \"ticks\": \"\"}, \"colorscale\": [[0.0, \"#0d0887\"], [0.1111111111111111, \"#46039f\"], [0.2222222222222222, \"#7201a8\"], [0.3333333333333333, \"#9c179e\"], [0.4444444444444444, \"#bd3786\"], [0.5555555555555556, \"#d8576b\"], [0.6666666666666666, \"#ed7953\"], [0.7777777777777778, \"#fb9f3a\"], [0.8888888888888888, \"#fdca26\"], [1.0, \"#f0f921\"]], \"type\": \"heatmapgl\"}], \"histogram\": [{\"marker\": {\"colorbar\": {\"outlinewidth\": 0, \"ticks\": \"\"}}, \"type\": \"histogram\"}], \"histogram2d\": [{\"colorbar\": {\"outlinewidth\": 0, \"ticks\": \"\"}, \"colorscale\": [[0.0, \"#0d0887\"], [0.1111111111111111, \"#46039f\"], [0.2222222222222222, \"#7201a8\"], [0.3333333333333333, \"#9c179e\"], [0.4444444444444444, \"#bd3786\"], [0.5555555555555556, \"#d8576b\"], [0.6666666666666666, \"#ed7953\"], [0.7777777777777778, \"#fb9f3a\"], [0.8888888888888888, \"#fdca26\"], [1.0, \"#f0f921\"]], \"type\": \"histogram2d\"}], \"histogram2dcontour\": [{\"colorbar\": {\"outlinewidth\": 0, \"ticks\": \"\"}, \"colorscale\": [[0.0, \"#0d0887\"], [0.1111111111111111, \"#46039f\"], [0.2222222222222222, \"#7201a8\"], [0.3333333333333333, \"#9c179e\"], [0.4444444444444444, \"#bd3786\"], [0.5555555555555556, \"#d8576b\"], [0.6666666666666666, \"#ed7953\"], [0.7777777777777778, \"#fb9f3a\"], [0.8888888888888888, \"#fdca26\"], [1.0, \"#f0f921\"]], \"type\": \"histogram2dcontour\"}], \"mesh3d\": [{\"colorbar\": {\"outlinewidth\": 0, \"ticks\": \"\"}, \"type\": \"mesh3d\"}], \"parcoords\": [{\"line\": {\"colorbar\": {\"outlinewidth\": 0, \"ticks\": \"\"}}, \"type\": \"parcoords\"}], \"pie\": [{\"automargin\": true, \"type\": \"pie\"}], \"scatter\": [{\"marker\": {\"colorbar\": {\"outlinewidth\": 0, \"ticks\": \"\"}}, \"type\": \"scatter\"}], \"scatter3d\": [{\"line\": {\"colorbar\": {\"outlinewidth\": 0, \"ticks\": \"\"}}, \"marker\": {\"colorbar\": {\"outlinewidth\": 0, \"ticks\": \"\"}}, \"type\": \"scatter3d\"}], \"scattercarpet\": [{\"marker\": {\"colorbar\": {\"outlinewidth\": 0, \"ticks\": \"\"}}, \"type\": \"scattercarpet\"}], \"scattergeo\": [{\"marker\": {\"colorbar\": {\"outlinewidth\": 0, \"ticks\": \"\"}}, \"type\": \"scattergeo\"}], \"scattergl\": [{\"marker\": {\"colorbar\": {\"outlinewidth\": 0, \"ticks\": \"\"}}, \"type\": \"scattergl\"}], \"scattermapbox\": [{\"marker\": {\"colorbar\": {\"outlinewidth\": 0, \"ticks\": \"\"}}, \"type\": \"scattermapbox\"}], \"scatterpolar\": [{\"marker\": {\"colorbar\": {\"outlinewidth\": 0, \"ticks\": \"\"}}, \"type\": \"scatterpolar\"}], \"scatterpolargl\": [{\"marker\": {\"colorbar\": {\"outlinewidth\": 0, \"ticks\": \"\"}}, \"type\": \"scatterpolargl\"}], \"scatterternary\": [{\"marker\": {\"colorbar\": {\"outlinewidth\": 0, \"ticks\": \"\"}}, \"type\": \"scatterternary\"}], \"surface\": [{\"colorbar\": {\"outlinewidth\": 0, \"ticks\": \"\"}, \"colorscale\": [[0.0, \"#0d0887\"], [0.1111111111111111, \"#46039f\"], [0.2222222222222222, \"#7201a8\"], [0.3333333333333333, \"#9c179e\"], [0.4444444444444444, \"#bd3786\"], [0.5555555555555556, \"#d8576b\"], [0.6666666666666666, \"#ed7953\"], [0.7777777777777778, \"#fb9f3a\"], [0.8888888888888888, \"#fdca26\"], [1.0, \"#f0f921\"]], \"type\": \"surface\"}], \"table\": [{\"cells\": {\"fill\": {\"color\": \"#EBF0F8\"}, \"line\": {\"color\": \"white\"}}, \"header\": {\"fill\": {\"color\": \"#C8D4E3\"}, \"line\": {\"color\": \"white\"}}, \"type\": \"table\"}]}, \"layout\": {\"annotationdefaults\": {\"arrowcolor\": \"#2a3f5f\", \"arrowhead\": 0, \"arrowwidth\": 1}, \"coloraxis\": {\"colorbar\": {\"outlinewidth\": 0, \"ticks\": \"\"}}, \"colorscale\": {\"diverging\": [[0, \"#8e0152\"], [0.1, \"#c51b7d\"], [0.2, \"#de77ae\"], [0.3, \"#f1b6da\"], [0.4, \"#fde0ef\"], [0.5, \"#f7f7f7\"], [0.6, \"#e6f5d0\"], [0.7, \"#b8e186\"], [0.8, \"#7fbc41\"], [0.9, \"#4d9221\"], [1, \"#276419\"]], \"sequential\": [[0.0, \"#0d0887\"], [0.1111111111111111, \"#46039f\"], [0.2222222222222222, \"#7201a8\"], [0.3333333333333333, \"#9c179e\"], [0.4444444444444444, \"#bd3786\"], [0.5555555555555556, \"#d8576b\"], [0.6666666666666666, \"#ed7953\"], [0.7777777777777778, \"#fb9f3a\"], [0.8888888888888888, \"#fdca26\"], [1.0, \"#f0f921\"]], \"sequentialminus\": [[0.0, \"#0d0887\"], [0.1111111111111111, \"#46039f\"], [0.2222222222222222, \"#7201a8\"], [0.3333333333333333, \"#9c179e\"], [0.4444444444444444, \"#bd3786\"], [0.5555555555555556, \"#d8576b\"], [0.6666666666666666, \"#ed7953\"], [0.7777777777777778, \"#fb9f3a\"], [0.8888888888888888, \"#fdca26\"], [1.0, \"#f0f921\"]]}, \"colorway\": [\"#636efa\", \"#EF553B\", \"#00cc96\", \"#ab63fa\", \"#FFA15A\", \"#19d3f3\", \"#FF6692\", \"#B6E880\", \"#FF97FF\", \"#FECB52\"], \"font\": {\"color\": \"#2a3f5f\"}, \"geo\": {\"bgcolor\": \"white\", \"lakecolor\": \"white\", \"landcolor\": \"#E5ECF6\", \"showlakes\": true, \"showland\": true, \"subunitcolor\": \"white\"}, \"hoverlabel\": {\"align\": \"left\"}, \"hovermode\": \"closest\", \"mapbox\": {\"style\": \"light\"}, \"paper_bgcolor\": \"white\", \"plot_bgcolor\": \"#E5ECF6\", \"polar\": {\"angularaxis\": {\"gridcolor\": \"white\", \"linecolor\": \"white\", \"ticks\": \"\"}, \"bgcolor\": \"#E5ECF6\", \"radialaxis\": {\"gridcolor\": \"white\", \"linecolor\": \"white\", \"ticks\": \"\"}}, \"scene\": {\"xaxis\": {\"backgroundcolor\": \"#E5ECF6\", \"gridcolor\": \"white\", \"gridwidth\": 2, \"linecolor\": \"white\", \"showbackground\": true, \"ticks\": \"\", \"zerolinecolor\": \"white\"}, \"yaxis\": {\"backgroundcolor\": \"#E5ECF6\", \"gridcolor\": \"white\", \"gridwidth\": 2, \"linecolor\": \"white\", \"showbackground\": true, \"ticks\": \"\", \"zerolinecolor\": \"white\"}, \"zaxis\": {\"backgroundcolor\": \"#E5ECF6\", \"gridcolor\": \"white\", \"gridwidth\": 2, \"linecolor\": \"white\", \"showbackground\": true, \"ticks\": \"\", \"zerolinecolor\": \"white\"}}, \"shapedefaults\": {\"line\": {\"color\": \"#2a3f5f\"}}, \"ternary\": {\"aaxis\": {\"gridcolor\": \"white\", \"linecolor\": \"white\", \"ticks\": \"\"}, \"baxis\": {\"gridcolor\": \"white\", \"linecolor\": \"white\", \"ticks\": \"\"}, \"bgcolor\": \"#E5ECF6\", \"caxis\": {\"gridcolor\": \"white\", \"linecolor\": \"white\", \"ticks\": \"\"}}, \"title\": {\"x\": 0.05}, \"xaxis\": {\"automargin\": true, \"gridcolor\": \"white\", \"linecolor\": \"white\", \"ticks\": \"\", \"title\": {\"standoff\": 15}, \"zerolinecolor\": \"white\", \"zerolinewidth\": 2}, \"yaxis\": {\"automargin\": true, \"gridcolor\": \"white\", \"linecolor\": \"white\", \"ticks\": \"\", \"title\": {\"standoff\": 15}, \"zerolinecolor\": \"white\", \"zerolinewidth\": 2}}}, \"title\": {\"text\": \"Ph\\u00e2n b\\u1ed1 \\u0111\\u00e1nh gi\\u00e1 \\u1edf l\\u1edbp Polarity\"}, \"xaxis\": {\"title\": {\"text\": \"\\u0110\\u00e1nh gi\\u00e1\"}}, \"yaxis\": {\"title\": {\"text\": \"S\\u1ed1 l\\u01b0\\u1ee3ng\"}}},\n",
              "                        {\"responsive\": true}\n",
              "                    ).then(function(){\n",
              "                            \n",
              "var gd = document.getElementById('0de71523-6c4a-421a-93f4-28ef011dcca1');\n",
              "var x = new MutationObserver(function (mutations, observer) {{\n",
              "        var display = window.getComputedStyle(gd).display;\n",
              "        if (!display || display === 'none') {{\n",
              "            console.log([gd, 'removed!']);\n",
              "            Plotly.purge(gd);\n",
              "            observer.disconnect();\n",
              "        }}\n",
              "}});\n",
              "\n",
              "// Listen for the removal of the full notebook cells\n",
              "var notebookContainer = gd.closest('#notebook-container');\n",
              "if (notebookContainer) {{\n",
              "    x.observe(notebookContainer, {childList: true});\n",
              "}}\n",
              "\n",
              "// Listen for the clearing of the current output cell\n",
              "var outputEl = gd.closest('.output');\n",
              "if (outputEl) {{\n",
              "    x.observe(outputEl, {childList: true});\n",
              "}}\n",
              "\n",
              "                        })\n",
              "                };\n",
              "                \n",
              "            </script>\n",
              "        </div>\n",
              "</body>\n",
              "</html>"
            ]
          },
          "metadata": {}
        }
      ]
    },
    {
      "cell_type": "code",
      "metadata": {
        "id": "pQ_Ei7CD6rJW"
      },
      "source": [
        "#sns.boxplot(x='rating',y='Polarity', data=df, whis=2.5, fliersize= 5)\n"
      ],
      "execution_count": null,
      "outputs": []
    },
    {
      "cell_type": "code",
      "metadata": {
        "colab": {
          "base_uri": "https://localhost:8080/",
          "height": 542
        },
        "id": "DMv0kuDwil9C",
        "outputId": "afbea45e-b982-4c5b-d117-8c15c4f8ff66"
      },
      "source": [
        "#Phân bố đánh giá ở lớp Subjectivity\n",
        "import plotly.graph_objects as go\n",
        "fig = go.Figure([go.Bar(x=df.rating.value_counts().index, y=df.Subjectivity.value_counts().tolist())])\n",
        "fig.update_layout(\n",
        "    title=\"Phân bố đánh giá ở lớp Subjectivity\",\n",
        "    xaxis_title=\"Đánh giá\",\n",
        "    yaxis_title=\"Số lượng\")\n",
        "fig.show()"
      ],
      "execution_count": 26,
      "outputs": [
        {
          "output_type": "display_data",
          "data": {
            "text/html": [
              "<html>\n",
              "<head><meta charset=\"utf-8\" /></head>\n",
              "<body>\n",
              "    <div>\n",
              "            <script src=\"https://cdnjs.cloudflare.com/ajax/libs/mathjax/2.7.5/MathJax.js?config=TeX-AMS-MML_SVG\"></script><script type=\"text/javascript\">if (window.MathJax) {MathJax.Hub.Config({SVG: {font: \"STIX-Web\"}});}</script>\n",
              "                <script type=\"text/javascript\">window.PlotlyConfig = {MathJaxConfig: 'local'};</script>\n",
              "        <script src=\"https://cdn.plot.ly/plotly-latest.min.js\"></script>    \n",
              "            <div id=\"d65e1336-ec19-4e2f-a562-432fa343e145\" class=\"plotly-graph-div\" style=\"height:525px; width:100%;\"></div>\n",
              "            <script type=\"text/javascript\">\n",
              "                \n",
              "                    window.PLOTLYENV=window.PLOTLYENV || {};\n",
              "                    \n",
              "                if (document.getElementById(\"d65e1336-ec19-4e2f-a562-432fa343e145\")) {\n",
              "                    Plotly.newPlot(\n",
              "                        'd65e1336-ec19-4e2f-a562-432fa343e145',\n",
              "                        [{\"type\": \"bar\", \"x\": [5, 4, 3, 2, 1, 0], \"y\": [2183, 133, 68, 35, 14, 12]}],\n",
              "                        {\"template\": {\"data\": {\"bar\": [{\"error_x\": {\"color\": \"#2a3f5f\"}, \"error_y\": {\"color\": \"#2a3f5f\"}, \"marker\": {\"line\": {\"color\": \"#E5ECF6\", \"width\": 0.5}}, \"type\": \"bar\"}], \"barpolar\": [{\"marker\": {\"line\": {\"color\": \"#E5ECF6\", \"width\": 0.5}}, \"type\": \"barpolar\"}], \"carpet\": [{\"aaxis\": {\"endlinecolor\": \"#2a3f5f\", \"gridcolor\": \"white\", \"linecolor\": \"white\", \"minorgridcolor\": \"white\", \"startlinecolor\": \"#2a3f5f\"}, \"baxis\": {\"endlinecolor\": \"#2a3f5f\", \"gridcolor\": \"white\", \"linecolor\": \"white\", \"minorgridcolor\": \"white\", \"startlinecolor\": \"#2a3f5f\"}, \"type\": \"carpet\"}], \"choropleth\": [{\"colorbar\": {\"outlinewidth\": 0, \"ticks\": \"\"}, \"type\": \"choropleth\"}], \"contour\": [{\"colorbar\": {\"outlinewidth\": 0, \"ticks\": \"\"}, \"colorscale\": [[0.0, \"#0d0887\"], [0.1111111111111111, \"#46039f\"], [0.2222222222222222, \"#7201a8\"], [0.3333333333333333, \"#9c179e\"], [0.4444444444444444, \"#bd3786\"], [0.5555555555555556, \"#d8576b\"], [0.6666666666666666, \"#ed7953\"], [0.7777777777777778, \"#fb9f3a\"], [0.8888888888888888, \"#fdca26\"], [1.0, \"#f0f921\"]], \"type\": \"contour\"}], \"contourcarpet\": [{\"colorbar\": {\"outlinewidth\": 0, \"ticks\": \"\"}, \"type\": \"contourcarpet\"}], \"heatmap\": [{\"colorbar\": {\"outlinewidth\": 0, \"ticks\": \"\"}, \"colorscale\": [[0.0, \"#0d0887\"], [0.1111111111111111, \"#46039f\"], [0.2222222222222222, \"#7201a8\"], [0.3333333333333333, \"#9c179e\"], [0.4444444444444444, \"#bd3786\"], [0.5555555555555556, \"#d8576b\"], [0.6666666666666666, \"#ed7953\"], [0.7777777777777778, \"#fb9f3a\"], [0.8888888888888888, \"#fdca26\"], [1.0, \"#f0f921\"]], \"type\": \"heatmap\"}], \"heatmapgl\": [{\"colorbar\": {\"outlinewidth\": 0, \"ticks\": \"\"}, \"colorscale\": [[0.0, \"#0d0887\"], [0.1111111111111111, \"#46039f\"], [0.2222222222222222, \"#7201a8\"], [0.3333333333333333, \"#9c179e\"], [0.4444444444444444, \"#bd3786\"], [0.5555555555555556, \"#d8576b\"], [0.6666666666666666, \"#ed7953\"], [0.7777777777777778, \"#fb9f3a\"], [0.8888888888888888, \"#fdca26\"], [1.0, \"#f0f921\"]], \"type\": \"heatmapgl\"}], \"histogram\": [{\"marker\": {\"colorbar\": {\"outlinewidth\": 0, \"ticks\": \"\"}}, \"type\": \"histogram\"}], \"histogram2d\": [{\"colorbar\": {\"outlinewidth\": 0, \"ticks\": \"\"}, \"colorscale\": [[0.0, \"#0d0887\"], [0.1111111111111111, \"#46039f\"], [0.2222222222222222, \"#7201a8\"], [0.3333333333333333, \"#9c179e\"], [0.4444444444444444, \"#bd3786\"], [0.5555555555555556, \"#d8576b\"], [0.6666666666666666, \"#ed7953\"], [0.7777777777777778, \"#fb9f3a\"], [0.8888888888888888, \"#fdca26\"], [1.0, \"#f0f921\"]], \"type\": \"histogram2d\"}], \"histogram2dcontour\": [{\"colorbar\": {\"outlinewidth\": 0, \"ticks\": \"\"}, \"colorscale\": [[0.0, \"#0d0887\"], [0.1111111111111111, \"#46039f\"], [0.2222222222222222, \"#7201a8\"], [0.3333333333333333, \"#9c179e\"], [0.4444444444444444, \"#bd3786\"], [0.5555555555555556, \"#d8576b\"], [0.6666666666666666, \"#ed7953\"], [0.7777777777777778, \"#fb9f3a\"], [0.8888888888888888, \"#fdca26\"], [1.0, \"#f0f921\"]], \"type\": \"histogram2dcontour\"}], \"mesh3d\": [{\"colorbar\": {\"outlinewidth\": 0, \"ticks\": \"\"}, \"type\": \"mesh3d\"}], \"parcoords\": [{\"line\": {\"colorbar\": {\"outlinewidth\": 0, \"ticks\": \"\"}}, \"type\": \"parcoords\"}], \"pie\": [{\"automargin\": true, \"type\": \"pie\"}], \"scatter\": [{\"marker\": {\"colorbar\": {\"outlinewidth\": 0, \"ticks\": \"\"}}, \"type\": \"scatter\"}], \"scatter3d\": [{\"line\": {\"colorbar\": {\"outlinewidth\": 0, \"ticks\": \"\"}}, \"marker\": {\"colorbar\": {\"outlinewidth\": 0, \"ticks\": \"\"}}, \"type\": \"scatter3d\"}], \"scattercarpet\": [{\"marker\": {\"colorbar\": {\"outlinewidth\": 0, \"ticks\": \"\"}}, \"type\": \"scattercarpet\"}], \"scattergeo\": [{\"marker\": {\"colorbar\": {\"outlinewidth\": 0, \"ticks\": \"\"}}, \"type\": \"scattergeo\"}], \"scattergl\": [{\"marker\": {\"colorbar\": {\"outlinewidth\": 0, \"ticks\": \"\"}}, \"type\": \"scattergl\"}], \"scattermapbox\": [{\"marker\": {\"colorbar\": {\"outlinewidth\": 0, \"ticks\": \"\"}}, \"type\": \"scattermapbox\"}], \"scatterpolar\": [{\"marker\": {\"colorbar\": {\"outlinewidth\": 0, \"ticks\": \"\"}}, \"type\": \"scatterpolar\"}], \"scatterpolargl\": [{\"marker\": {\"colorbar\": {\"outlinewidth\": 0, \"ticks\": \"\"}}, \"type\": \"scatterpolargl\"}], \"scatterternary\": [{\"marker\": {\"colorbar\": {\"outlinewidth\": 0, \"ticks\": \"\"}}, \"type\": \"scatterternary\"}], \"surface\": [{\"colorbar\": {\"outlinewidth\": 0, \"ticks\": \"\"}, \"colorscale\": [[0.0, \"#0d0887\"], [0.1111111111111111, \"#46039f\"], [0.2222222222222222, \"#7201a8\"], [0.3333333333333333, \"#9c179e\"], [0.4444444444444444, \"#bd3786\"], [0.5555555555555556, \"#d8576b\"], [0.6666666666666666, \"#ed7953\"], [0.7777777777777778, \"#fb9f3a\"], [0.8888888888888888, \"#fdca26\"], [1.0, \"#f0f921\"]], \"type\": \"surface\"}], \"table\": [{\"cells\": {\"fill\": {\"color\": \"#EBF0F8\"}, \"line\": {\"color\": \"white\"}}, \"header\": {\"fill\": {\"color\": \"#C8D4E3\"}, \"line\": {\"color\": \"white\"}}, \"type\": \"table\"}]}, \"layout\": {\"annotationdefaults\": {\"arrowcolor\": \"#2a3f5f\", \"arrowhead\": 0, \"arrowwidth\": 1}, \"coloraxis\": {\"colorbar\": {\"outlinewidth\": 0, \"ticks\": \"\"}}, \"colorscale\": {\"diverging\": [[0, \"#8e0152\"], [0.1, \"#c51b7d\"], [0.2, \"#de77ae\"], [0.3, \"#f1b6da\"], [0.4, \"#fde0ef\"], [0.5, \"#f7f7f7\"], [0.6, \"#e6f5d0\"], [0.7, \"#b8e186\"], [0.8, \"#7fbc41\"], [0.9, \"#4d9221\"], [1, \"#276419\"]], \"sequential\": [[0.0, \"#0d0887\"], [0.1111111111111111, \"#46039f\"], [0.2222222222222222, \"#7201a8\"], [0.3333333333333333, \"#9c179e\"], [0.4444444444444444, \"#bd3786\"], [0.5555555555555556, \"#d8576b\"], [0.6666666666666666, \"#ed7953\"], [0.7777777777777778, \"#fb9f3a\"], [0.8888888888888888, \"#fdca26\"], [1.0, \"#f0f921\"]], \"sequentialminus\": [[0.0, \"#0d0887\"], [0.1111111111111111, \"#46039f\"], [0.2222222222222222, \"#7201a8\"], [0.3333333333333333, \"#9c179e\"], [0.4444444444444444, \"#bd3786\"], [0.5555555555555556, \"#d8576b\"], [0.6666666666666666, \"#ed7953\"], [0.7777777777777778, \"#fb9f3a\"], [0.8888888888888888, \"#fdca26\"], [1.0, \"#f0f921\"]]}, \"colorway\": [\"#636efa\", \"#EF553B\", \"#00cc96\", \"#ab63fa\", \"#FFA15A\", \"#19d3f3\", \"#FF6692\", \"#B6E880\", \"#FF97FF\", \"#FECB52\"], \"font\": {\"color\": \"#2a3f5f\"}, \"geo\": {\"bgcolor\": \"white\", \"lakecolor\": \"white\", \"landcolor\": \"#E5ECF6\", \"showlakes\": true, \"showland\": true, \"subunitcolor\": \"white\"}, \"hoverlabel\": {\"align\": \"left\"}, \"hovermode\": \"closest\", \"mapbox\": {\"style\": \"light\"}, \"paper_bgcolor\": \"white\", \"plot_bgcolor\": \"#E5ECF6\", \"polar\": {\"angularaxis\": {\"gridcolor\": \"white\", \"linecolor\": \"white\", \"ticks\": \"\"}, \"bgcolor\": \"#E5ECF6\", \"radialaxis\": {\"gridcolor\": \"white\", \"linecolor\": \"white\", \"ticks\": \"\"}}, \"scene\": {\"xaxis\": {\"backgroundcolor\": \"#E5ECF6\", \"gridcolor\": \"white\", \"gridwidth\": 2, \"linecolor\": \"white\", \"showbackground\": true, \"ticks\": \"\", \"zerolinecolor\": \"white\"}, \"yaxis\": {\"backgroundcolor\": \"#E5ECF6\", \"gridcolor\": \"white\", \"gridwidth\": 2, \"linecolor\": \"white\", \"showbackground\": true, \"ticks\": \"\", \"zerolinecolor\": \"white\"}, \"zaxis\": {\"backgroundcolor\": \"#E5ECF6\", \"gridcolor\": \"white\", \"gridwidth\": 2, \"linecolor\": \"white\", \"showbackground\": true, \"ticks\": \"\", \"zerolinecolor\": \"white\"}}, \"shapedefaults\": {\"line\": {\"color\": \"#2a3f5f\"}}, \"ternary\": {\"aaxis\": {\"gridcolor\": \"white\", \"linecolor\": \"white\", \"ticks\": \"\"}, \"baxis\": {\"gridcolor\": \"white\", \"linecolor\": \"white\", \"ticks\": \"\"}, \"bgcolor\": \"#E5ECF6\", \"caxis\": {\"gridcolor\": \"white\", \"linecolor\": \"white\", \"ticks\": \"\"}}, \"title\": {\"x\": 0.05}, \"xaxis\": {\"automargin\": true, \"gridcolor\": \"white\", \"linecolor\": \"white\", \"ticks\": \"\", \"title\": {\"standoff\": 15}, \"zerolinecolor\": \"white\", \"zerolinewidth\": 2}, \"yaxis\": {\"automargin\": true, \"gridcolor\": \"white\", \"linecolor\": \"white\", \"ticks\": \"\", \"title\": {\"standoff\": 15}, \"zerolinecolor\": \"white\", \"zerolinewidth\": 2}}}, \"title\": {\"text\": \"Ph\\u00e2n b\\u1ed1 \\u0111\\u00e1nh gi\\u00e1 \\u1edf l\\u1edbp Subjectivity\"}, \"xaxis\": {\"title\": {\"text\": \"\\u0110\\u00e1nh gi\\u00e1\"}}, \"yaxis\": {\"title\": {\"text\": \"S\\u1ed1 l\\u01b0\\u1ee3ng\"}}},\n",
              "                        {\"responsive\": true}\n",
              "                    ).then(function(){\n",
              "                            \n",
              "var gd = document.getElementById('d65e1336-ec19-4e2f-a562-432fa343e145');\n",
              "var x = new MutationObserver(function (mutations, observer) {{\n",
              "        var display = window.getComputedStyle(gd).display;\n",
              "        if (!display || display === 'none') {{\n",
              "            console.log([gd, 'removed!']);\n",
              "            Plotly.purge(gd);\n",
              "            observer.disconnect();\n",
              "        }}\n",
              "}});\n",
              "\n",
              "// Listen for the removal of the full notebook cells\n",
              "var notebookContainer = gd.closest('#notebook-container');\n",
              "if (notebookContainer) {{\n",
              "    x.observe(notebookContainer, {childList: true});\n",
              "}}\n",
              "\n",
              "// Listen for the clearing of the current output cell\n",
              "var outputEl = gd.closest('.output');\n",
              "if (outputEl) {{\n",
              "    x.observe(outputEl, {childList: true});\n",
              "}}\n",
              "\n",
              "                        })\n",
              "                };\n",
              "                \n",
              "            </script>\n",
              "        </div>\n",
              "</body>\n",
              "</html>"
            ]
          },
          "metadata": {}
        }
      ]
    },
    {
      "cell_type": "code",
      "metadata": {
        "id": "mY_6L6A67uLc"
      },
      "source": [
        "#sns.boxplot(x='rating',y='Subjectivity', data=df, whis=2 )"
      ],
      "execution_count": null,
      "outputs": []
    },
    {
      "cell_type": "code",
      "metadata": {
        "id": "nxErCJPb7vqa"
      },
      "source": [
        "# import matplotlib.pyplot as plt\n",
        "# plt.plot(history.history['loss'], label='loss')\n",
        "# plt.plot(history.history['val_loss'], label='val_loss')\n",
        "# plt.legend()\n",
        "# plt.show()\n",
        "#plt.savefig(\"Loss plot.jpg\")"
      ],
      "execution_count": null,
      "outputs": []
    },
    {
      "cell_type": "code",
      "metadata": {
        "id": "Dx-_qYnc73Px"
      },
      "source": [
        "import spacy\n",
        "nlp= spacy.load('en_core_web_sm')"
      ],
      "execution_count": 27,
      "outputs": []
    },
    {
      "cell_type": "code",
      "metadata": {
        "id": "ODCVsiZh-Muq"
      },
      "source": [
        "def preprocess(text):\n",
        "    lower= text.lower()\n",
        "    doc= nlp(lower)\n",
        "    tokens= [token.lemma_ for token in doc ]\n",
        "    a_lemma= [lemma for lemma in tokens if lemma not in spacy.lang.en.stop_words.STOP_WORDS and lemma.isalpha()]\n",
        "    return \" \".join(a_lemma)"
      ],
      "execution_count": 28,
      "outputs": []
    },
    {
      "cell_type": "code",
      "metadata": {
        "id": "kupSjsRW76bJ"
      },
      "source": [
        "df['Review_new']= df['views'].apply(preprocess)"
      ],
      "execution_count": 29,
      "outputs": []
    },
    {
      "cell_type": "code",
      "metadata": {
        "colab": {
          "base_uri": "https://localhost:8080/",
          "height": 562
        },
        "id": "5NyRwG6K-nXy",
        "outputId": "e876ad01-47a0-45bd-dcea-36ee9728e87c"
      },
      "source": [
        "df"
      ],
      "execution_count": 30,
      "outputs": [
        {
          "output_type": "execute_result",
          "data": {
            "text/html": [
              "<div>\n",
              "<style scoped>\n",
              "    .dataframe tbody tr th:only-of-type {\n",
              "        vertical-align: middle;\n",
              "    }\n",
              "\n",
              "    .dataframe tbody tr th {\n",
              "        vertical-align: top;\n",
              "    }\n",
              "\n",
              "    .dataframe thead th {\n",
              "        text-align: right;\n",
              "    }\n",
              "</style>\n",
              "<table border=\"1\" class=\"dataframe\">\n",
              "  <thead>\n",
              "    <tr style=\"text-align: right;\">\n",
              "      <th></th>\n",
              "      <th>id_user</th>\n",
              "      <th>id_motels</th>\n",
              "      <th>rating</th>\n",
              "      <th>views</th>\n",
              "      <th>Sentiment</th>\n",
              "      <th>Word_count</th>\n",
              "      <th>Polarity</th>\n",
              "      <th>Subjectivity</th>\n",
              "      <th>Review_new</th>\n",
              "    </tr>\n",
              "  </thead>\n",
              "  <tbody>\n",
              "    <tr>\n",
              "      <th>0</th>\n",
              "      <td>0</td>\n",
              "      <td>0</td>\n",
              "      <td>4</td>\n",
              "      <td>nhà trọ đẹp, chủ trọ tốt tính vui vẻ, an ninh ...</td>\n",
              "      <td>Neutral</td>\n",
              "      <td>21</td>\n",
              "      <td>0.0</td>\n",
              "      <td>0.0</td>\n",
              "      <td>nhà trọ đẹp chủ trọ tốt tính vui vẻ ninh tốt p...</td>\n",
              "    </tr>\n",
              "    <tr>\n",
              "      <th>1</th>\n",
              "      <td>1</td>\n",
              "      <td>0</td>\n",
              "      <td>2</td>\n",
              "      <td>Vị trí Mặt tiền đường Trần Nam Phú (Lộ ngân hà...</td>\n",
              "      <td>Neutral</td>\n",
              "      <td>20</td>\n",
              "      <td>0.0</td>\n",
              "      <td>0.0</td>\n",
              "      <td>vị trí mặt tiền đường trần nam phú lộ ngân hàn...</td>\n",
              "    </tr>\n",
              "    <tr>\n",
              "      <th>2</th>\n",
              "      <td>2</td>\n",
              "      <td>0</td>\n",
              "      <td>3</td>\n",
              "      <td>nhà trọ toàn nữ. Nhà tui chứ đâu kkk</td>\n",
              "      <td>Neutral</td>\n",
              "      <td>9</td>\n",
              "      <td>0.0</td>\n",
              "      <td>0.0</td>\n",
              "      <td>nhà trọ toàn nữ nhà tui chứ đâu kkk</td>\n",
              "    </tr>\n",
              "    <tr>\n",
              "      <th>3</th>\n",
              "      <td>3</td>\n",
              "      <td>0</td>\n",
              "      <td>5</td>\n",
              "      <td>Thoáng mát. Giá bình dân</td>\n",
              "      <td>Neutral</td>\n",
              "      <td>5</td>\n",
              "      <td>0.0</td>\n",
              "      <td>0.0</td>\n",
              "      <td>thoáng mát giá bình dân</td>\n",
              "    </tr>\n",
              "    <tr>\n",
              "      <th>4</th>\n",
              "      <td>4</td>\n",
              "      <td>1</td>\n",
              "      <td>5</td>\n",
              "      <td>Nhà trọ sạch sẽ, an toàn giá cả hợp lí, với lạ...</td>\n",
              "      <td>Positive</td>\n",
              "      <td>22</td>\n",
              "      <td>0.5</td>\n",
              "      <td>1.0</td>\n",
              "      <td>nhà trọ sạch sẽ toàn giá cả hợp lí với lại có ...</td>\n",
              "    </tr>\n",
              "    <tr>\n",
              "      <th>...</th>\n",
              "      <td>...</td>\n",
              "      <td>...</td>\n",
              "      <td>...</td>\n",
              "      <td>...</td>\n",
              "      <td>...</td>\n",
              "      <td>...</td>\n",
              "      <td>...</td>\n",
              "      <td>...</td>\n",
              "      <td>...</td>\n",
              "    </tr>\n",
              "    <tr>\n",
              "      <th>2440</th>\n",
              "      <td>318</td>\n",
              "      <td>403</td>\n",
              "      <td>3</td>\n",
              "      <td>Qua rộng, mát mẻ, chủ trọ hiền, tốt bụng ok hế...</td>\n",
              "      <td>Positive</td>\n",
              "      <td>40</td>\n",
              "      <td>0.5</td>\n",
              "      <td>0.5</td>\n",
              "      <td>qua rộng mát mẻ chủ trọ hiền tốt bụng ok hết ở...</td>\n",
              "    </tr>\n",
              "    <tr>\n",
              "      <th>2441</th>\n",
              "      <td>319</td>\n",
              "      <td>403</td>\n",
              "      <td>3</td>\n",
              "      <td>Nhà trọ sạch sẽ, an toàn giá cả hợp lí, với lạ...</td>\n",
              "      <td>Positive</td>\n",
              "      <td>38</td>\n",
              "      <td>0.5</td>\n",
              "      <td>1.0</td>\n",
              "      <td>nhà trọ sạch sẽ toàn giá cả hợp lí với lại có ...</td>\n",
              "    </tr>\n",
              "    <tr>\n",
              "      <th>2442</th>\n",
              "      <td>320</td>\n",
              "      <td>403</td>\n",
              "      <td>4</td>\n",
              "      <td>Nhà trọ hiện đại, sạch sẽ, an ninh, yên tĩnh, ...</td>\n",
              "      <td>Neutral</td>\n",
              "      <td>25</td>\n",
              "      <td>0.0</td>\n",
              "      <td>0.0</td>\n",
              "      <td>nhà trọ hiện đại sạch sẽ ninh yên tĩnh đường t...</td>\n",
              "    </tr>\n",
              "    <tr>\n",
              "      <th>2443</th>\n",
              "      <td>321</td>\n",
              "      <td>403</td>\n",
              "      <td>3</td>\n",
              "      <td>Mọi thứ tuyệt vời. An ninh, sạch sẽ, thân thiệ...</td>\n",
              "      <td>Neutral</td>\n",
              "      <td>18</td>\n",
              "      <td>0.0</td>\n",
              "      <td>0.0</td>\n",
              "      <td>mọi thứ tuyệt vời ninh sạch sẽ thân thiện sạch...</td>\n",
              "    </tr>\n",
              "    <tr>\n",
              "      <th>2444</th>\n",
              "      <td>322</td>\n",
              "      <td>403</td>\n",
              "      <td>5</td>\n",
              "      <td>Nhà trọ cũ rồi, ở được, an ninh, giới hạn giờ ...</td>\n",
              "      <td>Neutral</td>\n",
              "      <td>20</td>\n",
              "      <td>0.0</td>\n",
              "      <td>0.0</td>\n",
              "      <td>nhà trọ cũ rồi ở được ninh giới hạn giờ giấc á...</td>\n",
              "    </tr>\n",
              "  </tbody>\n",
              "</table>\n",
              "<p>2445 rows × 9 columns</p>\n",
              "</div>"
            ],
            "text/plain": [
              "      id_user  ...                                         Review_new\n",
              "0           0  ...  nhà trọ đẹp chủ trọ tốt tính vui vẻ ninh tốt p...\n",
              "1           1  ...  vị trí mặt tiền đường trần nam phú lộ ngân hàn...\n",
              "2           2  ...                nhà trọ toàn nữ nhà tui chứ đâu kkk\n",
              "3           3  ...                            thoáng mát giá bình dân\n",
              "4           4  ...  nhà trọ sạch sẽ toàn giá cả hợp lí với lại có ...\n",
              "...       ...  ...                                                ...\n",
              "2440      318  ...  qua rộng mát mẻ chủ trọ hiền tốt bụng ok hết ở...\n",
              "2441      319  ...  nhà trọ sạch sẽ toàn giá cả hợp lí với lại có ...\n",
              "2442      320  ...  nhà trọ hiện đại sạch sẽ ninh yên tĩnh đường t...\n",
              "2443      321  ...  mọi thứ tuyệt vời ninh sạch sẽ thân thiện sạch...\n",
              "2444      322  ...  nhà trọ cũ rồi ở được ninh giới hạn giờ giấc á...\n",
              "\n",
              "[2445 rows x 9 columns]"
            ]
          },
          "metadata": {},
          "execution_count": 30
        }
      ]
    },
    {
      "cell_type": "code",
      "metadata": {
        "colab": {
          "base_uri": "https://localhost:8080/",
          "height": 140
        },
        "id": "ojKiNw8G-q6B",
        "outputId": "58417083-e8b0-4e95-b8ca-3cb8a2b8914b"
      },
      "source": [
        "rev= \" \".join([review for review in df['Review_new']])\n",
        "rev[:2000]"
      ],
      "execution_count": 31,
      "outputs": [
        {
          "output_type": "execute_result",
          "data": {
            "application/vnd.google.colaboratory.intrinsic+json": {
              "type": "string"
            },
            "text/plain": [
              "'nhà trọ đẹp chủ trọ tốt tính vui vẻ ninh tốt phòng nầy bao tiền tháng vậy các bạn vị trí mặt tiền đường trần nam phú lộ ngân hàng dễ tìm kiếm dễ đi lại thuận tiện hơn nhà trọ toàn nữ nhà tui chứ đâu kkk thoáng mát giá bình dân nhà trọ sạch sẽ toàn giá cả hợp lí với lại có anh chủ trọ đẹp trai nữa thích ghê trọ ninh tuyệt đối sạch sẽ trật trọ hòa đồng chủ trọ dễ thương nhà trọ hơi bì tù nhiều phòng giá hơi cao với phòbg nhưng được cái nước ko ngập ở mình ok tùy chổ phòng mình có chổ p chủ trọ không có ở chung nên cũng thoải mái đóng tiền trọ chễ ko bị la rầy như chổ khác nhà trọ thoát mát sạch đẹp luôn không gian yên tĩnh bình thường tiền nào của nấy có sân phơi đồ riêng nhà để xe nữa wifi camera nhà trọ ninh có wifi camera thuận tiện giao thông ăn vặt trên cả tuyệt vời không có gì để bàn cãi khu yên văn minh xung quanh ok view tạm ổn phòng rộng rãi thoáng mát chủ trọ quá là dễ thương phòng trọ tạm ổn tiền trọ cũng không quá mắc với đất thành thị mọi thứ đều ok nếu bạn thích không gian yên tĩnh thì đây là lựa chọn tốt tuy phòng trọ có giá tiền hơi mắc nhưng chất lượng không cần nói trong thành phố kiếm được nhà trọ như thế này là quá tốt giá cả phải chăng nhà trọ đẹp chủ trọ tốt tính vui vẻ ninh tốt phòng nầy bao tiền tháng vậy các bạn cảnh báo nóng từ tháng đến tháng nóng quanh năm phơi đồ bao khô cho mọi thời tiết wifi free đúng chuẩn éo dùng được hai dãy phòng đối diện bao vui và náo nhiệt mọi thời điểm nhá nơi hội tụ của những diện có sổ hộ giàu lắp máy lạnh hàng xóm bao ok và nhiệt tình vừa dọn tới là có người đến chia buồn qua rộng mát mẻ chủ trọ hiền tốt bụng ok hết ở đây ông chủ rất dễ khu nhà trọ cũng rất yên tĩnh và toàn vì đc lắp khá nhìu camera giá phòng cũng vừa phải nhà trọ sạch sẽ toàn giá cả hợp lí với lại có anh chủ trọ đẹp trai nữa thích ghê trọ ninh tuyệt đối sạch sẽ trật trọ hòa đồng chủ trọ dễ thương nhà trọ hiện đại sạch sẽ ninh yên tĩnh đường truyền wifi mạnh ngay mặt tiền đường chính thuận tiện cho việc đi lại mọi thứ tuyệt vời ninh sạch sẽ th'"
            ]
          },
          "metadata": {},
          "execution_count": 31
        }
      ]
    },
    {
      "cell_type": "code",
      "metadata": {
        "colab": {
          "base_uri": "https://localhost:8080/",
          "height": 612
        },
        "id": "rmpNu6oX-urm",
        "outputId": "1fcfdf4b-df55-4933-9240-d1d958461359"
      },
      "source": [
        "from wordcloud import WordCloud\n",
        "plt.figure(figsize=(15,10))\n",
        "wc= WordCloud(max_words=200,height= 800, width=1000 ,background_color='black').generate(rev)\n",
        "plt.imshow(wc)"
      ],
      "execution_count": 32,
      "outputs": [
        {
          "output_type": "execute_result",
          "data": {
            "text/plain": [
              "<matplotlib.image.AxesImage at 0x7f7450967150>"
            ]
          },
          "metadata": {},
          "execution_count": 32
        },
        {
          "output_type": "display_data",
          "data": {
            "image/png": "[encoded data removed]",
            "text/plain": [
              "<Figure size 1080x720 with 1 Axes>"
            ]
          },
          "metadata": {
            "needs_background": "light"
          }
        }
      ]
    },
    {
      "cell_type": "code",
      "metadata": {
        "colab": {
          "base_uri": "https://localhost:8080/",
          "height": 562
        },
        "id": "iSBV0NMz-0Wr",
        "outputId": "f00d1e37-5b6f-4238-9491-54e5d2062a60"
      },
      "source": [
        "def sentiment(review):\n",
        "    if review>=3:\n",
        "        return '1'\n",
        "    else:\n",
        "        return '0'\n",
        "df['Sentiment']= df['rating'].apply(sentiment)\n",
        "df"
      ],
      "execution_count": 33,
      "outputs": [
        {
          "output_type": "execute_result",
          "data": {
            "text/html": [
              "<div>\n",
              "<style scoped>\n",
              "    .dataframe tbody tr th:only-of-type {\n",
              "        vertical-align: middle;\n",
              "    }\n",
              "\n",
              "    .dataframe tbody tr th {\n",
              "        vertical-align: top;\n",
              "    }\n",
              "\n",
              "    .dataframe thead th {\n",
              "        text-align: right;\n",
              "    }\n",
              "</style>\n",
              "<table border=\"1\" class=\"dataframe\">\n",
              "  <thead>\n",
              "    <tr style=\"text-align: right;\">\n",
              "      <th></th>\n",
              "      <th>id_user</th>\n",
              "      <th>id_motels</th>\n",
              "      <th>rating</th>\n",
              "      <th>views</th>\n",
              "      <th>Sentiment</th>\n",
              "      <th>Word_count</th>\n",
              "      <th>Polarity</th>\n",
              "      <th>Subjectivity</th>\n",
              "      <th>Review_new</th>\n",
              "    </tr>\n",
              "  </thead>\n",
              "  <tbody>\n",
              "    <tr>\n",
              "      <th>0</th>\n",
              "      <td>0</td>\n",
              "      <td>0</td>\n",
              "      <td>4</td>\n",
              "      <td>nhà trọ đẹp, chủ trọ tốt tính vui vẻ, an ninh ...</td>\n",
              "      <td>1</td>\n",
              "      <td>21</td>\n",
              "      <td>0.0</td>\n",
              "      <td>0.0</td>\n",
              "      <td>nhà trọ đẹp chủ trọ tốt tính vui vẻ ninh tốt p...</td>\n",
              "    </tr>\n",
              "    <tr>\n",
              "      <th>1</th>\n",
              "      <td>1</td>\n",
              "      <td>0</td>\n",
              "      <td>2</td>\n",
              "      <td>Vị trí Mặt tiền đường Trần Nam Phú (Lộ ngân hà...</td>\n",
              "      <td>0</td>\n",
              "      <td>20</td>\n",
              "      <td>0.0</td>\n",
              "      <td>0.0</td>\n",
              "      <td>vị trí mặt tiền đường trần nam phú lộ ngân hàn...</td>\n",
              "    </tr>\n",
              "    <tr>\n",
              "      <th>2</th>\n",
              "      <td>2</td>\n",
              "      <td>0</td>\n",
              "      <td>3</td>\n",
              "      <td>nhà trọ toàn nữ. Nhà tui chứ đâu kkk</td>\n",
              "      <td>1</td>\n",
              "      <td>9</td>\n",
              "      <td>0.0</td>\n",
              "      <td>0.0</td>\n",
              "      <td>nhà trọ toàn nữ nhà tui chứ đâu kkk</td>\n",
              "    </tr>\n",
              "    <tr>\n",
              "      <th>3</th>\n",
              "      <td>3</td>\n",
              "      <td>0</td>\n",
              "      <td>5</td>\n",
              "      <td>Thoáng mát. Giá bình dân</td>\n",
              "      <td>1</td>\n",
              "      <td>5</td>\n",
              "      <td>0.0</td>\n",
              "      <td>0.0</td>\n",
              "      <td>thoáng mát giá bình dân</td>\n",
              "    </tr>\n",
              "    <tr>\n",
              "      <th>4</th>\n",
              "      <td>4</td>\n",
              "      <td>1</td>\n",
              "      <td>5</td>\n",
              "      <td>Nhà trọ sạch sẽ, an toàn giá cả hợp lí, với lạ...</td>\n",
              "      <td>1</td>\n",
              "      <td>22</td>\n",
              "      <td>0.5</td>\n",
              "      <td>1.0</td>\n",
              "      <td>nhà trọ sạch sẽ toàn giá cả hợp lí với lại có ...</td>\n",
              "    </tr>\n",
              "    <tr>\n",
              "      <th>...</th>\n",
              "      <td>...</td>\n",
              "      <td>...</td>\n",
              "      <td>...</td>\n",
              "      <td>...</td>\n",
              "      <td>...</td>\n",
              "      <td>...</td>\n",
              "      <td>...</td>\n",
              "      <td>...</td>\n",
              "      <td>...</td>\n",
              "    </tr>\n",
              "    <tr>\n",
              "      <th>2440</th>\n",
              "      <td>318</td>\n",
              "      <td>403</td>\n",
              "      <td>3</td>\n",
              "      <td>Qua rộng, mát mẻ, chủ trọ hiền, tốt bụng ok hế...</td>\n",
              "      <td>1</td>\n",
              "      <td>40</td>\n",
              "      <td>0.5</td>\n",
              "      <td>0.5</td>\n",
              "      <td>qua rộng mát mẻ chủ trọ hiền tốt bụng ok hết ở...</td>\n",
              "    </tr>\n",
              "    <tr>\n",
              "      <th>2441</th>\n",
              "      <td>319</td>\n",
              "      <td>403</td>\n",
              "      <td>3</td>\n",
              "      <td>Nhà trọ sạch sẽ, an toàn giá cả hợp lí, với lạ...</td>\n",
              "      <td>1</td>\n",
              "      <td>38</td>\n",
              "      <td>0.5</td>\n",
              "      <td>1.0</td>\n",
              "      <td>nhà trọ sạch sẽ toàn giá cả hợp lí với lại có ...</td>\n",
              "    </tr>\n",
              "    <tr>\n",
              "      <th>2442</th>\n",
              "      <td>320</td>\n",
              "      <td>403</td>\n",
              "      <td>4</td>\n",
              "      <td>Nhà trọ hiện đại, sạch sẽ, an ninh, yên tĩnh, ...</td>\n",
              "      <td>1</td>\n",
              "      <td>25</td>\n",
              "      <td>0.0</td>\n",
              "      <td>0.0</td>\n",
              "      <td>nhà trọ hiện đại sạch sẽ ninh yên tĩnh đường t...</td>\n",
              "    </tr>\n",
              "    <tr>\n",
              "      <th>2443</th>\n",
              "      <td>321</td>\n",
              "      <td>403</td>\n",
              "      <td>3</td>\n",
              "      <td>Mọi thứ tuyệt vời. An ninh, sạch sẽ, thân thiệ...</td>\n",
              "      <td>1</td>\n",
              "      <td>18</td>\n",
              "      <td>0.0</td>\n",
              "      <td>0.0</td>\n",
              "      <td>mọi thứ tuyệt vời ninh sạch sẽ thân thiện sạch...</td>\n",
              "    </tr>\n",
              "    <tr>\n",
              "      <th>2444</th>\n",
              "      <td>322</td>\n",
              "      <td>403</td>\n",
              "      <td>5</td>\n",
              "      <td>Nhà trọ cũ rồi, ở được, an ninh, giới hạn giờ ...</td>\n",
              "      <td>1</td>\n",
              "      <td>20</td>\n",
              "      <td>0.0</td>\n",
              "      <td>0.0</td>\n",
              "      <td>nhà trọ cũ rồi ở được ninh giới hạn giờ giấc á...</td>\n",
              "    </tr>\n",
              "  </tbody>\n",
              "</table>\n",
              "<p>2445 rows × 9 columns</p>\n",
              "</div>"
            ],
            "text/plain": [
              "      id_user  ...                                         Review_new\n",
              "0           0  ...  nhà trọ đẹp chủ trọ tốt tính vui vẻ ninh tốt p...\n",
              "1           1  ...  vị trí mặt tiền đường trần nam phú lộ ngân hàn...\n",
              "2           2  ...                nhà trọ toàn nữ nhà tui chứ đâu kkk\n",
              "3           3  ...                            thoáng mát giá bình dân\n",
              "4           4  ...  nhà trọ sạch sẽ toàn giá cả hợp lí với lại có ...\n",
              "...       ...  ...                                                ...\n",
              "2440      318  ...  qua rộng mát mẻ chủ trọ hiền tốt bụng ok hết ở...\n",
              "2441      319  ...  nhà trọ sạch sẽ toàn giá cả hợp lí với lại có ...\n",
              "2442      320  ...  nhà trọ hiện đại sạch sẽ ninh yên tĩnh đường t...\n",
              "2443      321  ...  mọi thứ tuyệt vời ninh sạch sẽ thân thiện sạch...\n",
              "2444      322  ...  nhà trọ cũ rồi ở được ninh giới hạn giờ giấc á...\n",
              "\n",
              "[2445 rows x 9 columns]"
            ]
          },
          "metadata": {},
          "execution_count": 33
        }
      ]
    },
    {
      "cell_type": "code",
      "metadata": {
        "id": "mdv9MG9u_k-M"
      },
      "source": [
        "#df.to_csv('2.csv',encoding=\"utf-8-sig\",index=False)\n",
        "#len(data)"
      ],
      "execution_count": null,
      "outputs": []
    },
    {
      "cell_type": "code",
      "metadata": {
        "id": "Gg_kqt1YAPpQ"
      },
      "source": [
        "#nationsGrp.groups"
      ],
      "execution_count": null,
      "outputs": []
    },
    {
      "cell_type": "code",
      "metadata": {
        "id": "sqsWbwH9BlKO"
      },
      "source": [
        "#subsetting dataset\n",
        "#data=df[['id_motels','Sentiment']]\n",
        "#data"
      ],
      "execution_count": null,
      "outputs": []
    },
    {
      "cell_type": "code",
      "metadata": {
        "id": "PWqfG-o_DHez"
      },
      "source": [
        "#dt=data.query('id_motels==\"16\"')\n",
        "#dt"
      ],
      "execution_count": null,
      "outputs": []
    },
    {
      "cell_type": "code",
      "metadata": {
        "id": "bZubz1lK_AG3"
      },
      "source": [
        "from sklearn.feature_extraction.text import TfidfVectorizer\n",
        "from sklearn.model_selection import train_test_split\n",
        "from nltk import word_tokenize"
      ],
      "execution_count": 34,
      "outputs": []
    },
    {
      "cell_type": "code",
      "metadata": {
        "id": "uPDXeYVI_ENq"
      },
      "source": [
        "X= df['Review_new']\n",
        "y= df['Sentiment']\n",
        "\n",
        "X_train, X_test,y_train, y_test= train_test_split(X, y, test_size=0.3, stratify=y)"
      ],
      "execution_count": 35,
      "outputs": []
    },
    {
      "cell_type": "code",
      "metadata": {
        "colab": {
          "base_uri": "https://localhost:8080/"
        },
        "id": "ycfIFVOh_KMV",
        "outputId": "b5447913-91d5-4671-f1ee-b71e11475c0d"
      },
      "source": [
        "X_train"
      ],
      "execution_count": 36,
      "outputs": [
        {
          "output_type": "execute_result",
          "data": {
            "text/plain": [
              "1313    nhà trọ có camera ninh giờ tự có khóa cổng chí...\n",
              "645     trọ ninh tuyệt đối sạch sẽ trật trọ hòa đồng c...\n",
              "887                                   sạch sẽ thoanga mát\n",
              "2366    nhà trọ thoát mát sạch đẹp luôn không gia yên ...\n",
              "578     toàn rộng rãi giá cả hợp lý nhà trọ giá sinh v...\n",
              "                              ...                        \n",
              "2390                         bình thường tiền nào của nấy\n",
              "884     nhà chọ thuên hương mình sống ở đây hơn năm rồ...\n",
              "663                     nha tro moi sach dep gia binh dan\n",
              "2102    giá phòng tầm cô chủ trọ thân thiện tốt bụng p...\n",
              "1914    nhà trọ sạch sẽ toàn giá cả hợp lí với lại có ...\n",
              "Name: Review_new, Length: 1711, dtype: object"
            ]
          },
          "metadata": {},
          "execution_count": 36
        }
      ]
    },
    {
      "cell_type": "code",
      "metadata": {
        "colab": {
          "base_uri": "https://localhost:8080/"
        },
        "id": "8sB_hK0k_Mp6",
        "outputId": "0019deb3-cf9e-4ed1-9434-921786bb38e4"
      },
      "source": [
        "y_train"
      ],
      "execution_count": 37,
      "outputs": [
        {
          "output_type": "execute_result",
          "data": {
            "text/plain": [
              "1313    1\n",
              "645     1\n",
              "887     0\n",
              "2366    1\n",
              "578     1\n",
              "       ..\n",
              "2390    1\n",
              "884     1\n",
              "663     1\n",
              "2102    0\n",
              "1914    1\n",
              "Name: Sentiment, Length: 1711, dtype: object"
            ]
          },
          "metadata": {},
          "execution_count": 37
        }
      ]
    },
    {
      "cell_type": "code",
      "metadata": {
        "colab": {
          "base_uri": "https://localhost:8080/"
        },
        "id": "X6J9hy3r_TQw",
        "outputId": "c3062788-80d9-4f0a-acc8-0c3215958f10"
      },
      "source": [
        "import nltk\n",
        "nltk.download('punkt')"
      ],
      "execution_count": 38,
      "outputs": [
        {
          "output_type": "stream",
          "name": "stdout",
          "text": [
            "[nltk_data] Downloading package punkt to /root/nltk_data...\n",
            "[nltk_data]   Unzipping tokenizers/punkt.zip.\n"
          ]
        },
        {
          "output_type": "execute_result",
          "data": {
            "text/plain": [
              "True"
            ]
          },
          "metadata": {},
          "execution_count": 38
        }
      ]
    },
    {
      "cell_type": "code",
      "metadata": {
        "id": "qRk0E3UO_Qg4"
      },
      "source": [
        "tfidf= TfidfVectorizer(max_features=10000, tokenizer= word_tokenize,ngram_range=(1,2) )\n",
        "X_train_transformed= tfidf.fit_transform(X_train.values)\n",
        "X_test_transformed= tfidf.transform(X_test.values)"
      ],
      "execution_count": 39,
      "outputs": []
    },
    {
      "cell_type": "code",
      "metadata": {
        "colab": {
          "base_uri": "https://localhost:8080/"
        },
        "id": "hsYxYUQE_X8f",
        "outputId": "9e77038b-da90-40c9-d31d-9af614af40fe"
      },
      "source": [
        "X_train_transformed.shape"
      ],
      "execution_count": 40,
      "outputs": [
        {
          "output_type": "execute_result",
          "data": {
            "text/plain": [
              "(1711, 3177)"
            ]
          },
          "metadata": {},
          "execution_count": 40
        }
      ]
    },
    {
      "cell_type": "code",
      "metadata": {
        "colab": {
          "base_uri": "https://localhost:8080/"
        },
        "id": "rSBvgvEM_aZH",
        "outputId": "d7a18fb5-469b-4824-eb10-d1e368a9f1a3"
      },
      "source": [
        "from sklearn.ensemble import RandomForestClassifier\n",
        "\n",
        "rfc= RandomForestClassifier()\n",
        "rfc.fit(X_train_transformed, y_train)\n",
        "y_pred= rfc.predict(X_test_transformed)\n",
        "\n",
        "rfc.score(X_test_transformed, y_test)"
      ],
      "execution_count": 41,
      "outputs": [
        {
          "output_type": "execute_result",
          "data": {
            "text/plain": [
              "0.8392370572207084"
            ]
          },
          "metadata": {},
          "execution_count": 41
        }
      ]
    },
    {
      "cell_type": "code",
      "metadata": {
        "colab": {
          "base_uri": "https://localhost:8080/"
        },
        "id": "5s500HN6_dwF",
        "outputId": "a51e0e32-8bdb-436c-8871-fa3c35695e32"
      },
      "source": [
        "from sklearn.linear_model import LogisticRegression\n",
        "\n",
        "lr= LogisticRegression()\n",
        "lr.fit(X_train_transformed, y_train)\n",
        "y_pred= lr.predict(X_test_transformed)\n",
        "\n",
        "lr.score(X_test_transformed, y_test)"
      ],
      "execution_count": 42,
      "outputs": [
        {
          "output_type": "execute_result",
          "data": {
            "text/plain": [
              "0.8664850136239782"
            ]
          },
          "metadata": {},
          "execution_count": 42
        }
      ]
    },
    {
      "cell_type": "code",
      "metadata": {
        "id": "fQ1MxrjGY7oB"
      },
      "source": [
        "vectorizer = TfidfVectorizer(stop_words=text.ENGLISH_STOP_WORDS)\n",
        "X_train,X_test,Y_train,Y_test = train_test_split(vectorizer.fit_transform(df['views']).toarray(),\n",
        "                                                 df['Sentiment'].values,\n",
        "                                                 test_size = 0.2,\n",
        "                                                 random_state=42)"
      ],
      "execution_count": 43,
      "outputs": []
    },
    {
      "cell_type": "code",
      "metadata": {
        "colab": {
          "base_uri": "https://localhost:8080/"
        },
        "id": "eFMBMlfkZpo0",
        "outputId": "709f4476-7a71-47e5-9b20-b7f29e5ad897"
      },
      "source": [
        "clf = LogisticRegression(solver='liblinear',random_state=0)\n",
        "clf.fit(X_train,Y_train)\n",
        "print(\"Train Accuracy : {:.2f} %\".format(accuracy_score(clf.predict(X_train),Y_train)*100))\n",
        "print(\"Test Accuracy  : {:.2f} %\".format(accuracy_score(clf.predict(X_test),Y_test)*100))"
      ],
      "execution_count": 44,
      "outputs": [
        {
          "output_type": "stream",
          "name": "stdout",
          "text": [
            "Train Accuracy : 86.81 %\n",
            "Test Accuracy  : 87.12 %\n"
          ]
        }
      ]
    },
    {
      "cell_type": "code",
      "metadata": {
        "colab": {
          "base_uri": "https://localhost:8080/"
        },
        "id": "1jp2C7oKPYMF",
        "outputId": "c8f3b641-1cf5-4a41-96cf-5468d5ec9a8c"
      },
      "source": [
        "for i in range (0,100):\n",
        "  vectorizer = TfidfVectorizer(stop_words=text.ENGLISH_STOP_WORDS)\n",
        "  X_train,X_test,Y_train,Y_test = train_test_split(vectorizer.fit_transform(df['views']).toarray(),\n",
        "                                                 df['Sentiment'].values,\n",
        "                                                 test_size = 0.3,\n",
        "                                                 random_state=42 + i)\n",
        "  \n",
        "  clf = LogisticRegression(solver='liblinear',random_state= i)\n",
        "  clf.fit(X_train,Y_train)\n",
        "  \n",
        "  rfc= RandomForestClassifier()\n",
        "  rfc.fit(X_train,Y_train)\n",
        "  print(\"Lân thứ \", i)\n",
        "  print(\"Train Accuracy LogisticRegression : {:.2f} %\".format(accuracy_score(clf.predict(X_train),Y_train)*100))\n",
        "  print(\"Test Accuracy  LogisticRegression: {:.2f} %\".format(accuracy_score(clf.predict(X_test),Y_test)*100))\n",
        "  print(\"Train Accuracy RandomForestClassifier: {:.2f} %\".format(accuracy_score(rfc.predict(X_train),Y_train)*100))\n",
        "  print(\"Test Accuracy  RandomForestClassifier: {:.2f} %\".format(accuracy_score(rfc.predict(X_test),Y_test)*100))\n",
        "  print(\"\\n\")\n"
      ],
      "execution_count": 69,
      "outputs": [
        {
          "output_type": "stream",
          "name": "stdout",
          "text": [
            "Lân thứ  0\n",
            "Train Accuracy LogisticRegression : 86.97 %\n",
            "Test Accuracy  LogisticRegression: 86.65 %\n",
            "Train Accuracy RandomForestClassifier: 87.96 %\n",
            "Test Accuracy  RandomForestClassifier: 84.20 %\n",
            "\n",
            "\n",
            "Lân thứ  1\n",
            "Train Accuracy LogisticRegression : 86.67 %\n",
            "Test Accuracy  LogisticRegression: 86.78 %\n",
            "Train Accuracy RandomForestClassifier: 88.84 %\n",
            "Test Accuracy  RandomForestClassifier: 83.92 %\n",
            "\n",
            "\n",
            "Lân thứ  2\n",
            "Train Accuracy LogisticRegression : 86.56 %\n",
            "Test Accuracy  LogisticRegression: 87.06 %\n",
            "Train Accuracy RandomForestClassifier: 88.43 %\n",
            "Test Accuracy  RandomForestClassifier: 84.47 %\n",
            "\n",
            "\n",
            "Lân thứ  3\n",
            "Train Accuracy LogisticRegression : 87.14 %\n",
            "Test Accuracy  LogisticRegression: 85.56 %\n",
            "Train Accuracy RandomForestClassifier: 88.78 %\n",
            "Test Accuracy  RandomForestClassifier: 82.70 %\n",
            "\n",
            "\n",
            "Lân thứ  4\n",
            "Train Accuracy LogisticRegression : 87.20 %\n",
            "Test Accuracy  LogisticRegression: 85.56 %\n",
            "Train Accuracy RandomForestClassifier: 89.07 %\n",
            "Test Accuracy  RandomForestClassifier: 82.83 %\n",
            "\n",
            "\n",
            "Lân thứ  5\n",
            "Train Accuracy LogisticRegression : 86.32 %\n",
            "Test Accuracy  LogisticRegression: 88.15 %\n",
            "Train Accuracy RandomForestClassifier: 88.14 %\n",
            "Test Accuracy  RandomForestClassifier: 85.15 %\n",
            "\n",
            "\n",
            "Lân thứ  6\n",
            "Train Accuracy LogisticRegression : 86.44 %\n",
            "Test Accuracy  LogisticRegression: 87.87 %\n",
            "Train Accuracy RandomForestClassifier: 87.96 %\n",
            "Test Accuracy  RandomForestClassifier: 84.88 %\n",
            "\n",
            "\n",
            "Lân thứ  7\n",
            "Train Accuracy LogisticRegression : 86.21 %\n",
            "Test Accuracy  LogisticRegression: 87.87 %\n",
            "Train Accuracy RandomForestClassifier: 88.08 %\n",
            "Test Accuracy  RandomForestClassifier: 85.29 %\n",
            "\n",
            "\n",
            "Lân thứ  8\n",
            "Train Accuracy LogisticRegression : 86.85 %\n",
            "Test Accuracy  LogisticRegression: 86.92 %\n",
            "Train Accuracy RandomForestClassifier: 88.37 %\n",
            "Test Accuracy  RandomForestClassifier: 84.20 %\n",
            "\n",
            "\n",
            "Lân thứ  9\n",
            "Train Accuracy LogisticRegression : 86.62 %\n",
            "Test Accuracy  LogisticRegression: 86.92 %\n",
            "Train Accuracy RandomForestClassifier: 88.49 %\n",
            "Test Accuracy  RandomForestClassifier: 84.60 %\n",
            "\n",
            "\n",
            "Lân thứ  10\n",
            "Train Accuracy LogisticRegression : 87.08 %\n",
            "Test Accuracy  LogisticRegression: 85.83 %\n",
            "Train Accuracy RandomForestClassifier: 89.07 %\n",
            "Test Accuracy  RandomForestClassifier: 82.83 %\n",
            "\n",
            "\n",
            "Lân thứ  11\n",
            "Train Accuracy LogisticRegression : 86.91 %\n",
            "Test Accuracy  LogisticRegression: 86.24 %\n",
            "Train Accuracy RandomForestClassifier: 88.95 %\n",
            "Test Accuracy  RandomForestClassifier: 82.97 %\n",
            "\n",
            "\n",
            "Lân thứ  12\n",
            "Train Accuracy LogisticRegression : 86.62 %\n",
            "Test Accuracy  LogisticRegression: 86.92 %\n",
            "Train Accuracy RandomForestClassifier: 88.37 %\n",
            "Test Accuracy  RandomForestClassifier: 83.92 %\n",
            "\n",
            "\n",
            "Lân thứ  13\n",
            "Train Accuracy LogisticRegression : 86.91 %\n",
            "Test Accuracy  LogisticRegression: 86.24 %\n",
            "Train Accuracy RandomForestClassifier: 88.25 %\n",
            "Test Accuracy  RandomForestClassifier: 84.74 %\n",
            "\n",
            "\n",
            "Lân thứ  14\n",
            "Train Accuracy LogisticRegression : 87.14 %\n",
            "Test Accuracy  LogisticRegression: 85.69 %\n",
            "Train Accuracy RandomForestClassifier: 88.78 %\n",
            "Test Accuracy  RandomForestClassifier: 82.97 %\n",
            "\n",
            "\n",
            "Lân thứ  15\n",
            "Train Accuracy LogisticRegression : 87.20 %\n",
            "Test Accuracy  LogisticRegression: 86.10 %\n",
            "Train Accuracy RandomForestClassifier: 88.72 %\n",
            "Test Accuracy  RandomForestClassifier: 82.43 %\n",
            "\n",
            "\n",
            "Lân thứ  16\n",
            "Train Accuracy LogisticRegression : 86.56 %\n",
            "Test Accuracy  LogisticRegression: 87.19 %\n",
            "Train Accuracy RandomForestClassifier: 88.43 %\n",
            "Test Accuracy  RandomForestClassifier: 84.60 %\n",
            "\n",
            "\n",
            "Lân thứ  17\n",
            "Train Accuracy LogisticRegression : 85.91 %\n",
            "Test Accuracy  LogisticRegression: 89.10 %\n",
            "Train Accuracy RandomForestClassifier: 87.61 %\n",
            "Test Accuracy  RandomForestClassifier: 86.24 %\n",
            "\n",
            "\n",
            "Lân thứ  18\n",
            "Train Accuracy LogisticRegression : 87.49 %\n",
            "Test Accuracy  LogisticRegression: 84.88 %\n",
            "Train Accuracy RandomForestClassifier: 88.72 %\n",
            "Test Accuracy  RandomForestClassifier: 84.33 %\n",
            "\n",
            "\n",
            "Lân thứ  19\n",
            "Train Accuracy LogisticRegression : 86.85 %\n",
            "Test Accuracy  LogisticRegression: 86.92 %\n",
            "Train Accuracy RandomForestClassifier: 88.54 %\n",
            "Test Accuracy  RandomForestClassifier: 83.65 %\n",
            "\n",
            "\n",
            "Lân thứ  20\n",
            "Train Accuracy LogisticRegression : 86.15 %\n",
            "Test Accuracy  LogisticRegression: 88.01 %\n",
            "Train Accuracy RandomForestClassifier: 87.67 %\n",
            "Test Accuracy  RandomForestClassifier: 85.83 %\n",
            "\n",
            "\n",
            "Lân thứ  21\n",
            "Train Accuracy LogisticRegression : 86.97 %\n",
            "Test Accuracy  LogisticRegression: 86.65 %\n",
            "Train Accuracy RandomForestClassifier: 88.49 %\n",
            "Test Accuracy  RandomForestClassifier: 84.20 %\n",
            "\n",
            "\n",
            "Lân thứ  22\n",
            "Train Accuracy LogisticRegression : 86.62 %\n",
            "Test Accuracy  LogisticRegression: 86.92 %\n",
            "Train Accuracy RandomForestClassifier: 88.60 %\n",
            "Test Accuracy  RandomForestClassifier: 83.92 %\n",
            "\n",
            "\n",
            "Lân thứ  23\n",
            "Train Accuracy LogisticRegression : 86.03 %\n",
            "Test Accuracy  LogisticRegression: 88.28 %\n",
            "Train Accuracy RandomForestClassifier: 87.84 %\n",
            "Test Accuracy  RandomForestClassifier: 85.42 %\n",
            "\n",
            "\n",
            "Lân thứ  24\n",
            "Train Accuracy LogisticRegression : 86.85 %\n",
            "Test Accuracy  LogisticRegression: 86.38 %\n",
            "Train Accuracy RandomForestClassifier: 88.37 %\n",
            "Test Accuracy  RandomForestClassifier: 83.51 %\n",
            "\n",
            "\n",
            "Lân thứ  25\n",
            "Train Accuracy LogisticRegression : 87.08 %\n",
            "Test Accuracy  LogisticRegression: 85.83 %\n",
            "Train Accuracy RandomForestClassifier: 88.54 %\n",
            "Test Accuracy  RandomForestClassifier: 84.20 %\n",
            "\n",
            "\n",
            "Lân thứ  26\n",
            "Train Accuracy LogisticRegression : 86.15 %\n",
            "Test Accuracy  LogisticRegression: 88.01 %\n",
            "Train Accuracy RandomForestClassifier: 88.08 %\n",
            "Test Accuracy  RandomForestClassifier: 83.11 %\n",
            "\n",
            "\n",
            "Lân thứ  27\n",
            "Train Accuracy LogisticRegression : 86.67 %\n",
            "Test Accuracy  LogisticRegression: 86.78 %\n",
            "Train Accuracy RandomForestClassifier: 88.60 %\n",
            "Test Accuracy  RandomForestClassifier: 83.65 %\n",
            "\n",
            "\n",
            "Lân thứ  28\n",
            "Train Accuracy LogisticRegression : 87.55 %\n",
            "Test Accuracy  LogisticRegression: 84.74 %\n",
            "Train Accuracy RandomForestClassifier: 89.13 %\n",
            "Test Accuracy  RandomForestClassifier: 82.70 %\n",
            "\n",
            "\n",
            "Lân thứ  29\n",
            "Train Accuracy LogisticRegression : 86.21 %\n",
            "Test Accuracy  LogisticRegression: 87.87 %\n",
            "Train Accuracy RandomForestClassifier: 88.14 %\n",
            "Test Accuracy  RandomForestClassifier: 83.92 %\n",
            "\n",
            "\n",
            "Lân thứ  30\n",
            "Train Accuracy LogisticRegression : 86.56 %\n",
            "Test Accuracy  LogisticRegression: 87.06 %\n",
            "Train Accuracy RandomForestClassifier: 88.37 %\n",
            "Test Accuracy  RandomForestClassifier: 83.92 %\n",
            "\n",
            "\n",
            "Lân thứ  31\n",
            "Train Accuracy LogisticRegression : 86.73 %\n",
            "Test Accuracy  LogisticRegression: 87.19 %\n",
            "Train Accuracy RandomForestClassifier: 88.49 %\n",
            "Test Accuracy  RandomForestClassifier: 84.06 %\n",
            "\n",
            "\n",
            "Lân thứ  32\n",
            "Train Accuracy LogisticRegression : 86.21 %\n",
            "Test Accuracy  LogisticRegression: 88.42 %\n",
            "Train Accuracy RandomForestClassifier: 87.67 %\n",
            "Test Accuracy  RandomForestClassifier: 86.10 %\n",
            "\n",
            "\n",
            "Lân thứ  33\n",
            "Train Accuracy LogisticRegression : 86.32 %\n",
            "Test Accuracy  LogisticRegression: 87.60 %\n",
            "Train Accuracy RandomForestClassifier: 88.14 %\n",
            "Test Accuracy  RandomForestClassifier: 84.88 %\n",
            "\n",
            "\n",
            "Lân thứ  34\n",
            "Train Accuracy LogisticRegression : 87.20 %\n",
            "Test Accuracy  LogisticRegression: 86.10 %\n",
            "Train Accuracy RandomForestClassifier: 88.49 %\n",
            "Test Accuracy  RandomForestClassifier: 84.60 %\n",
            "\n",
            "\n",
            "Lân thứ  35\n",
            "Train Accuracy LogisticRegression : 86.91 %\n",
            "Test Accuracy  LogisticRegression: 86.24 %\n",
            "Train Accuracy RandomForestClassifier: 89.07 %\n",
            "Test Accuracy  RandomForestClassifier: 83.51 %\n",
            "\n",
            "\n",
            "Lân thứ  36\n",
            "Train Accuracy LogisticRegression : 86.79 %\n",
            "Test Accuracy  LogisticRegression: 86.51 %\n",
            "Train Accuracy RandomForestClassifier: 88.78 %\n",
            "Test Accuracy  RandomForestClassifier: 83.24 %\n",
            "\n",
            "\n",
            "Lân thứ  37\n",
            "Train Accuracy LogisticRegression : 86.97 %\n",
            "Test Accuracy  LogisticRegression: 86.10 %\n",
            "Train Accuracy RandomForestClassifier: 88.72 %\n",
            "Test Accuracy  RandomForestClassifier: 84.60 %\n",
            "\n",
            "\n",
            "Lân thứ  38\n",
            "Train Accuracy LogisticRegression : 86.62 %\n",
            "Test Accuracy  LogisticRegression: 87.47 %\n",
            "Train Accuracy RandomForestClassifier: 88.84 %\n",
            "Test Accuracy  RandomForestClassifier: 82.02 %\n",
            "\n",
            "\n",
            "Lân thứ  39\n",
            "Train Accuracy LogisticRegression : 86.50 %\n",
            "Test Accuracy  LogisticRegression: 87.74 %\n",
            "Train Accuracy RandomForestClassifier: 88.54 %\n",
            "Test Accuracy  RandomForestClassifier: 82.70 %\n",
            "\n",
            "\n",
            "Lân thứ  40\n",
            "Train Accuracy LogisticRegression : 87.20 %\n",
            "Test Accuracy  LogisticRegression: 85.56 %\n",
            "Train Accuracy RandomForestClassifier: 89.01 %\n",
            "Test Accuracy  RandomForestClassifier: 83.11 %\n",
            "\n",
            "\n",
            "Lân thứ  41\n",
            "Train Accuracy LogisticRegression : 87.38 %\n",
            "Test Accuracy  LogisticRegression: 85.15 %\n",
            "Train Accuracy RandomForestClassifier: 88.90 %\n",
            "Test Accuracy  RandomForestClassifier: 83.79 %\n",
            "\n",
            "\n",
            "Lân thứ  42\n",
            "Train Accuracy LogisticRegression : 86.73 %\n",
            "Test Accuracy  LogisticRegression: 86.65 %\n",
            "Train Accuracy RandomForestClassifier: 88.43 %\n",
            "Test Accuracy  RandomForestClassifier: 84.47 %\n",
            "\n",
            "\n",
            "Lân thứ  43\n",
            "Train Accuracy LogisticRegression : 86.62 %\n",
            "Test Accuracy  LogisticRegression: 86.92 %\n",
            "Train Accuracy RandomForestClassifier: 88.49 %\n",
            "Test Accuracy  RandomForestClassifier: 84.20 %\n",
            "\n",
            "\n",
            "Lân thứ  44\n",
            "Train Accuracy LogisticRegression : 86.38 %\n",
            "Test Accuracy  LogisticRegression: 88.01 %\n",
            "Train Accuracy RandomForestClassifier: 87.67 %\n",
            "Test Accuracy  RandomForestClassifier: 85.29 %\n",
            "\n",
            "\n",
            "Lân thứ  45\n",
            "Train Accuracy LogisticRegression : 86.97 %\n",
            "Test Accuracy  LogisticRegression: 86.10 %\n",
            "Train Accuracy RandomForestClassifier: 88.49 %\n",
            "Test Accuracy  RandomForestClassifier: 84.06 %\n",
            "\n",
            "\n",
            "Lân thứ  46\n",
            "Train Accuracy LogisticRegression : 86.21 %\n",
            "Test Accuracy  LogisticRegression: 87.87 %\n",
            "Train Accuracy RandomForestClassifier: 88.08 %\n",
            "Test Accuracy  RandomForestClassifier: 84.60 %\n",
            "\n",
            "\n",
            "Lân thứ  47\n",
            "Train Accuracy LogisticRegression : 87.26 %\n",
            "Test Accuracy  LogisticRegression: 85.42 %\n",
            "Train Accuracy RandomForestClassifier: 88.37 %\n",
            "Test Accuracy  RandomForestClassifier: 84.88 %\n",
            "\n",
            "\n",
            "Lân thứ  48\n",
            "Train Accuracy LogisticRegression : 86.62 %\n",
            "Test Accuracy  LogisticRegression: 86.92 %\n",
            "Train Accuracy RandomForestClassifier: 88.49 %\n",
            "Test Accuracy  RandomForestClassifier: 83.51 %\n",
            "\n",
            "\n",
            "Lân thứ  49\n",
            "Train Accuracy LogisticRegression : 88.02 %\n",
            "Test Accuracy  LogisticRegression: 84.20 %\n",
            "Train Accuracy RandomForestClassifier: 89.77 %\n",
            "Test Accuracy  RandomForestClassifier: 81.88 %\n",
            "\n",
            "\n",
            "Lân thứ  50\n",
            "Train Accuracy LogisticRegression : 87.38 %\n",
            "Test Accuracy  LogisticRegression: 85.15 %\n",
            "Train Accuracy RandomForestClassifier: 89.13 %\n",
            "Test Accuracy  RandomForestClassifier: 84.06 %\n",
            "\n",
            "\n",
            "Lân thứ  51\n",
            "Train Accuracy LogisticRegression : 87.26 %\n",
            "Test Accuracy  LogisticRegression: 85.42 %\n",
            "Train Accuracy RandomForestClassifier: 89.13 %\n",
            "Test Accuracy  RandomForestClassifier: 83.11 %\n",
            "\n",
            "\n",
            "Lân thứ  52\n",
            "Train Accuracy LogisticRegression : 86.56 %\n",
            "Test Accuracy  LogisticRegression: 87.60 %\n",
            "Train Accuracy RandomForestClassifier: 88.72 %\n",
            "Test Accuracy  RandomForestClassifier: 83.11 %\n",
            "\n",
            "\n",
            "Lân thứ  53\n",
            "Train Accuracy LogisticRegression : 87.67 %\n",
            "Test Accuracy  LogisticRegression: 85.01 %\n",
            "Train Accuracy RandomForestClassifier: 88.25 %\n",
            "Test Accuracy  RandomForestClassifier: 84.60 %\n",
            "\n",
            "\n",
            "Lân thứ  54\n",
            "Train Accuracy LogisticRegression : 86.85 %\n",
            "Test Accuracy  LogisticRegression: 86.38 %\n",
            "Train Accuracy RandomForestClassifier: 88.66 %\n",
            "Test Accuracy  RandomForestClassifier: 84.60 %\n",
            "\n",
            "\n",
            "Lân thứ  55\n",
            "Train Accuracy LogisticRegression : 86.21 %\n",
            "Test Accuracy  LogisticRegression: 87.87 %\n",
            "Train Accuracy RandomForestClassifier: 88.31 %\n",
            "Test Accuracy  RandomForestClassifier: 84.88 %\n",
            "\n",
            "\n",
            "Lân thứ  56\n",
            "Train Accuracy LogisticRegression : 87.26 %\n",
            "Test Accuracy  LogisticRegression: 85.42 %\n",
            "Train Accuracy RandomForestClassifier: 88.95 %\n",
            "Test Accuracy  RandomForestClassifier: 82.56 %\n",
            "\n",
            "\n",
            "Lân thứ  57\n",
            "Train Accuracy LogisticRegression : 86.56 %\n",
            "Test Accuracy  LogisticRegression: 87.06 %\n",
            "Train Accuracy RandomForestClassifier: 88.72 %\n",
            "Test Accuracy  RandomForestClassifier: 83.65 %\n",
            "\n",
            "\n",
            "Lân thứ  58\n",
            "Train Accuracy LogisticRegression : 87.03 %\n",
            "Test Accuracy  LogisticRegression: 85.97 %\n",
            "Train Accuracy RandomForestClassifier: 88.49 %\n",
            "Test Accuracy  RandomForestClassifier: 84.60 %\n",
            "\n",
            "\n",
            "Lân thứ  59\n",
            "Train Accuracy LogisticRegression : 85.33 %\n",
            "Test Accuracy  LogisticRegression: 91.01 %\n",
            "Train Accuracy RandomForestClassifier: 86.91 %\n",
            "Test Accuracy  RandomForestClassifier: 87.74 %\n",
            "\n",
            "\n",
            "Lân thứ  60\n",
            "Train Accuracy LogisticRegression : 86.79 %\n",
            "Test Accuracy  LogisticRegression: 86.51 %\n",
            "Train Accuracy RandomForestClassifier: 88.19 %\n",
            "Test Accuracy  RandomForestClassifier: 85.29 %\n",
            "\n",
            "\n",
            "Lân thứ  61\n",
            "Train Accuracy LogisticRegression : 86.50 %\n",
            "Test Accuracy  LogisticRegression: 87.19 %\n",
            "Train Accuracy RandomForestClassifier: 88.54 %\n",
            "Test Accuracy  RandomForestClassifier: 83.79 %\n",
            "\n",
            "\n",
            "Lân thứ  62\n",
            "Train Accuracy LogisticRegression : 86.91 %\n",
            "Test Accuracy  LogisticRegression: 86.24 %\n",
            "Train Accuracy RandomForestClassifier: 89.01 %\n",
            "Test Accuracy  RandomForestClassifier: 83.65 %\n",
            "\n",
            "\n",
            "Lân thứ  63\n",
            "Train Accuracy LogisticRegression : 87.38 %\n",
            "Test Accuracy  LogisticRegression: 85.15 %\n",
            "Train Accuracy RandomForestClassifier: 88.90 %\n",
            "Test Accuracy  RandomForestClassifier: 83.65 %\n",
            "\n",
            "\n",
            "Lân thứ  64\n",
            "Train Accuracy LogisticRegression : 87.55 %\n",
            "Test Accuracy  LogisticRegression: 84.74 %\n",
            "Train Accuracy RandomForestClassifier: 89.13 %\n",
            "Test Accuracy  RandomForestClassifier: 83.38 %\n",
            "\n",
            "\n",
            "Lân thứ  65\n",
            "Train Accuracy LogisticRegression : 87.26 %\n",
            "Test Accuracy  LogisticRegression: 85.42 %\n",
            "Train Accuracy RandomForestClassifier: 89.07 %\n",
            "Test Accuracy  RandomForestClassifier: 82.15 %\n",
            "\n",
            "\n",
            "Lân thứ  66\n",
            "Train Accuracy LogisticRegression : 85.91 %\n",
            "Test Accuracy  LogisticRegression: 89.10 %\n",
            "Train Accuracy RandomForestClassifier: 88.14 %\n",
            "Test Accuracy  RandomForestClassifier: 85.83 %\n",
            "\n",
            "\n",
            "Lân thứ  67\n",
            "Train Accuracy LogisticRegression : 86.21 %\n",
            "Test Accuracy  LogisticRegression: 87.87 %\n",
            "Train Accuracy RandomForestClassifier: 87.73 %\n",
            "Test Accuracy  RandomForestClassifier: 85.56 %\n",
            "\n",
            "\n",
            "Lân thứ  68\n",
            "Train Accuracy LogisticRegression : 87.08 %\n",
            "Test Accuracy  LogisticRegression: 85.83 %\n",
            "Train Accuracy RandomForestClassifier: 88.60 %\n",
            "Test Accuracy  RandomForestClassifier: 84.33 %\n",
            "\n",
            "\n",
            "Lân thứ  69\n",
            "Train Accuracy LogisticRegression : 86.85 %\n",
            "Test Accuracy  LogisticRegression: 86.38 %\n",
            "Train Accuracy RandomForestClassifier: 88.37 %\n",
            "Test Accuracy  RandomForestClassifier: 84.33 %\n",
            "\n",
            "\n",
            "Lân thứ  70\n",
            "Train Accuracy LogisticRegression : 86.91 %\n",
            "Test Accuracy  LogisticRegression: 86.78 %\n",
            "Train Accuracy RandomForestClassifier: 88.19 %\n",
            "Test Accuracy  RandomForestClassifier: 84.33 %\n",
            "\n",
            "\n",
            "Lân thứ  71\n",
            "Train Accuracy LogisticRegression : 86.50 %\n",
            "Test Accuracy  LogisticRegression: 87.19 %\n",
            "Train Accuracy RandomForestClassifier: 88.60 %\n",
            "Test Accuracy  RandomForestClassifier: 83.51 %\n",
            "\n",
            "\n",
            "Lân thứ  72\n",
            "Train Accuracy LogisticRegression : 87.38 %\n",
            "Test Accuracy  LogisticRegression: 85.69 %\n",
            "Train Accuracy RandomForestClassifier: 88.90 %\n",
            "Test Accuracy  RandomForestClassifier: 82.97 %\n",
            "\n",
            "\n",
            "Lân thứ  73\n",
            "Train Accuracy LogisticRegression : 87.08 %\n",
            "Test Accuracy  LogisticRegression: 86.38 %\n",
            "Train Accuracy RandomForestClassifier: 88.60 %\n",
            "Test Accuracy  RandomForestClassifier: 84.20 %\n",
            "\n",
            "\n",
            "Lân thứ  74\n",
            "Train Accuracy LogisticRegression : 87.43 %\n",
            "Test Accuracy  LogisticRegression: 85.56 %\n",
            "Train Accuracy RandomForestClassifier: 89.07 %\n",
            "Test Accuracy  RandomForestClassifier: 83.24 %\n",
            "\n",
            "\n",
            "Lân thứ  75\n",
            "Train Accuracy LogisticRegression : 87.14 %\n",
            "Test Accuracy  LogisticRegression: 85.69 %\n",
            "Train Accuracy RandomForestClassifier: 88.90 %\n",
            "Test Accuracy  RandomForestClassifier: 82.29 %\n",
            "\n",
            "\n",
            "Lân thứ  76\n",
            "Train Accuracy LogisticRegression : 87.14 %\n",
            "Test Accuracy  LogisticRegression: 85.69 %\n",
            "Train Accuracy RandomForestClassifier: 89.07 %\n",
            "Test Accuracy  RandomForestClassifier: 82.56 %\n",
            "\n",
            "\n",
            "Lân thứ  77\n",
            "Train Accuracy LogisticRegression : 86.38 %\n",
            "Test Accuracy  LogisticRegression: 87.47 %\n",
            "Train Accuracy RandomForestClassifier: 87.84 %\n",
            "Test Accuracy  RandomForestClassifier: 85.42 %\n",
            "\n",
            "\n",
            "Lân thứ  78\n",
            "Train Accuracy LogisticRegression : 87.08 %\n",
            "Test Accuracy  LogisticRegression: 86.38 %\n",
            "Train Accuracy RandomForestClassifier: 88.66 %\n",
            "Test Accuracy  RandomForestClassifier: 82.97 %\n",
            "\n",
            "\n",
            "Lân thứ  79\n",
            "Train Accuracy LogisticRegression : 86.38 %\n",
            "Test Accuracy  LogisticRegression: 87.47 %\n",
            "Train Accuracy RandomForestClassifier: 88.19 %\n",
            "Test Accuracy  RandomForestClassifier: 84.20 %\n",
            "\n",
            "\n",
            "Lân thứ  80\n",
            "Train Accuracy LogisticRegression : 87.26 %\n",
            "Test Accuracy  LogisticRegression: 85.97 %\n",
            "Train Accuracy RandomForestClassifier: 88.84 %\n",
            "Test Accuracy  RandomForestClassifier: 83.51 %\n",
            "\n",
            "\n",
            "Lân thứ  81\n",
            "Train Accuracy LogisticRegression : 86.85 %\n",
            "Test Accuracy  LogisticRegression: 86.38 %\n",
            "Train Accuracy RandomForestClassifier: 88.43 %\n",
            "Test Accuracy  RandomForestClassifier: 83.92 %\n",
            "\n",
            "\n",
            "Lân thứ  82\n",
            "Train Accuracy LogisticRegression : 87.03 %\n",
            "Test Accuracy  LogisticRegression: 85.97 %\n",
            "Train Accuracy RandomForestClassifier: 88.60 %\n",
            "Test Accuracy  RandomForestClassifier: 83.79 %\n",
            "\n",
            "\n",
            "Lân thứ  83\n",
            "Train Accuracy LogisticRegression : 86.56 %\n",
            "Test Accuracy  LogisticRegression: 87.06 %\n",
            "Train Accuracy RandomForestClassifier: 88.43 %\n",
            "Test Accuracy  RandomForestClassifier: 82.83 %\n",
            "\n",
            "\n",
            "Lân thứ  84\n",
            "Train Accuracy LogisticRegression : 87.90 %\n",
            "Test Accuracy  LogisticRegression: 84.47 %\n",
            "Train Accuracy RandomForestClassifier: 89.07 %\n",
            "Test Accuracy  RandomForestClassifier: 82.56 %\n",
            "\n",
            "\n",
            "Lân thứ  85\n",
            "Train Accuracy LogisticRegression : 86.85 %\n",
            "Test Accuracy  LogisticRegression: 86.38 %\n",
            "Train Accuracy RandomForestClassifier: 88.31 %\n",
            "Test Accuracy  RandomForestClassifier: 84.88 %\n",
            "\n",
            "\n",
            "Lân thứ  86\n",
            "Train Accuracy LogisticRegression : 86.27 %\n",
            "Test Accuracy  LogisticRegression: 88.28 %\n",
            "Train Accuracy RandomForestClassifier: 87.90 %\n",
            "Test Accuracy  RandomForestClassifier: 84.33 %\n",
            "\n",
            "\n",
            "Lân thứ  87\n",
            "Train Accuracy LogisticRegression : 87.73 %\n",
            "Test Accuracy  LogisticRegression: 84.33 %\n",
            "Train Accuracy RandomForestClassifier: 89.13 %\n",
            "Test Accuracy  RandomForestClassifier: 82.70 %\n",
            "\n",
            "\n",
            "Lân thứ  88\n",
            "Train Accuracy LogisticRegression : 86.62 %\n",
            "Test Accuracy  LogisticRegression: 87.47 %\n",
            "Train Accuracy RandomForestClassifier: 88.19 %\n",
            "Test Accuracy  RandomForestClassifier: 83.92 %\n",
            "\n",
            "\n",
            "Lân thứ  89\n",
            "Train Accuracy LogisticRegression : 86.50 %\n",
            "Test Accuracy  LogisticRegression: 87.19 %\n",
            "Train Accuracy RandomForestClassifier: 88.54 %\n",
            "Test Accuracy  RandomForestClassifier: 83.92 %\n",
            "\n",
            "\n",
            "Lân thứ  90\n",
            "Train Accuracy LogisticRegression : 87.20 %\n",
            "Test Accuracy  LogisticRegression: 85.56 %\n",
            "Train Accuracy RandomForestClassifier: 88.90 %\n",
            "Test Accuracy  RandomForestClassifier: 83.11 %\n",
            "\n",
            "\n",
            "Lân thứ  91\n",
            "Train Accuracy LogisticRegression : 86.50 %\n",
            "Test Accuracy  LogisticRegression: 87.19 %\n",
            "Train Accuracy RandomForestClassifier: 88.31 %\n",
            "Test Accuracy  RandomForestClassifier: 84.74 %\n",
            "\n",
            "\n",
            "Lân thứ  92\n",
            "Train Accuracy LogisticRegression : 86.44 %\n",
            "Test Accuracy  LogisticRegression: 87.33 %\n",
            "Train Accuracy RandomForestClassifier: 88.25 %\n",
            "Test Accuracy  RandomForestClassifier: 85.29 %\n",
            "\n",
            "\n",
            "Lân thứ  93\n",
            "Train Accuracy LogisticRegression : 87.14 %\n",
            "Test Accuracy  LogisticRegression: 85.69 %\n",
            "Train Accuracy RandomForestClassifier: 88.54 %\n",
            "Test Accuracy  RandomForestClassifier: 84.47 %\n",
            "\n",
            "\n",
            "Lân thứ  94\n",
            "Train Accuracy LogisticRegression : 87.03 %\n",
            "Test Accuracy  LogisticRegression: 86.51 %\n",
            "Train Accuracy RandomForestClassifier: 88.84 %\n",
            "Test Accuracy  RandomForestClassifier: 83.92 %\n",
            "\n",
            "\n",
            "Lân thứ  95\n",
            "Train Accuracy LogisticRegression : 87.20 %\n",
            "Test Accuracy  LogisticRegression: 85.56 %\n",
            "Train Accuracy RandomForestClassifier: 88.90 %\n",
            "Test Accuracy  RandomForestClassifier: 83.24 %\n",
            "\n",
            "\n",
            "Lân thứ  96\n",
            "Train Accuracy LogisticRegression : 86.56 %\n",
            "Test Accuracy  LogisticRegression: 87.06 %\n",
            "Train Accuracy RandomForestClassifier: 88.14 %\n",
            "Test Accuracy  RandomForestClassifier: 84.47 %\n",
            "\n",
            "\n",
            "Lân thứ  97\n",
            "Train Accuracy LogisticRegression : 87.08 %\n",
            "Test Accuracy  LogisticRegression: 85.83 %\n",
            "Train Accuracy RandomForestClassifier: 88.72 %\n",
            "Test Accuracy  RandomForestClassifier: 84.33 %\n",
            "\n",
            "\n",
            "Lân thứ  98\n",
            "Train Accuracy LogisticRegression : 86.62 %\n",
            "Test Accuracy  LogisticRegression: 87.47 %\n",
            "Train Accuracy RandomForestClassifier: 88.19 %\n",
            "Test Accuracy  RandomForestClassifier: 85.15 %\n",
            "\n",
            "\n",
            "Lân thứ  99\n",
            "Train Accuracy LogisticRegression : 86.97 %\n",
            "Test Accuracy  LogisticRegression: 86.10 %\n",
            "Train Accuracy RandomForestClassifier: 88.25 %\n",
            "Test Accuracy  RandomForestClassifier: 84.88 %\n",
            "\n",
            "\n"
          ]
        }
      ]
    },
    {
      "cell_type": "code",
      "metadata": {
        "colab": {
          "base_uri": "https://localhost:8080/"
        },
        "id": "R0a7Os4VZvhv",
        "outputId": "3f0cf452-80d5-4860-bb63-2618b8d5ced5"
      },
      "source": [
        "# empty = []\n",
        "\n",
        "# for i in df.itertuples():\n",
        "#     if type(review) == str:\n",
        "#         if review.isspace():\n",
        "#             empty.append(i) # will take the index of that review\n",
        "            \n",
        "            \n",
        "# print(f\"There are total {len(empty)} empty strings as review.\")"
      ],
      "execution_count": null,
      "outputs": [
        {
          "output_type": "stream",
          "name": "stdout",
          "text": [
            "There are total 0 empty strings as review.\n"
          ]
        }
      ]
    },
    {
      "cell_type": "code",
      "metadata": {
        "id": "g3G-RpZwZxCy"
      },
      "source": [
        "# Gán Id cho tất cả các từ duy nhất có trong cột views\n",
        "from tensorflow.keras.preprocessing.text import Tokenizer\n",
        "\n",
        "tokenizer = Tokenizer()\n",
        "\n",
        "tokenizer.fit_on_texts(df['views'])"
      ],
      "execution_count": null,
      "outputs": []
    },
    {
      "cell_type": "code",
      "metadata": {
        "colab": {
          "base_uri": "https://localhost:8080/"
        },
        "id": "qdugNYh9aJQy",
        "outputId": "789886e2-aae4-41f7-bed1-a81e730faf52"
      },
      "source": [
        "# Tổng số từ duy nhất có trong tất cả các bản tóm tắt được kết hợp\n",
        "vocab_size = len(tokenizer.index_word)\n",
        "\n",
        "# tokenizer.index word là một từ điển có thể được sử dụng để xem tất cả các từ duy nhất và có ID.\n",
        "\n",
        "print(f'There are total {vocab_size} unique words present')"
      ],
      "execution_count": null,
      "outputs": [
        {
          "output_type": "stream",
          "name": "stdout",
          "text": [
            "There are total 862 unique words present\n"
          ]
        }
      ]
    },
    {
      "cell_type": "code",
      "metadata": {
        "id": "Wt4c2iLlaLz3"
      },
      "source": [
        "# Thay thế từng từ trong bài đánh giá bằng mã thông báo tương ứng\n",
        "sequences = tokenizer.texts_to_sequences(df['views'])\n",
        "tokenizer.index_word"
      ],
      "execution_count": null,
      "outputs": []
    },
    {
      "cell_type": "code",
      "metadata": {
        "colab": {
          "base_uri": "https://localhost:8080/"
        },
        "id": "y24WDrqMaUgy",
        "outputId": "af9d0007-af1a-4720-8710-616b26e2605b"
      },
      "source": [
        "# Tạo mô hình RNN-NLP, mỗi đầu vào phải có độ dài bằng nhau\n",
        "from tensorflow.keras.preprocessing.sequence import pad_sequences\n",
        "\n",
        "# Giữ độ dài của đầu vào là 100. Vì vậy, nếu bất kỳ đầu vào nào có độ dài nhỏ hơn 100, các số 0 thừa sẽ được thêm vào\n",
        "# Bất kỳ đầu vào nào có độ dài hơn 100 sẽ bị loại bỏ từ thừa.\n",
        "sequences_padded = pad_sequences(sequences,maxlen=100,padding='post')\n",
        "sequences_padded"
      ],
      "execution_count": null,
      "outputs": [
        {
          "output_type": "execute_result",
          "data": {
            "text/plain": [
              "array([[  2,   1,  30, ...,   0,   0,   0],\n",
              "       [181, 161, 106, ...,   0,   0,   0],\n",
              "       [  2,   1,  26, ...,   0,   0,   0],\n",
              "       ...,\n",
              "       [  2,   1, 184, ...,   0,   0,   0],\n",
              "       [ 52, 122,  46, ...,   0,   0,   0],\n",
              "       [  2,   1, 253, ...,   0,   0,   0]], dtype=int32)"
            ]
          },
          "metadata": {},
          "execution_count": 48
        }
      ]
    },
    {
      "cell_type": "code",
      "metadata": {
        "colab": {
          "base_uri": "https://localhost:8080/"
        },
        "id": "AjtfGs-qaVlN",
        "outputId": "5cd21719-db71-4b8a-e522-447873cdd0be"
      },
      "source": [
        "df[['Sentiment']] = df[['Sentiment']].astype('int')\n",
        "df['Sentiment'].unique()\n",
        "y = np.array(df['Sentiment'])\n",
        "y"
      ],
      "execution_count": null,
      "outputs": [
        {
          "output_type": "execute_result",
          "data": {
            "text/plain": [
              "array([1, 0, 1, ..., 1, 1, 1])"
            ]
          },
          "metadata": {},
          "execution_count": 49
        }
      ]
    },
    {
      "cell_type": "code",
      "metadata": {
        "id": "d9HxPdyfagWi"
      },
      "source": [
        "# Các biến đầu vào và đầu ra. Chia dữ liệu thành tập hợp test và train\n",
        "from sklearn.model_selection import train_test_split\n",
        "\n",
        "X_train,X_test,y_train,y_test = train_test_split(sequences_padded,y,test_size=0.3)"
      ],
      "execution_count": null,
      "outputs": []
    },
    {
      "cell_type": "code",
      "metadata": {
        "id": "uyxeNmORax9Y"
      },
      "source": [
        "# Các thư viện để tạo và đào tạo mô hình\n",
        "from tensorflow.keras.models import Sequential\n",
        "from tensorflow.keras.layers import Dense\n",
        "from tensorflow.keras.layers import LSTM\n",
        "from tensorflow.keras.layers import Dropout\n",
        "from tensorflow.keras.layers import Embedding"
      ],
      "execution_count": null,
      "outputs": []
    },
    {
      "cell_type": "code",
      "metadata": {
        "colab": {
          "base_uri": "https://localhost:8080/"
        },
        "id": "UnhsaqKaa3Cj",
        "outputId": "62868f12-6262-45b9-b2d3-c961e449766d"
      },
      "source": [
        "# Mô hình\n",
        "max_len = 100 # độ dài của mỗi đầu vào\n",
        "embedding_size = 32\n",
        "\n",
        "model = Sequential()\n",
        "\n",
        "model.add(Embedding(vocab_size+1,embedding_size,input_length = max_len))\n",
        "\n",
        "model.add(LSTM(150,return_sequences=True))\n",
        "model.add(Dropout(0.2))\n",
        "\n",
        "model.add(LSTM(150))\n",
        "model.add(Dropout(0.2))\n",
        "\n",
        "model.add(Dense(256,activation='relu'))\n",
        "model.add(Dropout(0.2))\n",
        "\n",
        "model.add(Dense(128,activation='relu'))\n",
        "\n",
        "model.add(Dense(1,activation='sigmoid'))\n",
        "\n",
        "model.compile(optimizer='adam',loss='binary_crossentropy',metrics=['accuracy'])\n",
        "\n",
        "model.summary()"
      ],
      "execution_count": null,
      "outputs": [
        {
          "output_type": "stream",
          "name": "stdout",
          "text": [
            "Model: \"sequential\"\n",
            "_________________________________________________________________\n",
            "Layer (type)                 Output Shape              Param #   \n",
            "=================================================================\n",
            "embedding (Embedding)        (None, 100, 32)           27616     \n",
            "_________________________________________________________________\n",
            "lstm (LSTM)                  (None, 100, 150)          109800    \n",
            "_________________________________________________________________\n",
            "dropout (Dropout)            (None, 100, 150)          0         \n",
            "_________________________________________________________________\n",
            "lstm_1 (LSTM)                (None, 150)               180600    \n",
            "_________________________________________________________________\n",
            "dropout_1 (Dropout)          (None, 150)               0         \n",
            "_________________________________________________________________\n",
            "dense (Dense)                (None, 256)               38656     \n",
            "_________________________________________________________________\n",
            "dropout_2 (Dropout)          (None, 256)               0         \n",
            "_________________________________________________________________\n",
            "dense_1 (Dense)              (None, 128)               32896     \n",
            "_________________________________________________________________\n",
            "dense_2 (Dense)              (None, 1)                 129       \n",
            "=================================================================\n",
            "Total params: 389,697\n",
            "Trainable params: 389,697\n",
            "Non-trainable params: 0\n",
            "_________________________________________________________________\n"
          ]
        }
      ]
    },
    {
      "cell_type": "code",
      "metadata": {
        "colab": {
          "base_uri": "https://localhost:8080/"
        },
        "id": "BwsZcy7ya9VU",
        "outputId": "b606fcfb-7b88-49c8-c2d9-33b78693d655"
      },
      "source": [
        "# Train mô hình\n",
        "model.fit(X_train,y_train,validation_data=(X_test,y_test),epochs=15,batch_size=64)"
      ],
      "execution_count": null,
      "outputs": [
        {
          "output_type": "stream",
          "name": "stdout",
          "text": [
            "Epoch 1/15\n",
            "27/27 [==============================] - 21s 629ms/step - loss: 0.4540 - accuracy: 0.8451 - val_loss: 0.3962 - val_accuracy: 0.8651\n",
            "Epoch 2/15\n",
            "27/27 [==============================] - 16s 593ms/step - loss: 0.3948 - accuracy: 0.8679 - val_loss: 0.4012 - val_accuracy: 0.8651\n",
            "Epoch 3/15\n",
            "27/27 [==============================] - 16s 592ms/step - loss: 0.3977 - accuracy: 0.8679 - val_loss: 0.3948 - val_accuracy: 0.8651\n",
            "Epoch 4/15\n",
            "27/27 [==============================] - 16s 596ms/step - loss: 0.3928 - accuracy: 0.8679 - val_loss: 0.4055 - val_accuracy: 0.8651\n",
            "Epoch 5/15\n",
            "27/27 [==============================] - 16s 588ms/step - loss: 0.3950 - accuracy: 0.8679 - val_loss: 0.3946 - val_accuracy: 0.8651\n",
            "Epoch 6/15\n",
            "27/27 [==============================] - 16s 589ms/step - loss: 0.3948 - accuracy: 0.8679 - val_loss: 0.3995 - val_accuracy: 0.8651\n",
            "Epoch 7/15\n",
            "27/27 [==============================] - 16s 586ms/step - loss: 0.3949 - accuracy: 0.8679 - val_loss: 0.3946 - val_accuracy: 0.8651\n",
            "Epoch 8/15\n",
            "27/27 [==============================] - 16s 601ms/step - loss: 0.3970 - accuracy: 0.8679 - val_loss: 0.3968 - val_accuracy: 0.8651\n",
            "Epoch 9/15\n",
            "27/27 [==============================] - 16s 591ms/step - loss: 0.3938 - accuracy: 0.8679 - val_loss: 0.3995 - val_accuracy: 0.8624\n",
            "Epoch 10/15\n",
            "27/27 [==============================] - 16s 587ms/step - loss: 0.3910 - accuracy: 0.8691 - val_loss: 0.4142 - val_accuracy: 0.8624\n",
            "Epoch 11/15\n",
            "27/27 [==============================] - 16s 593ms/step - loss: 0.3903 - accuracy: 0.8685 - val_loss: 0.4120 - val_accuracy: 0.8624\n",
            "Epoch 12/15\n",
            "27/27 [==============================] - 16s 587ms/step - loss: 0.3913 - accuracy: 0.8691 - val_loss: 0.4152 - val_accuracy: 0.8624\n",
            "Epoch 13/15\n",
            "27/27 [==============================] - 16s 598ms/step - loss: 0.4035 - accuracy: 0.8679 - val_loss: 0.4058 - val_accuracy: 0.8624\n",
            "Epoch 14/15\n",
            "27/27 [==============================] - 16s 593ms/step - loss: 0.3916 - accuracy: 0.8691 - val_loss: 0.4112 - val_accuracy: 0.8624\n",
            "Epoch 15/15\n",
            "27/27 [==============================] - 16s 592ms/step - loss: 0.3914 - accuracy: 0.8685 - val_loss: 0.4158 - val_accuracy: 0.8624\n"
          ]
        },
        {
          "output_type": "execute_result",
          "data": {
            "text/plain": [
              "<keras.callbacks.History at 0x7f82ece6a8d0>"
            ]
          },
          "metadata": {},
          "execution_count": 66
        }
      ]
    },
    {
      "cell_type": "code",
      "metadata": {
        "colab": {
          "base_uri": "https://localhost:8080/",
          "height": 511
        },
        "id": "v8cCoDblgF0M",
        "outputId": "b423a7ac-3f52-48eb-9b51-29b58c81465a"
      },
      "source": [
        "metrics = pd.DataFrame(model.history.history)\n",
        "\n",
        "metrics"
      ],
      "execution_count": null,
      "outputs": [
        {
          "output_type": "execute_result",
          "data": {
            "text/html": [
              "<div>\n",
              "<style scoped>\n",
              "    .dataframe tbody tr th:only-of-type {\n",
              "        vertical-align: middle;\n",
              "    }\n",
              "\n",
              "    .dataframe tbody tr th {\n",
              "        vertical-align: top;\n",
              "    }\n",
              "\n",
              "    .dataframe thead th {\n",
              "        text-align: right;\n",
              "    }\n",
              "</style>\n",
              "<table border=\"1\" class=\"dataframe\">\n",
              "  <thead>\n",
              "    <tr style=\"text-align: right;\">\n",
              "      <th></th>\n",
              "      <th>loss</th>\n",
              "      <th>accuracy</th>\n",
              "      <th>val_loss</th>\n",
              "      <th>val_accuracy</th>\n",
              "    </tr>\n",
              "  </thead>\n",
              "  <tbody>\n",
              "    <tr>\n",
              "      <th>0</th>\n",
              "      <td>0.453962</td>\n",
              "      <td>0.845120</td>\n",
              "      <td>0.396182</td>\n",
              "      <td>0.865123</td>\n",
              "    </tr>\n",
              "    <tr>\n",
              "      <th>1</th>\n",
              "      <td>0.394770</td>\n",
              "      <td>0.867913</td>\n",
              "      <td>0.401236</td>\n",
              "      <td>0.865123</td>\n",
              "    </tr>\n",
              "    <tr>\n",
              "      <th>2</th>\n",
              "      <td>0.397704</td>\n",
              "      <td>0.867913</td>\n",
              "      <td>0.394829</td>\n",
              "      <td>0.865123</td>\n",
              "    </tr>\n",
              "    <tr>\n",
              "      <th>3</th>\n",
              "      <td>0.392803</td>\n",
              "      <td>0.867913</td>\n",
              "      <td>0.405520</td>\n",
              "      <td>0.865123</td>\n",
              "    </tr>\n",
              "    <tr>\n",
              "      <th>4</th>\n",
              "      <td>0.394966</td>\n",
              "      <td>0.867913</td>\n",
              "      <td>0.394600</td>\n",
              "      <td>0.865123</td>\n",
              "    </tr>\n",
              "    <tr>\n",
              "      <th>5</th>\n",
              "      <td>0.394796</td>\n",
              "      <td>0.867913</td>\n",
              "      <td>0.399452</td>\n",
              "      <td>0.865123</td>\n",
              "    </tr>\n",
              "    <tr>\n",
              "      <th>6</th>\n",
              "      <td>0.394878</td>\n",
              "      <td>0.867913</td>\n",
              "      <td>0.394565</td>\n",
              "      <td>0.865123</td>\n",
              "    </tr>\n",
              "    <tr>\n",
              "      <th>7</th>\n",
              "      <td>0.397031</td>\n",
              "      <td>0.867913</td>\n",
              "      <td>0.396772</td>\n",
              "      <td>0.865123</td>\n",
              "    </tr>\n",
              "    <tr>\n",
              "      <th>8</th>\n",
              "      <td>0.393832</td>\n",
              "      <td>0.867913</td>\n",
              "      <td>0.399528</td>\n",
              "      <td>0.862398</td>\n",
              "    </tr>\n",
              "    <tr>\n",
              "      <th>9</th>\n",
              "      <td>0.390964</td>\n",
              "      <td>0.869082</td>\n",
              "      <td>0.414233</td>\n",
              "      <td>0.862398</td>\n",
              "    </tr>\n",
              "    <tr>\n",
              "      <th>10</th>\n",
              "      <td>0.390334</td>\n",
              "      <td>0.868498</td>\n",
              "      <td>0.412034</td>\n",
              "      <td>0.862398</td>\n",
              "    </tr>\n",
              "    <tr>\n",
              "      <th>11</th>\n",
              "      <td>0.391301</td>\n",
              "      <td>0.869082</td>\n",
              "      <td>0.415205</td>\n",
              "      <td>0.862398</td>\n",
              "    </tr>\n",
              "    <tr>\n",
              "      <th>12</th>\n",
              "      <td>0.403510</td>\n",
              "      <td>0.867913</td>\n",
              "      <td>0.405789</td>\n",
              "      <td>0.862398</td>\n",
              "    </tr>\n",
              "    <tr>\n",
              "      <th>13</th>\n",
              "      <td>0.391634</td>\n",
              "      <td>0.869082</td>\n",
              "      <td>0.411175</td>\n",
              "      <td>0.862398</td>\n",
              "    </tr>\n",
              "    <tr>\n",
              "      <th>14</th>\n",
              "      <td>0.391355</td>\n",
              "      <td>0.868498</td>\n",
              "      <td>0.415757</td>\n",
              "      <td>0.862398</td>\n",
              "    </tr>\n",
              "  </tbody>\n",
              "</table>\n",
              "</div>"
            ],
            "text/plain": [
              "        loss  accuracy  val_loss  val_accuracy\n",
              "0   0.453962  0.845120  0.396182      0.865123\n",
              "1   0.394770  0.867913  0.401236      0.865123\n",
              "2   0.397704  0.867913  0.394829      0.865123\n",
              "3   0.392803  0.867913  0.405520      0.865123\n",
              "4   0.394966  0.867913  0.394600      0.865123\n",
              "5   0.394796  0.867913  0.399452      0.865123\n",
              "6   0.394878  0.867913  0.394565      0.865123\n",
              "7   0.397031  0.867913  0.396772      0.865123\n",
              "8   0.393832  0.867913  0.399528      0.862398\n",
              "9   0.390964  0.869082  0.414233      0.862398\n",
              "10  0.390334  0.868498  0.412034      0.862398\n",
              "11  0.391301  0.869082  0.415205      0.862398\n",
              "12  0.403510  0.867913  0.405789      0.862398\n",
              "13  0.391634  0.869082  0.411175      0.862398\n",
              "14  0.391355  0.868498  0.415757      0.862398"
            ]
          },
          "metadata": {},
          "execution_count": 67
        }
      ]
    },
    {
      "cell_type": "code",
      "metadata": {
        "colab": {
          "base_uri": "https://localhost:8080/",
          "height": 532
        },
        "id": "6yxZJuXCgI6s",
        "outputId": "86958d79-1dc2-4e18-9842-e579ee166acc"
      },
      "source": [
        "metrics[['loss','val_loss']].plot()\n",
        "metrics[['accuracy','val_accuracy']].plot()"
      ],
      "execution_count": null,
      "outputs": [
        {
          "output_type": "execute_result",
          "data": {
            "text/plain": [
              "<matplotlib.axes._subplots.AxesSubplot at 0x7f82ecd932d0>"
            ]
          },
          "metadata": {},
          "execution_count": 68
        },
        {
          "output_type": "display_data",
          "data": {
            "image/png": "[encoded data removed]",
            "text/plain": [
              "<Figure size 432x288 with 1 Axes>"
            ]
          },
          "metadata": {
            "needs_background": "light"
          }
        },
        {
          "output_type": "display_data",
          "data": {
            "image/png": "[encoded data removed]",
            "text/plain": [
              "<Figure size 432x288 with 1 Axes>"
            ]
          },
          "metadata": {
            "needs_background": "light"
          }
        }
      ]
    },
    {
      "cell_type": "code",
      "metadata": {
        "id": "Wo5MvE1tgTM_"
      },
      "source": [
        "# ví dụ một reviews\n",
        "neg_review = ['Nhà trọ hơi bì tù do nhiều phòng, giá hơi cao so với phòbg nhưng được cái nước ko ngập, ở 1 mình ok {tùy chổ, phòng mình 800k, có chổ 1 p 2tr3). Chủ trọ không có ở chung nên cũng thoải mái, đóng tiền trọ chễ ko bị la rầy như chổ khác.']\n",
        "\n"
      ],
      "execution_count": null,
      "outputs": []
    },
    {
      "cell_type": "code",
      "metadata": {
        "id": "V4tHf4UlgWLp"
      },
      "source": [
        "#mã hóa và thực hiện pad_sequence để làm đúng định dạng được chấp nhận bởi mô hình\n",
        "neg_review_token = tokenizer.texts_to_sequences(neg_review)\n",
        "\n",
        "# padding\n",
        "neg_review_padded = pad_sequences(neg_review_token,maxlen=100,padding='post')"
      ],
      "execution_count": null,
      "outputs": []
    },
    {
      "cell_type": "code",
      "metadata": {
        "id": "8Dha5WsjgYra"
      },
      "source": [
        "review_predict = (model.predict(neg_review_padded)>0.5).astype('int32')"
      ],
      "execution_count": null,
      "outputs": []
    },
    {
      "cell_type": "code",
      "metadata": {
        "colab": {
          "base_uri": "https://localhost:8080/"
        },
        "id": "xhTNE_f1gb3H",
        "outputId": "2fa79f14-5628-4bb2-d5f1-40b916491977"
      },
      "source": [
        "# 1 là đánh giá tích cực và 0 là đánh giá tiêu cực\n",
        "if review_predict[0] == 0:\n",
        "    print(\"Đó là một đánh giá tiêu cực\")\n",
        "else:\n",
        "    print(\"Đó là một đánh giá tích cực\")"
      ],
      "execution_count": null,
      "outputs": [
        {
          "output_type": "stream",
          "name": "stdout",
          "text": [
            "It's a positive review\n"
          ]
        }
      ]
    },
    {
      "cell_type": "code",
      "metadata": {
        "colab": {
          "base_uri": "https://localhost:8080/"
        },
        "id": "4-mkVXLrgeMH",
        "outputId": "c220f620-b9c6-49c0-e02b-792c8a44cd20"
      },
      "source": [
        "#Đánh giá tích cực\n",
        "pos_review = [\"Chủ trọ thân thiện dễ gần vui vẻ, trọ ở yên tĩnh. Phòng trọ rộng rãi thoáng mát, có nhiều camera, đặc biệt có chó giữ nhà rất giỏi.\"]\n",
        "\n",
        "#Mã hóa\n",
        "pos_review = tokenizer.texts_to_sequences(pos_review)\n",
        "\n",
        "#padding\n",
        "pos_review = pad_sequences(pos_review,maxlen=100,padding='post')\n",
        "\n",
        "#dự đoán\n",
        "review_predict = (model.predict(pos_review)>0.5).astype('int')\n",
        "\n",
        "if review_predict[0] == 0:\n",
        "    print(\"It's a negative review\")\n",
        "else:\n",
        "    print(\"It's a positive review\")"
      ],
      "execution_count": null,
      "outputs": [
        {
          "output_type": "stream",
          "name": "stdout",
          "text": [
            "It's a positive review\n"
          ]
        }
      ]
    },
    {
      "cell_type": "code",
      "metadata": {
        "colab": {
          "base_uri": "https://localhost:8080/"
        },
        "id": "eXBUTdEyghEL",
        "outputId": "00ee4672-a3c2-4537-9769-259efe42f5f7"
      },
      "source": [
        "# Dự đoán trên X_test\n",
        "prediction = (model.predict(X_test)>0.5).astype('int32')\n",
        "# Đánh giá\n",
        "from sklearn.metrics import classification_report\n",
        "print(classification_report(y_test,prediction))"
      ],
      "execution_count": null,
      "outputs": [
        {
          "output_type": "stream",
          "name": "stdout",
          "text": [
            "              precision    recall  f1-score   support\n",
            "\n",
            "           0       0.00      0.00      0.00        99\n",
            "           1       0.86      1.00      0.93       635\n",
            "\n",
            "    accuracy                           0.86       734\n",
            "   macro avg       0.43      0.50      0.46       734\n",
            "weighted avg       0.75      0.86      0.80       734\n",
            "\n"
          ]
        }
      ]
    }
  ]
}